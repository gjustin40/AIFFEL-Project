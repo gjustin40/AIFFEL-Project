{
 "cells": [
  {
   "cell_type": "markdown",
   "id": "verified-tokyo",
   "metadata": {},
   "source": [
    "# Toy Datasets 분석하기!\n",
    "**3가지 Toy Datasets(Digits, Wine, BreastCancer)을 이용해 분석을 해보자.**\n",
    "- 프로젝트에 제시한 5가지 모델 사용\n",
    "- 각 데이터마다 다른 방법으로 분석 실시\n",
    "- 정확도 향상을 위한 다양한 방법 적용\n",
    "  - **K-Fold Cross Validation**\n",
    "  - **GridSearch**\n"
   ]
  },
  {
   "cell_type": "markdown",
   "id": "terminal-south",
   "metadata": {},
   "source": [
    "## 목차\n",
    "**1. Digits Datasets**\n",
    "  - 데이터 로드\n",
    "  - 데이터 확인\n",
    "  - 비교할 분류기 정의\n",
    "  - 분류기별 결과 저장(학습 및 평가)\n",
    "  - 결과 중 필요한 부분만 추출\n",
    "  - 분류기별 결과 시각화\n",
    "  - 데이터에 맞는 평가 지표는 무엇인가?\n",
    "  \n",
    "<hr>  \n",
    "\n",
    "**2. Wine Datasets**\n",
    "  - 데이터 로드\n",
    "  - 데이터 확인\n",
    "  - 비교할 분류기 정의\n",
    "  - 분류기별 결과 저장(학습 및 평가) - **K-Fold Cross Validation 적용**\n",
    "  - 결과 중 필요한 부분만 추출\n",
    "  - 분류기별 결과 시각화\n",
    "  - 데이터에 맞는 평가 지표는 무엇인가?\n",
    "\n",
    "<hr>  \n",
    "\n",
    "**3. Cancer Breast Datasets**\n",
    "  - 데이터 로드\n",
    "  - 데이터 확인\n",
    "  - 비교할 분류기 정의\n",
    "  - 하이퍼파라미터 조합 정의 - **GridSearch 사전 작업**\n",
    "  - GridSearch 진행(학습 및 평가) - **GridSearch**\n",
    "  - GridSearch 결과확인\n",
    "  - 분류기별 결과 확인\n",
    "  - 분류기별 결과 시각화\n",
    "  - 데이터에 맞는 평가 지표는 무엇인가?"
   ]
  },
  {
   "cell_type": "code",
   "execution_count": 1,
   "id": "exempt-poker",
   "metadata": {},
   "outputs": [],
   "source": [
    "import numpy as np\n",
    "import pandas as pd\n",
    "import matplotlib.pyplot as plt\n",
    "import seaborn as sns\n",
    "\n",
    "from sklearn.model_selection import train_test_split\n",
    "from sklearn.metrics import classification_report\n",
    "from sklearn.preprocessing import StandardScaler\n",
    "from sklearn.pipeline import make_pipeline\n",
    "\n",
    "from sklearn.tree import DecisionTreeClassifier\n",
    "from sklearn.ensemble import RandomForestClassifier\n",
    "from sklearn.svm import SVC\n",
    "from sklearn.linear_model import SGDClassifier\n",
    "from sklearn.linear_model import LogisticRegression\n",
    "\n",
    "np.random.seed(40)"
   ]
  },
  {
   "cell_type": "markdown",
   "id": "aggressive-practice",
   "metadata": {},
   "source": [
    "# Digits Datasets\n",
    "가장 일반적인 방법으로 분석 실행\n",
    "- 사용하고자 하는 모든 분류기에 대해 학습 진행\n",
    "- 정확도 향상을 위한 어떠한 기법도 사용하지 않고 진행"
   ]
  },
  {
   "cell_type": "markdown",
   "id": "universal-memphis",
   "metadata": {},
   "source": [
    "## 데이터 로드\n",
    "- 사용하고자 하는 데이터 로드(Digits dataset)\n",
    "- 단순히 ```train_test_split()```함수를 이용해 train(x,y) test(x,y)로 분리"
   ]
  },
  {
   "cell_type": "code",
   "execution_count": 2,
   "id": "reasonable-catalog",
   "metadata": {},
   "outputs": [
    {
     "data": {
      "text/html": [
       "<div>\n",
       "<style scoped>\n",
       "    .dataframe tbody tr th:only-of-type {\n",
       "        vertical-align: middle;\n",
       "    }\n",
       "\n",
       "    .dataframe tbody tr th {\n",
       "        vertical-align: top;\n",
       "    }\n",
       "\n",
       "    .dataframe thead th {\n",
       "        text-align: right;\n",
       "    }\n",
       "</style>\n",
       "<table border=\"1\" class=\"dataframe\">\n",
       "  <thead>\n",
       "    <tr style=\"text-align: right;\">\n",
       "      <th></th>\n",
       "      <th>pixel_0_0</th>\n",
       "      <th>pixel_0_1</th>\n",
       "      <th>pixel_0_2</th>\n",
       "      <th>pixel_0_3</th>\n",
       "      <th>pixel_0_4</th>\n",
       "      <th>pixel_0_5</th>\n",
       "      <th>pixel_0_6</th>\n",
       "      <th>pixel_0_7</th>\n",
       "      <th>pixel_1_0</th>\n",
       "      <th>pixel_1_1</th>\n",
       "      <th>...</th>\n",
       "      <th>pixel_6_7</th>\n",
       "      <th>pixel_7_0</th>\n",
       "      <th>pixel_7_1</th>\n",
       "      <th>pixel_7_2</th>\n",
       "      <th>pixel_7_3</th>\n",
       "      <th>pixel_7_4</th>\n",
       "      <th>pixel_7_5</th>\n",
       "      <th>pixel_7_6</th>\n",
       "      <th>pixel_7_7</th>\n",
       "      <th>target</th>\n",
       "    </tr>\n",
       "  </thead>\n",
       "  <tbody>\n",
       "    <tr>\n",
       "      <th>0</th>\n",
       "      <td>0.0</td>\n",
       "      <td>0.0</td>\n",
       "      <td>5.0</td>\n",
       "      <td>13.0</td>\n",
       "      <td>9.0</td>\n",
       "      <td>1.0</td>\n",
       "      <td>0.0</td>\n",
       "      <td>0.0</td>\n",
       "      <td>0.0</td>\n",
       "      <td>0.0</td>\n",
       "      <td>...</td>\n",
       "      <td>0.0</td>\n",
       "      <td>0.0</td>\n",
       "      <td>0.0</td>\n",
       "      <td>6.0</td>\n",
       "      <td>13.0</td>\n",
       "      <td>10.0</td>\n",
       "      <td>0.0</td>\n",
       "      <td>0.0</td>\n",
       "      <td>0.0</td>\n",
       "      <td>0</td>\n",
       "    </tr>\n",
       "    <tr>\n",
       "      <th>1</th>\n",
       "      <td>0.0</td>\n",
       "      <td>0.0</td>\n",
       "      <td>0.0</td>\n",
       "      <td>12.0</td>\n",
       "      <td>13.0</td>\n",
       "      <td>5.0</td>\n",
       "      <td>0.0</td>\n",
       "      <td>0.0</td>\n",
       "      <td>0.0</td>\n",
       "      <td>0.0</td>\n",
       "      <td>...</td>\n",
       "      <td>0.0</td>\n",
       "      <td>0.0</td>\n",
       "      <td>0.0</td>\n",
       "      <td>0.0</td>\n",
       "      <td>11.0</td>\n",
       "      <td>16.0</td>\n",
       "      <td>10.0</td>\n",
       "      <td>0.0</td>\n",
       "      <td>0.0</td>\n",
       "      <td>1</td>\n",
       "    </tr>\n",
       "    <tr>\n",
       "      <th>2</th>\n",
       "      <td>0.0</td>\n",
       "      <td>0.0</td>\n",
       "      <td>0.0</td>\n",
       "      <td>4.0</td>\n",
       "      <td>15.0</td>\n",
       "      <td>12.0</td>\n",
       "      <td>0.0</td>\n",
       "      <td>0.0</td>\n",
       "      <td>0.0</td>\n",
       "      <td>0.0</td>\n",
       "      <td>...</td>\n",
       "      <td>0.0</td>\n",
       "      <td>0.0</td>\n",
       "      <td>0.0</td>\n",
       "      <td>0.0</td>\n",
       "      <td>3.0</td>\n",
       "      <td>11.0</td>\n",
       "      <td>16.0</td>\n",
       "      <td>9.0</td>\n",
       "      <td>0.0</td>\n",
       "      <td>2</td>\n",
       "    </tr>\n",
       "    <tr>\n",
       "      <th>3</th>\n",
       "      <td>0.0</td>\n",
       "      <td>0.0</td>\n",
       "      <td>7.0</td>\n",
       "      <td>15.0</td>\n",
       "      <td>13.0</td>\n",
       "      <td>1.0</td>\n",
       "      <td>0.0</td>\n",
       "      <td>0.0</td>\n",
       "      <td>0.0</td>\n",
       "      <td>8.0</td>\n",
       "      <td>...</td>\n",
       "      <td>0.0</td>\n",
       "      <td>0.0</td>\n",
       "      <td>0.0</td>\n",
       "      <td>7.0</td>\n",
       "      <td>13.0</td>\n",
       "      <td>13.0</td>\n",
       "      <td>9.0</td>\n",
       "      <td>0.0</td>\n",
       "      <td>0.0</td>\n",
       "      <td>3</td>\n",
       "    </tr>\n",
       "    <tr>\n",
       "      <th>4</th>\n",
       "      <td>0.0</td>\n",
       "      <td>0.0</td>\n",
       "      <td>0.0</td>\n",
       "      <td>1.0</td>\n",
       "      <td>11.0</td>\n",
       "      <td>0.0</td>\n",
       "      <td>0.0</td>\n",
       "      <td>0.0</td>\n",
       "      <td>0.0</td>\n",
       "      <td>0.0</td>\n",
       "      <td>...</td>\n",
       "      <td>0.0</td>\n",
       "      <td>0.0</td>\n",
       "      <td>0.0</td>\n",
       "      <td>0.0</td>\n",
       "      <td>2.0</td>\n",
       "      <td>16.0</td>\n",
       "      <td>4.0</td>\n",
       "      <td>0.0</td>\n",
       "      <td>0.0</td>\n",
       "      <td>4</td>\n",
       "    </tr>\n",
       "  </tbody>\n",
       "</table>\n",
       "<p>5 rows × 65 columns</p>\n",
       "</div>"
      ],
      "text/plain": [
       "   pixel_0_0  pixel_0_1  pixel_0_2  pixel_0_3  pixel_0_4  pixel_0_5  \\\n",
       "0        0.0        0.0        5.0       13.0        9.0        1.0   \n",
       "1        0.0        0.0        0.0       12.0       13.0        5.0   \n",
       "2        0.0        0.0        0.0        4.0       15.0       12.0   \n",
       "3        0.0        0.0        7.0       15.0       13.0        1.0   \n",
       "4        0.0        0.0        0.0        1.0       11.0        0.0   \n",
       "\n",
       "   pixel_0_6  pixel_0_7  pixel_1_0  pixel_1_1  ...  pixel_6_7  pixel_7_0  \\\n",
       "0        0.0        0.0        0.0        0.0  ...        0.0        0.0   \n",
       "1        0.0        0.0        0.0        0.0  ...        0.0        0.0   \n",
       "2        0.0        0.0        0.0        0.0  ...        0.0        0.0   \n",
       "3        0.0        0.0        0.0        8.0  ...        0.0        0.0   \n",
       "4        0.0        0.0        0.0        0.0  ...        0.0        0.0   \n",
       "\n",
       "   pixel_7_1  pixel_7_2  pixel_7_3  pixel_7_4  pixel_7_5  pixel_7_6  \\\n",
       "0        0.0        6.0       13.0       10.0        0.0        0.0   \n",
       "1        0.0        0.0       11.0       16.0       10.0        0.0   \n",
       "2        0.0        0.0        3.0       11.0       16.0        9.0   \n",
       "3        0.0        7.0       13.0       13.0        9.0        0.0   \n",
       "4        0.0        0.0        2.0       16.0        4.0        0.0   \n",
       "\n",
       "   pixel_7_7  target  \n",
       "0        0.0       0  \n",
       "1        0.0       1  \n",
       "2        0.0       2  \n",
       "3        0.0       3  \n",
       "4        0.0       4  \n",
       "\n",
       "[5 rows x 65 columns]"
      ]
     },
     "execution_count": 2,
     "metadata": {},
     "output_type": "execute_result"
    }
   ],
   "source": [
    "from sklearn.datasets import load_digits\n",
    "X, y = load_digits(return_X_y=True, as_frame=True)\n",
    "\n",
    "df_digits = pd.concat([X, y], axis=1)\n",
    "df_digits.head()"
   ]
  },
  {
   "cell_type": "markdown",
   "id": "convertible-aaron",
   "metadata": {},
   "source": [
    "## 데이터 확인"
   ]
  },
  {
   "cell_type": "code",
   "execution_count": 3,
   "id": "suffering-blake",
   "metadata": {},
   "outputs": [
    {
     "name": "stdout",
     "output_type": "stream",
     "text": [
      "Size of X_Train : (1347, 64)\n",
      "Size of y_Train : (1347,)\n",
      "Size of X_Test : (450, 64)\n",
      "Size of y_Test : (450,)\n"
     ]
    }
   ],
   "source": [
    "X_train, X_test, y_train, y_test = train_test_split(X, y, test_size=0.25, random_state=40)\n",
    "print(f'Size of X_Train : {X_train.shape}')\n",
    "print(f'Size of y_Train : {y_train.shape}')\n",
    "print(f'Size of X_Test : {X_test.shape}')\n",
    "print(f'Size of y_Test : {y_test.shape}')"
   ]
  },
  {
   "cell_type": "markdown",
   "id": "undefined-exhibition",
   "metadata": {},
   "source": [
    "## 비교할 분류기 정의\n",
    "- SVM, LogisticRegression, SGDClassifier의 경우 입력데이터(X)의 scale이 결과에 영향을 주기 때문에<br>\n",
    "  ```StandardScaler()```를 통해 rescale해준다."
   ]
  },
  {
   "cell_type": "code",
   "execution_count": 4,
   "id": "infinite-suffering",
   "metadata": {},
   "outputs": [],
   "source": [
    "cls_dt = DecisionTreeClassifier(random_state=40)                               # DecisionTree\n",
    "cls_rf = RandomForestClassifier(max_depth=2, random_state=40)                  # RandomForest\n",
    "cls_svm = make_pipeline(StandardScaler(), SVC(gamma='auto', random_state=40))  # SVM\n",
    "cls_lr = make_pipeline(StandardScaler(), LogisticRegression(random_state=40))  # LogisticRegression\n",
    "cls_sgd = make_pipeline(StandardScaler(), SGDClassifier(max_iter=1000, \\\n",
    "                                                        tol=1e-3, \\\n",
    "                                                        random_state=40))      # SGDClassifier"
   ]
  },
  {
   "cell_type": "markdown",
   "id": "documented-glasgow",
   "metadata": {},
   "source": [
    "## 분류기별 결과 저장"
   ]
  },
  {
   "cell_type": "code",
   "execution_count": 5,
   "id": "organizational-article",
   "metadata": {},
   "outputs": [
    {
     "name": "stdout",
     "output_type": "stream",
     "text": [
      "Decision Tree Finished\n",
      "Random Forest Finished\n",
      "SVM Finished\n",
      "SGD Finished\n",
      "Logistic Finished\n"
     ]
    }
   ],
   "source": [
    "model_name = ['Decision Tree', 'Random Forest', 'SVM', 'SGD', 'Logistic'] # 분류기 이름\n",
    "model_list = [cls_dt, cls_rf, cls_svm, cls_sgd, cls_lr]                   # 분류기 List\n",
    "\n",
    "results = {} # 학습된 분류기에 Test데이터로 평가한 결과 모음\n",
    "for name, model in zip(model_name, model_list):\n",
    "    y_pred = model.fit(X_train, y_train).predict(X_test)                    # 학습과 예측을 동시에 진행\n",
    "    results[name] = classification_report(y_test, y_pred, output_dict=True) # Test결과 \n",
    "    print(f'{name} Finished')"
   ]
  },
  {
   "cell_type": "markdown",
   "id": "regulation-venue",
   "metadata": {},
   "source": [
    "## 결과 중 필요한 부분만 추출\n",
    "- Accuracy, Macro Average 중 Precision, Recall, F1-score만 사용"
   ]
  },
  {
   "cell_type": "code",
   "execution_count": 6,
   "id": "vietnamese-answer",
   "metadata": {},
   "outputs": [
    {
     "data": {
      "text/html": [
       "<div>\n",
       "<style scoped>\n",
       "    .dataframe tbody tr th:only-of-type {\n",
       "        vertical-align: middle;\n",
       "    }\n",
       "\n",
       "    .dataframe tbody tr th {\n",
       "        vertical-align: top;\n",
       "    }\n",
       "\n",
       "    .dataframe thead th {\n",
       "        text-align: right;\n",
       "    }\n",
       "</style>\n",
       "<table border=\"1\" class=\"dataframe\">\n",
       "  <thead>\n",
       "    <tr style=\"text-align: right;\">\n",
       "      <th></th>\n",
       "      <th>accuracy</th>\n",
       "      <th>precision</th>\n",
       "      <th>recall</th>\n",
       "      <th>f1-score</th>\n",
       "    </tr>\n",
       "  </thead>\n",
       "  <tbody>\n",
       "    <tr>\n",
       "      <th>Decision Tree</th>\n",
       "      <td>0.815556</td>\n",
       "      <td>0.822198</td>\n",
       "      <td>0.820473</td>\n",
       "      <td>0.818340</td>\n",
       "    </tr>\n",
       "    <tr>\n",
       "      <th>Random Forest</th>\n",
       "      <td>0.768889</td>\n",
       "      <td>0.785194</td>\n",
       "      <td>0.784712</td>\n",
       "      <td>0.760032</td>\n",
       "    </tr>\n",
       "    <tr>\n",
       "      <th>SVM</th>\n",
       "      <td>0.980000</td>\n",
       "      <td>0.981678</td>\n",
       "      <td>0.980206</td>\n",
       "      <td>0.980475</td>\n",
       "    </tr>\n",
       "    <tr>\n",
       "      <th>SGD</th>\n",
       "      <td>0.942222</td>\n",
       "      <td>0.946896</td>\n",
       "      <td>0.945540</td>\n",
       "      <td>0.945473</td>\n",
       "    </tr>\n",
       "    <tr>\n",
       "      <th>Logistic</th>\n",
       "      <td>0.968889</td>\n",
       "      <td>0.969742</td>\n",
       "      <td>0.971156</td>\n",
       "      <td>0.970187</td>\n",
       "    </tr>\n",
       "  </tbody>\n",
       "</table>\n",
       "</div>"
      ],
      "text/plain": [
       "               accuracy  precision    recall  f1-score\n",
       "Decision Tree  0.815556   0.822198  0.820473  0.818340\n",
       "Random Forest  0.768889   0.785194  0.784712  0.760032\n",
       "SVM            0.980000   0.981678  0.980206  0.980475\n",
       "SGD            0.942222   0.946896  0.945540  0.945473\n",
       "Logistic       0.968889   0.969742  0.971156  0.970187"
      ]
     },
     "execution_count": 6,
     "metadata": {},
     "output_type": "execute_result"
    }
   ],
   "source": [
    "data = {}\n",
    "for name, score in results.items():\n",
    "    data[name] = {'accuracy' : score['accuracy'], **score['macro avg']} # 딕셔너리 자료형 합치기(merge) \n",
    "    del data[name]['support']  # Support 요소 삭제\n",
    "df_result = pd.DataFrame(data).T # index와 column 바꾸기(전치행렬)\n",
    "df_result"
   ]
  },
  {
   "cell_type": "markdown",
   "id": "fatty-mauritius",
   "metadata": {},
   "source": [
    "## 결과 시각화"
   ]
  },
  {
   "cell_type": "code",
   "execution_count": 7,
   "id": "viral-reserve",
   "metadata": {},
   "outputs": [
    {
     "data": {
      "text/plain": [
       "(0.0, 1.3)"
      ]
     },
     "execution_count": 7,
     "metadata": {},
     "output_type": "execute_result"
    },
    {
     "data": {
      "image/png": "[encoded data removed]",
      "text/plain": [
       "<Figure size 1152x360 with 1 Axes>"
      ]
     },
     "metadata": {
      "needs_background": "light"
     },
     "output_type": "display_data"
    }
   ],
   "source": [
    "df_result['name'] = df_result.index # DataFrame의 index를 column에 추가\n",
    "df_result_melted = df_result.melt(id_vars=['name'], var_name=['metric']) # name을 기준으로 수치들을 모두 한 줄로 정렬\n",
    "                                                                          # metric 열을 추가해 column의 이름들 정렬\n",
    "plt.figure(figsize=(16,5))\n",
    "\n",
    "splot = sns.barplot(x='name', y='value', hue='metric', data=df_result_melted)\n",
    "for p in splot.patches:\n",
    "    splot.annotate(format(p.get_height(), '.2f'), \n",
    "                   (p.get_x() + p.get_width() / 2., p.get_height()), \n",
    "                   ha = 'center', va = 'center', \n",
    "                   size=15,\n",
    "                   xytext = (0, -12), \n",
    "                   textcoords = 'offset points')\n",
    "    \n",
    "plt.title('Test Metrics(Digits Datasets)', fontsize=15)\n",
    "plt.xlabel('Classifier')\n",
    "plt.ylim(0, 1.3)"
   ]
  },
  {
   "cell_type": "markdown",
   "id": "exposed-burke",
   "metadata": {},
   "source": [
    "## 데이터에 맞는 평가 지표는 무엇인가?\n",
    "- Digits Datasets의 경우 사실 Recall과 Precision등의 영향을 받지 않는 데이터이다.<br>\n",
    "- 단순히 정확도만 확인해도 무방하기 때문에 Accuracy를 평가지료로 사용하면 될 것 같다.\n",
    "> **따라서 Digist Datasets은 Accuracy가 가장 높은 SVM 분류기를 사용하면 좋을 것 같다.**"
   ]
  },
  {
   "cell_type": "markdown",
   "id": "binary-jungle",
   "metadata": {},
   "source": [
    "# Wine Dataset\n",
    "> 정확도 향상을 위한 기법 중 하나인 **K-Fold cross validation** 사용\n",
    "- 사용하고자 하는 모든 분류기 학습\n",
    "- 학습 간에 K-Fold cross validation을 사용하여 가장 결과가 좋은 모델 이용\n",
    "- ```cross_validate()```함수를 이용해서 K-Fold cross validation 구현\n",
    "<br>\n",
    "\n",
    "> **K-Fold cross validation**은 Train 데이터 중 일부를 validation 데이터로 사용하는 경우 사용하는 기법이지만,<br>\n",
    "> 데이터의 양이 적기 때문에 그냥 K-Fold cross validation의 결과(즉, validation 결과)를 Test의 결과로 대체"
   ]
  },
  {
   "cell_type": "markdown",
   "id": "promotional-shock",
   "metadata": {},
   "source": [
    "## 데이터 로드\n",
    "- 사용하고자 하는 데이터 로드(Wine Dataset)\n",
    "- K-fold cross validation을 사용하기 위해 Train과 Test로 나누지 않고 X와 y로만 분리\n",
    "- k=5로 설정해여 5가지 경우의 수 중 가장 좋은 분류기 사용"
   ]
  },
  {
   "cell_type": "code",
   "execution_count": 8,
   "id": "needed-silver",
   "metadata": {},
   "outputs": [
    {
     "data": {
      "text/html": [
       "<div>\n",
       "<style scoped>\n",
       "    .dataframe tbody tr th:only-of-type {\n",
       "        vertical-align: middle;\n",
       "    }\n",
       "\n",
       "    .dataframe tbody tr th {\n",
       "        vertical-align: top;\n",
       "    }\n",
       "\n",
       "    .dataframe thead th {\n",
       "        text-align: right;\n",
       "    }\n",
       "</style>\n",
       "<table border=\"1\" class=\"dataframe\">\n",
       "  <thead>\n",
       "    <tr style=\"text-align: right;\">\n",
       "      <th></th>\n",
       "      <th>alcohol</th>\n",
       "      <th>malic_acid</th>\n",
       "      <th>ash</th>\n",
       "      <th>alcalinity_of_ash</th>\n",
       "      <th>magnesium</th>\n",
       "      <th>total_phenols</th>\n",
       "      <th>flavanoids</th>\n",
       "      <th>nonflavanoid_phenols</th>\n",
       "      <th>proanthocyanins</th>\n",
       "      <th>color_intensity</th>\n",
       "      <th>hue</th>\n",
       "      <th>od280/od315_of_diluted_wines</th>\n",
       "      <th>proline</th>\n",
       "      <th>target</th>\n",
       "    </tr>\n",
       "  </thead>\n",
       "  <tbody>\n",
       "    <tr>\n",
       "      <th>0</th>\n",
       "      <td>14.23</td>\n",
       "      <td>1.71</td>\n",
       "      <td>2.43</td>\n",
       "      <td>15.6</td>\n",
       "      <td>127.0</td>\n",
       "      <td>2.80</td>\n",
       "      <td>3.06</td>\n",
       "      <td>0.28</td>\n",
       "      <td>2.29</td>\n",
       "      <td>5.64</td>\n",
       "      <td>1.04</td>\n",
       "      <td>3.92</td>\n",
       "      <td>1065.0</td>\n",
       "      <td>0</td>\n",
       "    </tr>\n",
       "    <tr>\n",
       "      <th>1</th>\n",
       "      <td>13.20</td>\n",
       "      <td>1.78</td>\n",
       "      <td>2.14</td>\n",
       "      <td>11.2</td>\n",
       "      <td>100.0</td>\n",
       "      <td>2.65</td>\n",
       "      <td>2.76</td>\n",
       "      <td>0.26</td>\n",
       "      <td>1.28</td>\n",
       "      <td>4.38</td>\n",
       "      <td>1.05</td>\n",
       "      <td>3.40</td>\n",
       "      <td>1050.0</td>\n",
       "      <td>0</td>\n",
       "    </tr>\n",
       "    <tr>\n",
       "      <th>2</th>\n",
       "      <td>13.16</td>\n",
       "      <td>2.36</td>\n",
       "      <td>2.67</td>\n",
       "      <td>18.6</td>\n",
       "      <td>101.0</td>\n",
       "      <td>2.80</td>\n",
       "      <td>3.24</td>\n",
       "      <td>0.30</td>\n",
       "      <td>2.81</td>\n",
       "      <td>5.68</td>\n",
       "      <td>1.03</td>\n",
       "      <td>3.17</td>\n",
       "      <td>1185.0</td>\n",
       "      <td>0</td>\n",
       "    </tr>\n",
       "    <tr>\n",
       "      <th>3</th>\n",
       "      <td>14.37</td>\n",
       "      <td>1.95</td>\n",
       "      <td>2.50</td>\n",
       "      <td>16.8</td>\n",
       "      <td>113.0</td>\n",
       "      <td>3.85</td>\n",
       "      <td>3.49</td>\n",
       "      <td>0.24</td>\n",
       "      <td>2.18</td>\n",
       "      <td>7.80</td>\n",
       "      <td>0.86</td>\n",
       "      <td>3.45</td>\n",
       "      <td>1480.0</td>\n",
       "      <td>0</td>\n",
       "    </tr>\n",
       "    <tr>\n",
       "      <th>4</th>\n",
       "      <td>13.24</td>\n",
       "      <td>2.59</td>\n",
       "      <td>2.87</td>\n",
       "      <td>21.0</td>\n",
       "      <td>118.0</td>\n",
       "      <td>2.80</td>\n",
       "      <td>2.69</td>\n",
       "      <td>0.39</td>\n",
       "      <td>1.82</td>\n",
       "      <td>4.32</td>\n",
       "      <td>1.04</td>\n",
       "      <td>2.93</td>\n",
       "      <td>735.0</td>\n",
       "      <td>0</td>\n",
       "    </tr>\n",
       "  </tbody>\n",
       "</table>\n",
       "</div>"
      ],
      "text/plain": [
       "   alcohol  malic_acid   ash  alcalinity_of_ash  magnesium  total_phenols  \\\n",
       "0    14.23        1.71  2.43               15.6      127.0           2.80   \n",
       "1    13.20        1.78  2.14               11.2      100.0           2.65   \n",
       "2    13.16        2.36  2.67               18.6      101.0           2.80   \n",
       "3    14.37        1.95  2.50               16.8      113.0           3.85   \n",
       "4    13.24        2.59  2.87               21.0      118.0           2.80   \n",
       "\n",
       "   flavanoids  nonflavanoid_phenols  proanthocyanins  color_intensity   hue  \\\n",
       "0        3.06                  0.28             2.29             5.64  1.04   \n",
       "1        2.76                  0.26             1.28             4.38  1.05   \n",
       "2        3.24                  0.30             2.81             5.68  1.03   \n",
       "3        3.49                  0.24             2.18             7.80  0.86   \n",
       "4        2.69                  0.39             1.82             4.32  1.04   \n",
       "\n",
       "   od280/od315_of_diluted_wines  proline  target  \n",
       "0                          3.92   1065.0       0  \n",
       "1                          3.40   1050.0       0  \n",
       "2                          3.17   1185.0       0  \n",
       "3                          3.45   1480.0       0  \n",
       "4                          2.93    735.0       0  "
      ]
     },
     "execution_count": 8,
     "metadata": {},
     "output_type": "execute_result"
    }
   ],
   "source": [
    "from sklearn.datasets import load_wine\n",
    "X, y = load_wine(return_X_y=True, as_frame=True)\n",
    "\n",
    "df_wine = pd.concat([X, y], axis=1)\n",
    "df_wine.head()"
   ]
  },
  {
   "cell_type": "markdown",
   "id": "funny-jewel",
   "metadata": {},
   "source": [
    "## 데이터 확인"
   ]
  },
  {
   "cell_type": "code",
   "execution_count": 9,
   "id": "metropolitan-chamber",
   "metadata": {},
   "outputs": [
    {
     "name": "stdout",
     "output_type": "stream",
     "text": [
      "Size of Input : (178, 13)\n",
      "Size of Label : (178,)\n"
     ]
    }
   ],
   "source": [
    "print(f'Size of Input : {X.shape}')\n",
    "print(f'Size of Label : {y.shape}')"
   ]
  },
  {
   "cell_type": "markdown",
   "id": "competent-negative",
   "metadata": {},
   "source": [
    "## 비교할 분류기 정의\n",
    "- SVM, LogisticRegression, SGDClassifier의 경우 데이터의 scale이 결과에 영향을 주기 때문에<br>\n",
    "  ```StandardScaler()```를 통해 rescale해준다."
   ]
  },
  {
   "cell_type": "code",
   "execution_count": 10,
   "id": "psychological-young",
   "metadata": {},
   "outputs": [],
   "source": [
    "cls_dt = DecisionTreeClassifier(random_state=40)                               # DecisionTree\n",
    "cls_rf = RandomForestClassifier(max_depth=2, random_state=40)                  # RandomForest\n",
    "cls_svm = make_pipeline(StandardScaler(), SVC(gamma='auto', random_state=40))  # SVM\n",
    "cls_lr = make_pipeline(StandardScaler(), LogisticRegression(random_state=40))  # LogisticRegression\n",
    "cls_sgd = make_pipeline(StandardScaler(), SGDClassifier(max_iter=1000, \\\n",
    "                                                        tol=1e-3, \\\n",
    "                                                        random_state=40))      # SGDClassifier"
   ]
  },
  {
   "cell_type": "markdown",
   "id": "laughing-assist",
   "metadata": {},
   "source": [
    "## 분류기별 결과 저장(학습 및 평가)\n",
    "- ```cross_validate()```함수를 이용해 K-Fold cross validation 구현\n",
    "- k=5인자를 를 통해 5개의 폴더로 나누어서 학습 및 테스트\n",
    "- scoring의 경우 원하는 평가지표만 가지고 왔다\n",
    "  - Accuracy, Precision, Recall, F1-Score\n",
    "\n",
    "> **5개의 결과 중 Accuracy가 가장 높은 경우 한 가지만 추출**"
   ]
  },
  {
   "cell_type": "code",
   "execution_count": 11,
   "id": "vital-romantic",
   "metadata": {
    "scrolled": true
   },
   "outputs": [
    {
     "name": "stdout",
     "output_type": "stream",
     "text": [
      "Decision Tree Finished\n",
      "Random Forest Finished\n",
      "SVM Finished\n",
      "SGD Finished\n",
      "Logistic Finished\n"
     ]
    }
   ],
   "source": [
    "from sklearn.model_selection import cross_val_score, cross_validate, cross_val_predict\n",
    "\n",
    "model_name = ['Decision Tree', 'Random Forest', 'SVM', 'SGD', 'Logistic']\n",
    "model_list = [cls_dt, cls_rf, cls_svm, cls_sgd, cls_lr]\n",
    "scoring = {\n",
    "    'acc': 'accuracy',\n",
    "    'precision': 'precision_macro',\n",
    "    'recall': 'recall_macro',\n",
    "    'f1' : 'f1_macro'}\n",
    "\n",
    "results = {}\n",
    "for name, model in zip(model_name, model_list):\n",
    "    print(f'{name} Finished')\n",
    "    scores = cross_validate(model, X, y, cv=5, scoring=scoring, return_estimator=True)\n",
    "    results[name] = scores"
   ]
  },
  {
   "cell_type": "markdown",
   "id": "neither-armor",
   "metadata": {},
   "source": [
    "## 결과 중 필요한 부분만 추출\n",
    "- Accuracy, Macro Average 중 Precision, Recall, F1-score만 사용"
   ]
  },
  {
   "cell_type": "code",
   "execution_count": 12,
   "id": "sound-confidentiality",
   "metadata": {},
   "outputs": [
    {
     "data": {
      "text/html": [
       "<div>\n",
       "<style scoped>\n",
       "    .dataframe tbody tr th:only-of-type {\n",
       "        vertical-align: middle;\n",
       "    }\n",
       "\n",
       "    .dataframe tbody tr th {\n",
       "        vertical-align: top;\n",
       "    }\n",
       "\n",
       "    .dataframe thead th {\n",
       "        text-align: right;\n",
       "    }\n",
       "</style>\n",
       "<table border=\"1\" class=\"dataframe\">\n",
       "  <thead>\n",
       "    <tr style=\"text-align: right;\">\n",
       "      <th></th>\n",
       "      <th>accuracy</th>\n",
       "      <th>precision</th>\n",
       "      <th>recall</th>\n",
       "      <th>f1-score</th>\n",
       "    </tr>\n",
       "  </thead>\n",
       "  <tbody>\n",
       "    <tr>\n",
       "      <th>Decision Tree</th>\n",
       "      <td>0.861111</td>\n",
       "      <td>0.861472</td>\n",
       "      <td>0.857937</td>\n",
       "      <td>0.858523</td>\n",
       "    </tr>\n",
       "    <tr>\n",
       "      <th>Random Forest</th>\n",
       "      <td>0.944444</td>\n",
       "      <td>0.958333</td>\n",
       "      <td>0.944444</td>\n",
       "      <td>0.947475</td>\n",
       "    </tr>\n",
       "    <tr>\n",
       "      <th>SVM</th>\n",
       "      <td>0.944444</td>\n",
       "      <td>0.958333</td>\n",
       "      <td>0.938889</td>\n",
       "      <td>0.945741</td>\n",
       "    </tr>\n",
       "    <tr>\n",
       "      <th>SGD</th>\n",
       "      <td>0.972222</td>\n",
       "      <td>0.977778</td>\n",
       "      <td>0.972222</td>\n",
       "      <td>0.974013</td>\n",
       "    </tr>\n",
       "    <tr>\n",
       "      <th>Logistic</th>\n",
       "      <td>1.000000</td>\n",
       "      <td>1.000000</td>\n",
       "      <td>1.000000</td>\n",
       "      <td>1.000000</td>\n",
       "    </tr>\n",
       "  </tbody>\n",
       "</table>\n",
       "</div>"
      ],
      "text/plain": [
       "               accuracy  precision    recall  f1-score\n",
       "Decision Tree  0.861111   0.861472  0.857937  0.858523\n",
       "Random Forest  0.944444   0.958333  0.944444  0.947475\n",
       "SVM            0.944444   0.958333  0.938889  0.945741\n",
       "SGD            0.972222   0.977778  0.972222  0.974013\n",
       "Logistic       1.000000   1.000000  1.000000  1.000000"
      ]
     },
     "execution_count": 12,
     "metadata": {},
     "output_type": "execute_result"
    }
   ],
   "source": [
    "data = {}\n",
    "for name, score in results.items():\n",
    "    best_idx = scores['test_acc'].argmax()\n",
    "    \n",
    "    data[name] = {\n",
    "        'accuracy' : score['test_acc'][best_idx],\n",
    "        'precision' : score['test_precision'][best_idx],\n",
    "        'recall' : score['test_recall'][best_idx],\n",
    "        'f1-score' : score['test_f1'][best_idx]}\n",
    "    \n",
    "df_result = pd.DataFrame(data).T\n",
    "df_result"
   ]
  },
  {
   "cell_type": "markdown",
   "id": "fleet-berlin",
   "metadata": {},
   "source": [
    "## 결과 시각화"
   ]
  },
  {
   "cell_type": "code",
   "execution_count": 13,
   "id": "electrical-appeal",
   "metadata": {},
   "outputs": [
    {
     "data": {
      "text/plain": [
       "(0.0, 1.3)"
      ]
     },
     "execution_count": 13,
     "metadata": {},
     "output_type": "execute_result"
    },
    {
     "data": {
      "image/png": "[encoded data removed]",
      "text/plain": [
       "<Figure size 1152x360 with 1 Axes>"
      ]
     },
     "metadata": {
      "needs_background": "light"
     },
     "output_type": "display_data"
    }
   ],
   "source": [
    "df_result['name'] = df_result.index # DataFrame의 index를 column에 추가\n",
    "df_result_melted = df_result.melt(id_vars=['name'], var_name=['metric']) # name을 기준으로 수치들을 모두 한 줄로 정렬\n",
    "                                                                          # metric 열을 추가해 column의 이름들 정렬\n",
    "\n",
    "plt.figure(figsize=(16,5))\n",
    "\n",
    "splot = sns.barplot(x='name', y='value', hue='metric', data=df_result_melted)\n",
    "for p in splot.patches:\n",
    "    splot.annotate(format(p.get_height(), '.2f'), \n",
    "                   (p.get_x() + p.get_width() / 2., p.get_height()), \n",
    "                   ha = 'center', va = 'center', \n",
    "                   size=15,\n",
    "                   xytext = (0, -12), \n",
    "                   textcoords = 'offset points')\n",
    "    \n",
    "plt.title('Test Metrics(Wine Datasets)', fontsize=15)\n",
    "plt.xlabel('Classifier', fontsize=15)\n",
    "plt.ylabel('Value', fontsize=15)\n",
    "plt.ylim(0, 1.3)"
   ]
  },
  {
   "cell_type": "markdown",
   "id": "revised-cooking",
   "metadata": {},
   "source": [
    "## 데이터에 맞는 평가 지표는 무엇인가?\n",
    "- Wine Datasets도 Digits Datasets과 마찬가지로 Recall과 Precision등의 영향을 받지 않는 데이터이다.<br>\n",
    "- Recall, Precision이 골고루 적용된 AUC를 평가지료로 사용하면 될 것 같다.\n",
    "> **따라서 Wine Datasets은 LogisticRegression 분류기를 사용하면 좋을 것 같다.**"
   ]
  },
  {
   "cell_type": "markdown",
   "id": "advance-dispute",
   "metadata": {},
   "source": [
    "# Breast Cancer Dataset\n",
    "> 정확도 향상을 위한 기법 중 하나인 **Grid Search** 사용\n",
    "- 사용하고자 하는 모든 분류기 학습\n",
    "- 학습 간에 GridSearch을 사용하여 가장 결과가 좋은 모델 이용\n",
    "- ```GridSearchCV()```함수를 이용해서 Grid Search 구현\n",
    "  - **특정 분류기에 사용할 수 있는 하이퍼파라미터의 경우를 전부 테스트하는 방법**\n",
    "  - 원하는 파라미터를 지정하고 반복문을 통해 수행\n",
    "  - **GridSearch**의 경우에도 **K-Fold cross validation** 기법이 사용된다.\n",
    "  \n",
    "> 한 모델 당 학습되는 횟수 : K-Fold의 k값(k=5) X GridSearch의 파라미터 개수<br>\n",
    "> 이번 경우에도 K-Fold cross validation의 결과를 Test의 결과로 대체"
   ]
  },
  {
   "cell_type": "markdown",
   "id": "speaking-mainstream",
   "metadata": {},
   "source": [
    "## 데이터 로드\n",
    "- 사용하고자 하는 데이터 로드(Wine Dataset)\n",
    "- K-fold cross validation을 사용하기 위해 Train과 Test로 나누지 않고 X와 y로만 분리\n",
    "- k=5로 설정해여 5가지 경우의 수 중 가장 좋은 분류기 사용"
   ]
  },
  {
   "cell_type": "code",
   "execution_count": 14,
   "id": "incorrect-entrepreneur",
   "metadata": {},
   "outputs": [
    {
     "data": {
      "text/html": [
       "<div>\n",
       "<style scoped>\n",
       "    .dataframe tbody tr th:only-of-type {\n",
       "        vertical-align: middle;\n",
       "    }\n",
       "\n",
       "    .dataframe tbody tr th {\n",
       "        vertical-align: top;\n",
       "    }\n",
       "\n",
       "    .dataframe thead th {\n",
       "        text-align: right;\n",
       "    }\n",
       "</style>\n",
       "<table border=\"1\" class=\"dataframe\">\n",
       "  <thead>\n",
       "    <tr style=\"text-align: right;\">\n",
       "      <th></th>\n",
       "      <th>mean radius</th>\n",
       "      <th>mean texture</th>\n",
       "      <th>mean perimeter</th>\n",
       "      <th>mean area</th>\n",
       "      <th>mean smoothness</th>\n",
       "      <th>mean compactness</th>\n",
       "      <th>mean concavity</th>\n",
       "      <th>mean concave points</th>\n",
       "      <th>mean symmetry</th>\n",
       "      <th>mean fractal dimension</th>\n",
       "      <th>...</th>\n",
       "      <th>worst texture</th>\n",
       "      <th>worst perimeter</th>\n",
       "      <th>worst area</th>\n",
       "      <th>worst smoothness</th>\n",
       "      <th>worst compactness</th>\n",
       "      <th>worst concavity</th>\n",
       "      <th>worst concave points</th>\n",
       "      <th>worst symmetry</th>\n",
       "      <th>worst fractal dimension</th>\n",
       "      <th>target</th>\n",
       "    </tr>\n",
       "  </thead>\n",
       "  <tbody>\n",
       "    <tr>\n",
       "      <th>0</th>\n",
       "      <td>17.99</td>\n",
       "      <td>10.38</td>\n",
       "      <td>122.80</td>\n",
       "      <td>1001.0</td>\n",
       "      <td>0.11840</td>\n",
       "      <td>0.27760</td>\n",
       "      <td>0.3001</td>\n",
       "      <td>0.14710</td>\n",
       "      <td>0.2419</td>\n",
       "      <td>0.07871</td>\n",
       "      <td>...</td>\n",
       "      <td>17.33</td>\n",
       "      <td>184.60</td>\n",
       "      <td>2019.0</td>\n",
       "      <td>0.1622</td>\n",
       "      <td>0.6656</td>\n",
       "      <td>0.7119</td>\n",
       "      <td>0.2654</td>\n",
       "      <td>0.4601</td>\n",
       "      <td>0.11890</td>\n",
       "      <td>0</td>\n",
       "    </tr>\n",
       "    <tr>\n",
       "      <th>1</th>\n",
       "      <td>20.57</td>\n",
       "      <td>17.77</td>\n",
       "      <td>132.90</td>\n",
       "      <td>1326.0</td>\n",
       "      <td>0.08474</td>\n",
       "      <td>0.07864</td>\n",
       "      <td>0.0869</td>\n",
       "      <td>0.07017</td>\n",
       "      <td>0.1812</td>\n",
       "      <td>0.05667</td>\n",
       "      <td>...</td>\n",
       "      <td>23.41</td>\n",
       "      <td>158.80</td>\n",
       "      <td>1956.0</td>\n",
       "      <td>0.1238</td>\n",
       "      <td>0.1866</td>\n",
       "      <td>0.2416</td>\n",
       "      <td>0.1860</td>\n",
       "      <td>0.2750</td>\n",
       "      <td>0.08902</td>\n",
       "      <td>0</td>\n",
       "    </tr>\n",
       "    <tr>\n",
       "      <th>2</th>\n",
       "      <td>19.69</td>\n",
       "      <td>21.25</td>\n",
       "      <td>130.00</td>\n",
       "      <td>1203.0</td>\n",
       "      <td>0.10960</td>\n",
       "      <td>0.15990</td>\n",
       "      <td>0.1974</td>\n",
       "      <td>0.12790</td>\n",
       "      <td>0.2069</td>\n",
       "      <td>0.05999</td>\n",
       "      <td>...</td>\n",
       "      <td>25.53</td>\n",
       "      <td>152.50</td>\n",
       "      <td>1709.0</td>\n",
       "      <td>0.1444</td>\n",
       "      <td>0.4245</td>\n",
       "      <td>0.4504</td>\n",
       "      <td>0.2430</td>\n",
       "      <td>0.3613</td>\n",
       "      <td>0.08758</td>\n",
       "      <td>0</td>\n",
       "    </tr>\n",
       "    <tr>\n",
       "      <th>3</th>\n",
       "      <td>11.42</td>\n",
       "      <td>20.38</td>\n",
       "      <td>77.58</td>\n",
       "      <td>386.1</td>\n",
       "      <td>0.14250</td>\n",
       "      <td>0.28390</td>\n",
       "      <td>0.2414</td>\n",
       "      <td>0.10520</td>\n",
       "      <td>0.2597</td>\n",
       "      <td>0.09744</td>\n",
       "      <td>...</td>\n",
       "      <td>26.50</td>\n",
       "      <td>98.87</td>\n",
       "      <td>567.7</td>\n",
       "      <td>0.2098</td>\n",
       "      <td>0.8663</td>\n",
       "      <td>0.6869</td>\n",
       "      <td>0.2575</td>\n",
       "      <td>0.6638</td>\n",
       "      <td>0.17300</td>\n",
       "      <td>0</td>\n",
       "    </tr>\n",
       "    <tr>\n",
       "      <th>4</th>\n",
       "      <td>20.29</td>\n",
       "      <td>14.34</td>\n",
       "      <td>135.10</td>\n",
       "      <td>1297.0</td>\n",
       "      <td>0.10030</td>\n",
       "      <td>0.13280</td>\n",
       "      <td>0.1980</td>\n",
       "      <td>0.10430</td>\n",
       "      <td>0.1809</td>\n",
       "      <td>0.05883</td>\n",
       "      <td>...</td>\n",
       "      <td>16.67</td>\n",
       "      <td>152.20</td>\n",
       "      <td>1575.0</td>\n",
       "      <td>0.1374</td>\n",
       "      <td>0.2050</td>\n",
       "      <td>0.4000</td>\n",
       "      <td>0.1625</td>\n",
       "      <td>0.2364</td>\n",
       "      <td>0.07678</td>\n",
       "      <td>0</td>\n",
       "    </tr>\n",
       "  </tbody>\n",
       "</table>\n",
       "<p>5 rows × 31 columns</p>\n",
       "</div>"
      ],
      "text/plain": [
       "   mean radius  mean texture  mean perimeter  mean area  mean smoothness  \\\n",
       "0        17.99         10.38          122.80     1001.0          0.11840   \n",
       "1        20.57         17.77          132.90     1326.0          0.08474   \n",
       "2        19.69         21.25          130.00     1203.0          0.10960   \n",
       "3        11.42         20.38           77.58      386.1          0.14250   \n",
       "4        20.29         14.34          135.10     1297.0          0.10030   \n",
       "\n",
       "   mean compactness  mean concavity  mean concave points  mean symmetry  \\\n",
       "0           0.27760          0.3001              0.14710         0.2419   \n",
       "1           0.07864          0.0869              0.07017         0.1812   \n",
       "2           0.15990          0.1974              0.12790         0.2069   \n",
       "3           0.28390          0.2414              0.10520         0.2597   \n",
       "4           0.13280          0.1980              0.10430         0.1809   \n",
       "\n",
       "   mean fractal dimension  ...  worst texture  worst perimeter  worst area  \\\n",
       "0                 0.07871  ...          17.33           184.60      2019.0   \n",
       "1                 0.05667  ...          23.41           158.80      1956.0   \n",
       "2                 0.05999  ...          25.53           152.50      1709.0   \n",
       "3                 0.09744  ...          26.50            98.87       567.7   \n",
       "4                 0.05883  ...          16.67           152.20      1575.0   \n",
       "\n",
       "   worst smoothness  worst compactness  worst concavity  worst concave points  \\\n",
       "0            0.1622             0.6656           0.7119                0.2654   \n",
       "1            0.1238             0.1866           0.2416                0.1860   \n",
       "2            0.1444             0.4245           0.4504                0.2430   \n",
       "3            0.2098             0.8663           0.6869                0.2575   \n",
       "4            0.1374             0.2050           0.4000                0.1625   \n",
       "\n",
       "   worst symmetry  worst fractal dimension  target  \n",
       "0          0.4601                  0.11890       0  \n",
       "1          0.2750                  0.08902       0  \n",
       "2          0.3613                  0.08758       0  \n",
       "3          0.6638                  0.17300       0  \n",
       "4          0.2364                  0.07678       0  \n",
       "\n",
       "[5 rows x 31 columns]"
      ]
     },
     "execution_count": 14,
     "metadata": {},
     "output_type": "execute_result"
    }
   ],
   "source": [
    "from sklearn.datasets import load_breast_cancer\n",
    "X, y = load_breast_cancer(return_X_y=True, as_frame=True)\n",
    "\n",
    "df_breast_cancer = pd.concat([X, y], axis=1)\n",
    "df_breast_cancer.head()"
   ]
  },
  {
   "cell_type": "markdown",
   "id": "applied-freight",
   "metadata": {},
   "source": [
    "## 데이터 확인"
   ]
  },
  {
   "cell_type": "code",
   "execution_count": 15,
   "id": "behind-wallace",
   "metadata": {
    "scrolled": true
   },
   "outputs": [
    {
     "name": "stdout",
     "output_type": "stream",
     "text": [
      "Size of Input : (569, 30)\n",
      "Size of Label : (569,)\n"
     ]
    }
   ],
   "source": [
    "print(f'Size of Input : {X.shape}')\n",
    "print(f'Size of Label : {y.shape}')"
   ]
  },
  {
   "cell_type": "markdown",
   "id": "capable-therapy",
   "metadata": {},
   "source": [
    "## 비교할 분류기 정의\n",
    "- 위 2개의 예시와 다르게 이번 경우는 ```StandardScaler()```를 Pipeline에 묶지 않고 따로 적용<br>\n",
    "- 위 2개의 예시와 다르게 모델을 정의할 때 파라미터값을 넣어주지 않음(GridSearch)\n",
    "- ***GridSearch***를 이용하기 위해 위에서 정의한 **하이퍼파라미터 조합**을 인자로 사용"
   ]
  },
  {
   "cell_type": "code",
   "execution_count": 16,
   "id": "heard-proof",
   "metadata": {},
   "outputs": [],
   "source": [
    "cls_dt = DecisionTreeClassifier(random_state=40)   # DecisionTree\n",
    "cls_rf = RandomForestClassifier(random_state=40)   # RandomForest\n",
    "cls_svm =SVC(random_state=40)                 # SVM\n",
    "cls_lr = LogisticRegression(random_state=40)  # LogisticRegression\n",
    "cls_sgd = SGDClassifier(random_state=40)      # SGDClassifier"
   ]
  },
  {
   "cell_type": "markdown",
   "id": "turkish-childhood",
   "metadata": {},
   "source": [
    "## 하이퍼파라미터 조합 정의\n",
    "- 분류기별 조합 가능한 파라미터 정의"
   ]
  },
  {
   "cell_type": "code",
   "execution_count": 17,
   "id": "substantial-queen",
   "metadata": {},
   "outputs": [],
   "source": [
    "svm_param = {'kernel': ('linear', 'rbf'), 'C': [1, 5, 10]}\n",
    "log_param = {'C': [0.01, 0.1, 1, 10, 100], 'max_iter':[1000]}\n",
    "tree_param = {'criterion': ['gini','entropy'],'max_depth': list(range(5, 21, 5))}\n",
    "forest_param = {\n",
    "    \"n_estimators\": [250, 300],\n",
    "    \"criterion\": [\"gini\", \"entropy\"],\n",
    "    \"max_features\": [3, 5],\n",
    "    \"max_depth\": [10, 20],\n",
    "    \"min_samples_split\": [2, 4]}\n",
    "sgd_param = {\n",
    "    'alpha': [1e-2, 1e-1, 1e0, 1e1, 1e2],\n",
    "    'penalty': ['l2'],\n",
    "    'n_jobs': [-1]}"
   ]
  },
  {
   "cell_type": "markdown",
   "id": "outer-sweden",
   "metadata": {},
   "source": [
    "## Grid Search 진행(학습)\n",
    "- refit='recall' 인자를 통해 Recall값을 기준으로 가장 좋은 모델 반환\n",
    "  - 해당 인자로 인해 recall을 기준으로 계산을 하지만, "
   ]
  },
  {
   "cell_type": "code",
   "execution_count": null,
   "id": "superb-amsterdam",
   "metadata": {},
   "outputs": [
    {
     "name": "stdout",
     "output_type": "stream",
     "text": [
      "GridSearch Start\n",
      "\n",
      "Decision Tree Finished\n"
     ]
    }
   ],
   "source": [
    "from sklearn.model_selection import GridSearchCV\n",
    "\n",
    "model_name = ['Decision Tree', 'Random Forest', 'SVM', 'SGD', 'Logistic']\n",
    "model_list = [cls_dt, cls_rf, cls_svm, cls_sgd, cls_lr]\n",
    "param_list = [tree_param, forest_param, svm_param, sgd_param, log_param] # 분류기별 하이퍼파라미터 List\n",
    "scoring = {'recall': 'recall'} # Recall값을 얻기 위해 인자로 대입\n",
    "\n",
    "scaler = StandardScaler() # 입력값 Scaling 객체 생성\n",
    "scaler.fit(X) # 입력값(X)의 mean과 std 계산\n",
    "X_scaled = scaler.transform(X) # 계산된 mean과 std를 실제 입력값(X)에 적용\n",
    "\n",
    "print('GridSearch Start\\n')\n",
    "\n",
    "data = {}\n",
    "results = {}\n",
    "for name, model, param in zip(model_name, model_list, param_list):\n",
    "    grid_search = GridSearchCV(model, param, cv=5, refit='recall', scoring=scoring) # Recall값을 기준으로 가장 좋은 모델 반환\n",
    "    result = grid_search.fit(X_scaled, y) # GridSearch 실행\n",
    "    results[name] = result.cv_results_ # 분류기별 결과 모음\n",
    "    \n",
    "    data[name] = {\n",
    "        'best_param': result.best_params_, # 각 분류기별 Recall을 기준으로 결과가 가장 좋게 나오게 한 하이퍼파라미터\n",
    "        'best_score': result.best_score_   # 결과가 가장 좋은 모델의 Recall값\n",
    "    }\n",
    "    \n",
    "    print(f'{name} Finished')\n",
    "    \n",
    "print('\\nGridSearch Finished')"
   ]
  },
  {
   "cell_type": "markdown",
   "id": "neutral-damage",
   "metadata": {},
   "source": [
    "## GridSearch 결과 확인\n",
    "- 모델별로 없는 하아파라미터는 NaN값으로 반환\n",
    "- NaN을 파라미터가 없다는 표시 적용"
   ]
  },
  {
   "cell_type": "code",
   "execution_count": null,
   "id": "weighted-settle",
   "metadata": {},
   "outputs": [],
   "source": [
    "df_gridsearch_result = pd.DataFrame(results)\n",
    "df_gridsearch_result.replace(np.nan, 'No Parameter')"
   ]
  },
  {
   "cell_type": "markdown",
   "id": "devoted-manhattan",
   "metadata": {},
   "source": [
    "## 분류기별 결과 확인\n",
    "**Recall** 기준으로 가장 좋은 모델만 확인"
   ]
  },
  {
   "cell_type": "code",
   "execution_count": null,
   "id": "governing-heaven",
   "metadata": {},
   "outputs": [],
   "source": [
    "df_best_cls = pd.DataFrame(data).T\n",
    "df_best_cls"
   ]
  },
  {
   "cell_type": "markdown",
   "id": "everyday-colleague",
   "metadata": {},
   "source": [
    "## 결과 시각화"
   ]
  },
  {
   "cell_type": "code",
   "execution_count": null,
   "id": "broadband-unemployment",
   "metadata": {
    "scrolled": false
   },
   "outputs": [],
   "source": [
    "plt.figure(figsize=(12,5))\n",
    "\n",
    "splot = sns.barplot(x=df_best_cls.index, y=df_best_cls['best_score'], data=df_best_cls)\n",
    "for p in splot.patches:\n",
    "    splot.annotate(format(p.get_height(), '.4f'), \n",
    "                   (p.get_x() + p.get_width() / 2., p.get_height()), \n",
    "                   ha = 'center', va = 'center', \n",
    "                   size=15,\n",
    "                   xytext = (0, -12), \n",
    "                   textcoords = 'offset points')\n",
    "    \n",
    "plt.title('Test Result(Breast Cancer Datasets)', fontsize=15)\n",
    "plt.xlabel('Classifier', fontsize=15)\n",
    "plt.ylabel('recall', fontsize=10)"
   ]
  },
  {
   "cell_type": "markdown",
   "id": "applicable-study",
   "metadata": {},
   "source": [
    "## 데이터에 맞는 평가 지표는 무엇인가?\n",
    "- Breast Cancer Datasets의 경우 사람의 생명과 연관된 데이터셋이기 때문에 판단이 필요하다.<br>\n",
    "- 환자 입장에서는 암이 존재한다고 했을 때 놓치지 않고 검출하는 것이 가장 좋을 것이다.<br>\n",
    "- 만약 암의 존재를 알아차라지 못하면 치료가 늦어져서 생명에 위험이 생기기 때문이다.<br>\n",
    "- 하지만 암이 존재하지 않는데도 불구하고 존재한다고 검출을 했을 때는 그 순간 놀라긴 하지만<br>\n",
    "결과적으로는 문제가 없기 때문에 안심할 수 있다.\n",
    "- Breat Cancer Datasets의 경우 <u><strong>Recall</strong></u>의 지표가 매우 중요한 평가지표로 작용한다!**\n",
    "> **따라서 Recall 수치가 가장 높은 SGDClassifier를 분류기로 사용하면 좋을 것 같다!**"
   ]
  }
 ],
 "metadata": {
  "kernelspec": {
   "display_name": "Python 3",
   "language": "python",
   "name": "python3"
  },
  "language_info": {
   "codemirror_mode": {
    "name": "ipython",
    "version": 3
   },
   "file_extension": ".py",
   "mimetype": "text/x-python",
   "name": "python",
   "nbconvert_exporter": "python",
   "pygments_lexer": "ipython3",
   "version": "3.7.9"
  }
 },
 "nbformat": 4,
 "nbformat_minor": 5
}
