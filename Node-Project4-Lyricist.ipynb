{
 "cells": [
  {
   "cell_type": "markdown",
   "metadata": {},
   "source": [
    "# 곡은 내가 쓸게, 넌 부르기만 해!\n",
    "딥러닝을 이용해 멋진 작사가를 만들어보자!"
   ]
  },
  {
   "cell_type": "markdown",
   "metadata": {},
   "source": [
    "## 목차\n",
    "1. 데이터 로드 및 개수 확인\n",
    "2. 데이터 전처리\n",
    "  - 불필요한 단어 및 특수문자, 공백 제거\n",
    "  - 매우 길거나 짧은 문장 제거\n",
    "3. 데이터 토큰화\n",
    "4. 데이터셋 생성\n",
    "5. 모델 정의\n",
    "6. 모델 학습\n",
    "7. 모델 테스트\n",
    "8. 가사 생성"
   ]
  },
  {
   "cell_type": "code",
   "execution_count": 3,
   "metadata": {},
   "outputs": [],
   "source": [
    "import os\n",
    "\n",
    "import matplotlib.pyplot as plt\n",
    "import pandas as pd\n",
    "import numpy as np\n",
    "import seaborn as sns\n",
    "import glob\n",
    "import re\n"
   ]
  },
  {
   "cell_type": "markdown",
   "metadata": {},
   "source": [
    "# 데이터 로드 및 개수 확인\n",
    "노드에서 제공해준 가사들을 활용"
   ]
  },
  {
   "cell_type": "markdown",
   "metadata": {},
   "source": [
    "#### 노래 개수"
   ]
  },
  {
   "cell_type": "code",
   "execution_count": 4,
   "metadata": {},
   "outputs": [
    {
     "name": "stdout",
     "output_type": "stream",
     "text": [
      "The number of lyrics : 49\n"
     ]
    }
   ],
   "source": [
    "data_path = '../data/lyrics'\n",
    "lyrics_list = glob.glob(os.path.join(data_path, '*'))\n",
    "print(f'The number of lyrics : {len(lyrics_list)}')"
   ]
  },
  {
   "cell_type": "markdown",
   "metadata": {},
   "source": [
    "#### 문장 총 개수"
   ]
  },
  {
   "cell_type": "code",
   "execution_count": 5,
   "metadata": {},
   "outputs": [
    {
     "name": "stdout",
     "output_type": "stream",
     "text": [
      "The number of raw corpus :  187088\n"
     ]
    }
   ],
   "source": [
    "corpus_raw = []                   # 가사별 문장 모음(전처리 전)\n",
    "for lyrics_path in lyrics_list: \n",
    "    with open(lyrics_path, 'r', encoding='UTF8') as f:  # 데이터 decode 시 참고할 수 있는 encoding 방식 명시\n",
    "        sentence = f.read().splitlines()                 # 가사별로 문장 나누기\n",
    "        corpus_raw.extend(sentence)  \n",
    "        \n",
    "print('The number of raw corpus : ', len(corpus_raw))"
   ]
  },
  {
   "cell_type": "markdown",
   "metadata": {},
   "source": [
    "# 데이터 전처리\n",
    "불필요한 데이터들 삭제 및 수정"
   ]
  },
  {
   "cell_type": "markdown",
   "metadata": {},
   "source": [
    "#### 깨끗한 문장 만들기\n",
    "- 모든 단어 소문자로 변경\n",
    "- 특수문자 양쪽에 공백 추가\n",
    "- 의미없는 공백 제거\n",
    "- 토큰화를 위한 Start과 End 추가\n",
    "- 전처리 과정에서 각 문장의 길이 저장\n",
    "\n",
    "#### 문장의 길이에 따라 학습 데이터에 포함할지 결정\n",
    "> **문장에 포함되어 있는 단어의 분포를 이용해 학습에 이용할 문장의 길이 결정**"
   ]
  },
  {
   "cell_type": "code",
   "execution_count": 6,
   "metadata": {},
   "outputs": [],
   "source": [
    "def preprocess_sentence(sentence):\n",
    "    sentence = sentence.lower().strip()                   # 문장의 양쪽 끝 공백 제거\n",
    "    sentence = re.sub(r\"([?.!,¿])\", r\" \\1 \", sentence)   # 문장에 포함된 특수문자 양쪽에 공백 추가(split을 위해)\n",
    "    sentence = re.sub(r'[\" \"]+', \" \", sentence)           # 문장에 2개 이상의 공백 1개로 축소\n",
    "    sentence = re.sub(r\"[^a-zA-Z?.!,¿]+\", \" \", sentence) # 단어 다음에 나오는 특수문자에 공백\n",
    "    sentence = sentence.strip()                           # 위 과정 이후에 생긴 문장 양쪽 끝 공백 제거\n",
    "    sentence = '<start> ' + sentence + ' <end>'           # 학습을 위해 문장별로 Start와 end 토큰 추가\n",
    "    \n",
    "    return sentence\n",
    "\n",
    "corpus = []            # 위 전처리 과정을 한 후에 나온 문장 모음\n",
    "len_of_sentence = []   # 문장의 길이를 파악하기 위한 변수\n",
    "\n",
    "for sentence in corpus_raw:\n",
    "    clean_sentence = preprocess_sentence(sentence)         # 데이터 전처리\n",
    "    corpus.append(clean_sentence)\n",
    "    len_of_sentence.append(len(clean_sentence.split()) - 2) # start와 end 길이에서 제외"
   ]
  },
  {
   "cell_type": "markdown",
   "metadata": {},
   "source": [
    "#### 길이가 길거나 짧은 문장 제거하기(최소길이 결정)\n",
    "전체 문장길이의 분포를 확인한 후 적당한 길이로 설정"
   ]
  },
  {
   "cell_type": "code",
   "execution_count": 7,
   "metadata": {},
   "outputs": [
    {
     "data": {
      "image/png": "[encoded data removed]",
      "text/plain": [
       "<Figure size 1440x360 with 1 Axes>"
      ]
     },
     "metadata": {
      "needs_background": "light"
     },
     "output_type": "display_data"
    }
   ],
   "source": [
    "import collections\n",
    "\n",
    "len_count = collections.Counter(len_of_sentence)\n",
    "\n",
    "s = pd.Series(len_count)\n",
    "s.sort_index(inplace=True)\n",
    "\n",
    "plt.figure(figsize=(20,5))\n",
    "\n",
    "sns.barplot(x=s.index, y=s.values)\n",
    "plt.title('Histogram of Sentences Length', fontsize=15)\n",
    "plt.xlabel('Length of Sentences', fontsize=13)\n",
    "plt.ylabel('Count', fontsize=13)\n",
    "plt.show()"
   ]
  },
  {
   "cell_type": "markdown",
   "metadata": {},
   "source": [
    "#### 1~5크기의 문장에 포함된 단어 개수 확인\n",
    "0~5크기를 가지는 문장속에 존재하는 유니크한 단어들의 개수 count\n",
    "> **문장 길이가 4이상인 문장은 유니크한 단어의 개수가 다양하기 때문에 충분히 노래가사로 사용할 수 있다록 판단**"
   ]
  },
  {
   "cell_type": "code",
   "execution_count": 8,
   "metadata": {
    "scrolled": true
   },
   "outputs": [
    {
     "name": "stdout",
     "output_type": "stream",
     "text": [
      "Except <Start> and <End>\n",
      "-------------------------\n",
      "Number of zero :  2\n",
      "Number of one :  0\n",
      "Number of two :  2287\n",
      "Number of three :  3633\n",
      "Number of four :  5971\n",
      "Number of five :  7617\n"
     ]
    }
   ],
   "source": [
    "zero, one, two, three, four, five = [], [], [], [], [], []\n",
    "for sent in corpus:\n",
    "    sentence_len = (len(sent.split()) - 2)             # start와 end를 포함하지 않은 단어의 개수\n",
    "    if sentence_len == 0: zero.extend(sent.split())    # start와 end 제외한 문장의 길이가 2인 문장에 포함된 단어\n",
    "    elif sentence_len == 1: two.extend(sent.split())   # start와 end 제외한 문장의 길이가 3인 문장에 포함된 단어\n",
    "    elif sentence_len == 2: two.extend(sent.split())   # start와 end 제외한 문장의 길이가 4인 문장에 포함된 단어\n",
    "    elif sentence_len == 3: three.extend(sent.split()) # start와 end 제외한 문장의 길이가 5인 문장에 포함된 단어\n",
    "    elif sentence_len == 4: four.extend(sent.split())  # start와 end 제외한 문장의 길이가 6인 문장에 포함된 단어\n",
    "    elif sentence_len == 5: five.extend(sent.split())  # start와 end 제외한 문장의 길이가 7인 문장에 포함된 단어\n",
    "\n",
    "print('Except <Start> and <End>')\n",
    "print('-'*25)\n",
    "print('Number of zero : ', len(set(zero)))              # 문장길이 2인 문장에 포함된 유니큰한 단어 개수\n",
    "print('Number of one : ', len(set(one)))                # 문장길이 3인 문장에 포함된 유니큰한 단어 개수\n",
    "print('Number of two : ', len(set(two)))                # 문장길이 4인 문장에 포함된 유니큰한 단어 개수\n",
    "print('Number of three : ', len(set(three)))            # 문장길이 5인 문장에 포함된 유니큰한 단어 개수\n",
    "print('Number of four : ', len(set(four)))              # 문장길이 6인 문장에 포함된 유니큰한 단어 개수\n",
    "print('Number of five : ', len(set(five)))              # 문장길이 7인 문장에 포함된 유니큰한 단어 개수"
   ]
  },
  {
   "cell_type": "markdown",
   "metadata": {},
   "source": [
    "#### 최소 문장길이 4 적용"
   ]
  },
  {
   "cell_type": "code",
   "execution_count": 9,
   "metadata": {},
   "outputs": [
    {
     "name": "stdout",
     "output_type": "stream",
     "text": [
      "Number of Sentences : 173573\n"
     ]
    },
    {
     "data": {
      "text/plain": [
       "['<start> at first i was afraid <end>',\n",
       " '<start> i was petrified <end>',\n",
       " '<start> i kept thinking i could never live without you <end>',\n",
       " '<start> by my side but then i spent so many nights <end>',\n",
       " '<start> just thinking how you ve done me wrong <end>']"
      ]
     },
     "execution_count": 9,
     "metadata": {},
     "output_type": "execute_result"
    }
   ],
   "source": [
    "clean_corpus = []                                 # 최종 전처리 된 문장 모음\n",
    "for sentence in corpus:\n",
    "    sentence_len = len(sentence.split())          # 문장의 길이(== 문장에 포함된 단어의 개수)\n",
    "    \n",
    "    if sentence_len < 4:                          # 문장의 길이가 4보다 작으면\n",
    "        continue                                 # 삭제\n",
    "    else:\n",
    "        clean_corpus.append(sentence)    \n",
    "        \n",
    "print('Number of Sentences :', len(clean_corpus))\n",
    "clean_corpus[:5]"
   ]
  },
  {
   "cell_type": "markdown",
   "metadata": {},
   "source": [
    "# 데이터 토큰화\n",
    "수학적 연산을 하기 위해 문자 데이터를 숫자 데이터로 변환\n",
    "> **```tf.tokenizer()```를 이용해 편리하게 변환**"
   ]
  },
  {
   "cell_type": "markdown",
   "metadata": {},
   "source": [
    "#### 토큰화를 위한 토큰 생성기 정의\n",
    "- 각 문자에 대응하는 숫자 사전을 만든다.(7000단어)\n",
    "- 7000단어에 포함되지 않는 문자는 unk으로 대체\n",
    "- 문장을 단어별로 split한 후 각 문자에 대응하는 숫자로 변환\n",
    "- 문장의 최대길이를 15로 설정\n",
    "  - 최대길이가 15보다 작으면 padding값으로 대체(padding=0)\n",
    "  - 최대길이가 15보다 크면 뒷 부분 제거"
   ]
  },
  {
   "cell_type": "code",
   "execution_count": 10,
   "metadata": {},
   "outputs": [],
   "source": [
    "import tensorflow as tf\n",
    "from tensorflow.keras.preprocessing.text import Tokenizer\n",
    "\n",
    "def tokenize(corpus):\n",
    "\n",
    "    # 숫자사전 생성기 정의\n",
    "    tokenizer = Tokenizer( \n",
    "        num_words=12000,    # 12000개의 단어 사용\n",
    "        filters=' ',\n",
    "        oov_token=\"<unk>\") # 사전에 없는 단어는 <unk>으로 대체\n",
    "    \n",
    "    tokenizer.fit_on_texts(corpus)                # corpus에 적용해 숫자사전 생성\n",
    "    tensor = tokenizer.texts_to_sequences(corpus) # 숫자사전을 참조해서 문장 벡터화\n",
    "    \n",
    "    # 길이가 15보다 짧으면 padding값 추가, 15보다 길면 뒷부분 자동 삭제\n",
    "    tensor = tf.keras.preprocessing.sequence.pad_sequences(tensor, padding='post', maxlen=15)  \n",
    "    \n",
    "    return tensor, tokenizer"
   ]
  },
  {
   "cell_type": "markdown",
   "metadata": {},
   "source": [
    "#### 토큰화 적용\n",
    "- ```corpus2vec``` : 문장을 벡터화한 값"
   ]
  },
  {
   "cell_type": "code",
   "execution_count": 11,
   "metadata": {},
   "outputs": [
    {
     "name": "stdout",
     "output_type": "stream",
     "text": [
      "<keras_preprocessing.text.Tokenizer object at 0x7f4199965850>\n",
      "Shape of corpus2vec (173573, 15)\n"
     ]
    },
    {
     "data": {
      "text/plain": [
       "array([[   2,   71,  240, ...,    0,    0,    0],\n",
       "       [   2,    5,   57, ...,    0,    0,    0],\n",
       "       [   2,    5, 1082, ...,    0,    0,    0],\n",
       "       ...,\n",
       "       [   2,   48,   16, ...,    0,    0,    0],\n",
       "       [  25,    9, 2846, ...,  263,   19,    3],\n",
       "       [   2,    6,  180, ...,    0,    0,    0]], dtype=int32)"
      ]
     },
     "execution_count": 11,
     "metadata": {},
     "output_type": "execute_result"
    }
   ],
   "source": [
    "corpus2vec, tokenizer = tokenize(clean_corpus)     # 토큰화 적용\n",
    "\n",
    "print(tokenizer)\n",
    "print('Shape of corpus2vec', corpus2vec.shape)\n",
    "corpus2vec                                          # 숫자사전에 의해 변환된 문장"
   ]
  },
  {
   "cell_type": "markdown",
   "metadata": {},
   "source": [
    "#### 숫자사전 시각화\n",
    "분석에 활용되지는 않고 단지 사전을 보기 위한 코드"
   ]
  },
  {
   "cell_type": "code",
   "execution_count": 12,
   "metadata": {
    "scrolled": true
   },
   "outputs": [
    {
     "data": {
      "text/html": [
       "<div>\n",
       "<style scoped>\n",
       "    .dataframe tbody tr th:only-of-type {\n",
       "        vertical-align: middle;\n",
       "    }\n",
       "\n",
       "    .dataframe tbody tr th {\n",
       "        vertical-align: top;\n",
       "    }\n",
       "\n",
       "    .dataframe thead th {\n",
       "        text-align: right;\n",
       "    }\n",
       "</style>\n",
       "<table border=\"1\" class=\"dataframe\">\n",
       "  <thead>\n",
       "    <tr style=\"text-align: right;\">\n",
       "      <th></th>\n",
       "      <th>idx(1~5)</th>\n",
       "      <th>word(1~5)</th>\n",
       "      <th>idx(6~10)</th>\n",
       "      <th>word(6~10)</th>\n",
       "      <th>idx(11~15)</th>\n",
       "      <th>word(11~15)</th>\n",
       "      <th>idx(16~20)</th>\n",
       "      <th>word(16~20)</th>\n",
       "      <th>idx(21~25)</th>\n",
       "      <th>word(21~25)</th>\n",
       "    </tr>\n",
       "  </thead>\n",
       "  <tbody>\n",
       "    <tr>\n",
       "      <th>0</th>\n",
       "      <td>1</td>\n",
       "      <td>&lt;unk&gt;</td>\n",
       "      <td>6</td>\n",
       "      <td>the</td>\n",
       "      <td>11</td>\n",
       "      <td>it</td>\n",
       "      <td>16</td>\n",
       "      <td>s</td>\n",
       "      <td>21</td>\n",
       "      <td>your</td>\n",
       "    </tr>\n",
       "    <tr>\n",
       "      <th>1</th>\n",
       "      <td>2</td>\n",
       "      <td>&lt;start&gt;</td>\n",
       "      <td>7</td>\n",
       "      <td>you</td>\n",
       "      <td>12</td>\n",
       "      <td>me</td>\n",
       "      <td>17</td>\n",
       "      <td>that</td>\n",
       "      <td>22</td>\n",
       "      <td>m</td>\n",
       "    </tr>\n",
       "    <tr>\n",
       "      <th>2</th>\n",
       "      <td>3</td>\n",
       "      <td>&lt;end&gt;</td>\n",
       "      <td>8</td>\n",
       "      <td>and</td>\n",
       "      <td>13</td>\n",
       "      <td>my</td>\n",
       "      <td>18</td>\n",
       "      <td>on</td>\n",
       "      <td>23</td>\n",
       "      <td>we</td>\n",
       "    </tr>\n",
       "    <tr>\n",
       "      <th>3</th>\n",
       "      <td>4</td>\n",
       "      <td>,</td>\n",
       "      <td>9</td>\n",
       "      <td>a</td>\n",
       "      <td>14</td>\n",
       "      <td>in</td>\n",
       "      <td>19</td>\n",
       "      <td>of</td>\n",
       "      <td>24</td>\n",
       "      <td>all</td>\n",
       "    </tr>\n",
       "    <tr>\n",
       "      <th>4</th>\n",
       "      <td>5</td>\n",
       "      <td>i</td>\n",
       "      <td>10</td>\n",
       "      <td>to</td>\n",
       "      <td>15</td>\n",
       "      <td>t</td>\n",
       "      <td>20</td>\n",
       "      <td>.</td>\n",
       "      <td>25</td>\n",
       "      <td>like</td>\n",
       "    </tr>\n",
       "  </tbody>\n",
       "</table>\n",
       "</div>"
      ],
      "text/plain": [
       "   idx(1~5) word(1~5)  idx(6~10) word(6~10)  idx(11~15) word(11~15)  \\\n",
       "0         1     <unk>          6        the          11          it   \n",
       "1         2   <start>          7        you          12          me   \n",
       "2         3     <end>          8        and          13          my   \n",
       "3         4         ,          9          a          14          in   \n",
       "4         5         i         10         to          15           t   \n",
       "\n",
       "   idx(16~20) word(16~20)  idx(21~25) word(21~25)  \n",
       "0          16           s          21        your  \n",
       "1          17        that          22           m  \n",
       "2          18          on          23          we  \n",
       "3          19          of          24         all  \n",
       "4          20           .          25        like  "
      ]
     },
     "execution_count": 12,
     "metadata": {},
     "output_type": "execute_result"
    }
   ],
   "source": [
    "df_list, word_list, idx_list = [], [], []\n",
    "data = {}\n",
    "\n",
    "for idx, word in tokenizer.index_word.items():\n",
    "    if idx == 30: break\n",
    "        \n",
    "    word_list.append(word)\n",
    "    idx_list.append(idx)\n",
    "    \n",
    "    if idx % 5 == 0:\n",
    "        data[f'idx({idx-4}~{idx})'] = idx_list\n",
    "        data[f'word({idx-4}~{idx})'] = word_list\n",
    "        \n",
    "        df_list.append(pd.DataFrame(data))\n",
    "        \n",
    "        word_list = []\n",
    "        idx_list = []\n",
    "        data = {}\n",
    "    \n",
    "pd.concat(df_list, axis=1)"
   ]
  },
  {
   "cell_type": "markdown",
   "metadata": {},
   "source": [
    "# 데이터셋 생성\n",
    "모델을 학습할 때 입력값(source)과 출력값(target)을 데이터셋 형식으로 정의\n",
    "- 입력값(source) : Start를 시작으로 맨 뒤값인 End를 제외한 문장(== sentence[:-1])\n",
    "- 출력값(target) : Start 다음 단어를 시작으로 End까지의 문장(== sentecne[1:])\n",
    "\n",
    "![rnn](images/rnn-example.png)\n",
    "\n",
    "<br>\n",
    "\n",
    "> 그림에서 **$x_0, x_1, ...., x_n$**이 입력값(source), **$y_0, y1, ...., y_n$**이 출력값(target)"
   ]
  },
  {
   "cell_type": "markdown",
   "metadata": {},
   "source": [
    "#### Source & Target"
   ]
  },
  {
   "cell_type": "code",
   "execution_count": 13,
   "metadata": {},
   "outputs": [
    {
     "name": "stdout",
     "output_type": "stream",
     "text": [
      "Shape of Source : (173573, 14)\n",
      "Shape of Target : (173573, 14)\n"
     ]
    }
   ],
   "source": [
    "src_input = corpus2vec[:, :-1]                # 입력 데이터(input값)\n",
    "tgt_input = corpus2vec[:, 1:]                 # 출력 데이터(output값)\n",
    "\n",
    "print('Shape of Source :', src_input.shape)\n",
    "print('Shape of Target :', tgt_input.shape)"
   ]
  },
  {
   "cell_type": "markdown",
   "metadata": {},
   "source": [
    "#### Train과 Test 분리\n",
    "Train셋 : Test셋 = 80 : 20"
   ]
  },
  {
   "cell_type": "code",
   "execution_count": 14,
   "metadata": {},
   "outputs": [
    {
     "name": "stdout",
     "output_type": "stream",
     "text": [
      "Shape of Train Encoder : (138858, 14)\n",
      "Shape of Train Decoder : (138858, 14)\n",
      "Shape of Test Encoder : (34715, 14)\n",
      "Shape of Test Decoder : (34715, 14)\n"
     ]
    }
   ],
   "source": [
    "from sklearn.model_selection import train_test_split\n",
    "\n",
    "enc_train, enc_test, dec_train, dec_test = train_test_split(src_input, tgt_input, test_size=0.2)\n",
    "print('Shape of Train Encoder :', enc_train.shape)\n",
    "print('Shape of Train Decoder :', dec_train.shape)\n",
    "print('Shape of Test Encoder :', enc_test.shape)\n",
    "print('Shape of Test Decoder :', dec_test.shape)"
   ]
  },
  {
   "cell_type": "markdown",
   "metadata": {},
   "source": [
    "#### 데이터셋 정의\n",
    "Train과 Test를 분리하여 각각의 dataset 정의"
   ]
  },
  {
   "cell_type": "code",
   "execution_count": 15,
   "metadata": {},
   "outputs": [
    {
     "name": "stdout",
     "output_type": "stream",
     "text": [
      "Train Dataset :  <BatchDataset shapes: ((512, 14), (512, 14)), types: (tf.int32, tf.int32)>\n",
      "Test Dataset :  <BatchDataset shapes: ((128, 14), (128, 14)), types: (tf.int32, tf.int32)>\n"
     ]
    }
   ],
   "source": [
    "TRAIN_BUFFER_SIZE = len(enc_train)\n",
    "TEST_BUFFER_SIZE = len(enc_test)\n",
    "\n",
    "TRAIN_BATCH_SIZE = 512\n",
    "TEST_BATCH_SIZE = 128\n",
    "\n",
    "# steps_per_epoch = len(src_input) // BATCH_SIZE\n",
    "\n",
    "VOCAB_SIZE = tokenizer.num_words + 1   \n",
    "\n",
    "trainset = tf.data.Dataset.from_tensor_slices((enc_train, dec_train))    # Train numpy를 dataset형식으로 변환\n",
    "trainset = trainset.shuffle(TRAIN_BUFFER_SIZE)                           # Train dataset 섞기\n",
    "trainset = trainset.batch(TRAIN_BATCH_SIZE, drop_remainder=True)        # Train dataset의 배치사이즈 설정\n",
    " \n",
    "testset = tf.data.Dataset.from_tensor_slices((enc_test, dec_test))       # Test numpy를 dataset형식으로 변환\n",
    "testset = testset.shuffle(TEST_BUFFER_SIZE)                              # Test dataset 섞기\n",
    "testset = testset.batch(TEST_BATCH_SIZE, drop_remainder=True)           # Test dataset의 배치사이즈 설정\n",
    "\n",
    "print('Train Dataset : ', trainset)\n",
    "print('Test Dataset : ', testset)"
   ]
  },
  {
   "cell_type": "markdown",
   "metadata": {},
   "source": [
    "# 모델 정의\n",
    "가사 데이터를 학습시킬 딥러닝 모델 정의\n",
    "- word2vec 역할을 하는 Embedding Layer 1개 사용\n",
    "- LSTM(Long Short-Term Memory) Layer 2개 사용\n",
    "- 출력값을 결정짓는 Fully-Connected Layer 1개 사용\n",
    "- Embedding Size는 256, Hidden Size는 1024"
   ]
  },
  {
   "cell_type": "markdown",
   "metadata": {},
   "source": [
    "#### 학습 모델 정의\n",
    "일반 LSTM 모델"
   ]
  },
  {
   "cell_type": "code",
   "execution_count": 66,
   "metadata": {},
   "outputs": [
    {
     "name": "stdout",
     "output_type": "stream",
     "text": [
      "Shape of model output : (128, 14, 12001)\n",
      "\n",
      "Model: \"text_generator_7\"\n",
      "_________________________________________________________________\n",
      "Layer (type)                 Output Shape              Param #   \n",
      "=================================================================\n",
      "embedding_7 (Embedding)      multiple                  3072256   \n",
      "_________________________________________________________________\n",
      "lstm_14 (LSTM)               multiple                  5246976   \n",
      "_________________________________________________________________\n",
      "lstm_15 (LSTM)               multiple                  8392704   \n",
      "_________________________________________________________________\n",
      "dense_7 (Dense)              multiple                  12301025  \n",
      "=================================================================\n",
      "Total params: 29,012,961\n",
      "Trainable params: 29,012,961\n",
      "Non-trainable params: 0\n",
      "_________________________________________________________________\n"
     ]
    }
   ],
   "source": [
    "class TextGenerator(tf.keras.Model):\n",
    "    def __init__(self, vocab_size, embedding_size, hidden_size):\n",
    "        super().__init__()\n",
    "        \n",
    "        self.embedding = tf.keras.layers.Embedding(vocab_size, embedding_size)     # 단어사전에 의해 변환된 숫자를 벡터로 변환\n",
    "        self.rnn_1 = tf.keras.layers.LSTM(hidden_size, return_sequences=True)     # LSMT Layer \n",
    "        self.rnn_2 = tf.keras.layers.LSTM(hidden_size, return_sequences=True)     # LSMT Layer\n",
    "        self.linear = tf.keras.layers.Dense(vocab_size)                            # 출력 및 단어 예측을 위한 Fully-Connected Layer\n",
    "    \n",
    "    def call(self, x):\n",
    "        out = self.embedding(x)\n",
    "        out = self.rnn_1(out)\n",
    "        out = self.rnn_2(out)\n",
    "        out = self.linear(out)\n",
    "        \n",
    "        return out\n",
    "    \n",
    "embedding_size = 256\n",
    "hidden_size = 1024\n",
    "model_lstm = TextGenerator(tokenizer.num_words + 1, embedding_size , hidden_size)\n",
    "\n",
    "for src_sample, tgt_sample in testset.take(1): break\n",
    "output = model_lstm(src_sample)\n",
    "\n",
    "print(f'Shape of model output : {output.shape}\\n')\n",
    "model_lstm.summary()"
   ]
  },
  {
   "cell_type": "markdown",
   "metadata": {},
   "source": [
    "#### 학습 모델 정의\n",
    "Bi-LSTM 모델"
   ]
  },
  {
   "cell_type": "code",
   "execution_count": 49,
   "metadata": {},
   "outputs": [
    {
     "name": "stdout",
     "output_type": "stream",
     "text": [
      "Shape of model output : (128, 14, 12001)\n",
      "\n",
      "Model: \"text_generator_5\"\n",
      "_________________________________________________________________\n",
      "Layer (type)                 Output Shape              Param #   \n",
      "=================================================================\n",
      "embedding_5 (Embedding)      multiple                  3072256   \n",
      "_________________________________________________________________\n",
      "bidirectional_4 (Bidirection multiple                  10493952  \n",
      "_________________________________________________________________\n",
      "bidirectional_5 (Bidirection multiple                  25174016  \n",
      "_________________________________________________________________\n",
      "dense_5 (Dense)              multiple                  24590049  \n",
      "=================================================================\n",
      "Total params: 63,330,273\n",
      "Trainable params: 63,330,273\n",
      "Non-trainable params: 0\n",
      "_________________________________________________________________\n"
     ]
    }
   ],
   "source": [
    "from tensorflow.keras.layers import Bidirectional, LSTM\n",
    "\n",
    "class TextGenerator(tf.keras.Model):\n",
    "    def __init__(self, vocab_size, embedding_size, hidden_size):\n",
    "        super().__init__()\n",
    "        \n",
    "        self.embedding = tf.keras.layers.Embedding(vocab_size, embedding_size)     # 단어사전에 의해 변환된 숫자를 벡터로 변환\n",
    "        self.rnn_1 = Bidirectional(LSTM(hidden_size, return_sequences=True))     # Bi-LSMT Layer \n",
    "        self.rnn_2 = Bidirectional(LSTM(hidden_size, return_sequences=True))     # Bi-LSMT Layer\n",
    "        self.linear = tf.keras.layers.Dense(vocab_size)                            # 출력 및 단어 예측을 위한 Fully-Connected Layer\n",
    "    \n",
    "    def call(self, x):\n",
    "        out = self.embedding(x)\n",
    "        out = self.rnn_1(out)\n",
    "        out = self.rnn_2(out)\n",
    "        out = self.linear(out)\n",
    "        \n",
    "        return out\n",
    "    \n",
    "embedding_size = 256\n",
    "hidden_size = 1024\n",
    "model_bi_lstm = TextGenerator(tokenizer.num_words + 1, embedding_size , hidden_size)\n",
    "\n",
    "for src_sample, tgt_sample in testset.take(1): break\n",
    "output = model_bi_lstm(src_sample)\n",
    "\n",
    "print(f'Shape of model output : {output.shape}\\n')\n",
    "model_bi_lstm.summary()"
   ]
  },
  {
   "cell_type": "markdown",
   "metadata": {},
   "source": [
    "#### 파라미터 정의\n",
    "- ```Optimzier``` : Adam\n",
    "- ```Loss Function``` : Sparse Categorical Corss Entropy Loss\n",
    "- ```from-logist``` 인자 : 출력값에 softmax함수를 적용\n",
    "- ```reduction``` 인자 : loss값들의 합을 출력"
   ]
  },
  {
   "cell_type": "code",
   "execution_count": 67,
   "metadata": {},
   "outputs": [
    {
     "name": "stdout",
     "output_type": "stream",
     "text": [
      "Optimizer : <tensorflow.python.keras.optimizer_v2.adam.Adam object at 0x7f4108fee950>\n",
      "Loss Function : <tensorflow.python.keras.losses.SparseCategoricalCrossentropy object at 0x7f4108fee410>\n"
     ]
    }
   ],
   "source": [
    "optimizer = tf.keras.optimizers.Adam()                    \n",
    "loss = tf.keras.losses.SparseCategoricalCrossentropy(\n",
    "    from_logits=True, reduction='none')\n",
    "\n",
    "model_lstm.compile(loss=loss, optimizer=optimizer, metrics=['accuracy'])\n",
    "print('Optimizer :', optimizer)\n",
    "print('Loss Function :', loss)"
   ]
  },
  {
   "cell_type": "markdown",
   "metadata": {},
   "source": [
    "# 모델 학습\n",
    "모델의 학습시간이 매우 길어서 다양한 문제가 발생할 것으로 판단 됨.\n",
    "\n",
    "1. 모델이 학습을 하던 중 외부요인에 의해 학습이 중단될 경우\n",
    "> **학습 중간에 현재 state의 가중치값을 저장하여 중간이 되어도 중간부터 진행할 수 있도록 조치**\n",
    "2. 하이퍼파라미터를 수정하며 다양한 실험을 한 후에 결과값을 비교할 필요가 있는 경우\n",
    "> **모델의 학습 결과를 pickle 자료형으로 저장하여 이후에 분석을 할 때 불러와 비교분석 실시**"
   ]
  },
  {
   "cell_type": "markdown",
   "metadata": {},
   "source": [
    "#### 모델 저장"
   ]
  },
  {
   "cell_type": "code",
   "execution_count": 69,
   "metadata": {},
   "outputs": [],
   "source": [
    "checkpoint_path = \"training/LSTM.ckpt\"             # 저장할 가중치의 확장자 및 파일 이름\n",
    "checkpoint_dir = os.path.dirname(checkpoint_path)  # 저장할 경로\n",
    "\n",
    "lstm2_callback = tf.keras.callbacks.ModelCheckpoint(filepath=checkpoint_path, # 학습 시 callback함수를 반환하여 학습\n",
    "                                                 save_weights_only=True,\n",
    "                                                 verbose=1)"
   ]
  },
  {
   "cell_type": "markdown",
   "metadata": {},
   "source": [
    "#### 모델 학습"
   ]
  },
  {
   "cell_type": "code",
   "execution_count": 70,
   "metadata": {
    "scrolled": false
   },
   "outputs": [
    {
     "name": "stdout",
     "output_type": "stream",
     "text": [
      "Epoch 1/20\n",
      "271/271 [==============================] - 178s 647ms/step - loss: 4.6847 - accuracy: 0.3722 - val_loss: 3.5428 - val_accuracy: 0.4555\n",
      "\n",
      "Epoch 00001: saving model to training/LSTM.ckpt\n",
      "Epoch 2/20\n",
      "271/271 [==============================] - 178s 656ms/step - loss: 3.4556 - accuracy: 0.4625 - val_loss: 3.3068 - val_accuracy: 0.4773\n",
      "\n",
      "Epoch 00002: saving model to training/LSTM.ckpt\n",
      "Epoch 3/20\n",
      "271/271 [==============================] - 177s 652ms/step - loss: 3.2366 - accuracy: 0.4805 - val_loss: 3.1785 - val_accuracy: 0.4864\n",
      "\n",
      "Epoch 00003: saving model to training/LSTM.ckpt\n",
      "Epoch 4/20\n",
      "271/271 [==============================] - 177s 653ms/step - loss: 3.0952 - accuracy: 0.4903 - val_loss: 3.0868 - val_accuracy: 0.4929\n",
      "\n",
      "Epoch 00004: saving model to training/LSTM.ckpt\n",
      "Epoch 5/20\n",
      "271/271 [==============================] - 178s 655ms/step - loss: 2.9819 - accuracy: 0.4978 - val_loss: 3.0075 - val_accuracy: 0.4997\n",
      "\n",
      "Epoch 00005: saving model to training/LSTM.ckpt\n",
      "Epoch 6/20\n",
      "271/271 [==============================] - 178s 655ms/step - loss: 2.8835 - accuracy: 0.5053 - val_loss: 2.9456 - val_accuracy: 0.5059\n",
      "\n",
      "Epoch 00006: saving model to training/LSTM.ckpt\n",
      "Epoch 7/20\n",
      "271/271 [==============================] - 177s 653ms/step - loss: 2.7940 - accuracy: 0.5124 - val_loss: 2.8945 - val_accuracy: 0.5119\n",
      "\n",
      "Epoch 00007: saving model to training/LSTM.ckpt\n",
      "Epoch 8/20\n",
      "271/271 [==============================] - 177s 652ms/step - loss: 2.7053 - accuracy: 0.5200 - val_loss: 2.8440 - val_accuracy: 0.5173\n",
      "\n",
      "Epoch 00008: saving model to training/LSTM.ckpt\n",
      "Epoch 9/20\n",
      "271/271 [==============================] - 177s 654ms/step - loss: 2.6253 - accuracy: 0.5277 - val_loss: 2.8018 - val_accuracy: 0.5222\n",
      "\n",
      "Epoch 00009: saving model to training/LSTM.ckpt\n",
      "Epoch 10/20\n",
      "271/271 [==============================] - 177s 652ms/step - loss: 2.5501 - accuracy: 0.5346 - val_loss: 2.7641 - val_accuracy: 0.5276\n",
      "\n",
      "Epoch 00010: saving model to training/LSTM.ckpt\n",
      "Epoch 11/20\n",
      "271/271 [==============================] - 177s 652ms/step - loss: 2.4721 - accuracy: 0.5432 - val_loss: 2.7275 - val_accuracy: 0.5333\n",
      "\n",
      "Epoch 00011: saving model to training/LSTM.ckpt\n",
      "Epoch 12/20\n",
      "271/271 [==============================] - 176s 650ms/step - loss: 2.4004 - accuracy: 0.5511 - val_loss: 2.6988 - val_accuracy: 0.5376\n",
      "\n",
      "Epoch 00012: saving model to training/LSTM.ckpt\n",
      "Epoch 13/20\n",
      "271/271 [==============================] - 177s 654ms/step - loss: 2.3292 - accuracy: 0.5603 - val_loss: 2.6714 - val_accuracy: 0.5422\n",
      "\n",
      "Epoch 00013: saving model to training/LSTM.ckpt\n",
      "Epoch 14/20\n",
      "271/271 [==============================] - 177s 652ms/step - loss: 2.2604 - accuracy: 0.5694 - val_loss: 2.6479 - val_accuracy: 0.5473\n",
      "\n",
      "Epoch 00014: saving model to training/LSTM.ckpt\n",
      "Epoch 15/20\n",
      "271/271 [==============================] - 176s 649ms/step - loss: 2.1891 - accuracy: 0.5797 - val_loss: 2.6242 - val_accuracy: 0.5532\n",
      "\n",
      "Epoch 00015: saving model to training/LSTM.ckpt\n",
      "Epoch 16/20\n",
      "271/271 [==============================] - 177s 651ms/step - loss: 2.1236 - accuracy: 0.5897 - val_loss: 2.6041 - val_accuracy: 0.5578\n",
      "\n",
      "Epoch 00016: saving model to training/LSTM.ckpt\n",
      "Epoch 17/20\n",
      "271/271 [==============================] - 177s 653ms/step - loss: 2.0584 - accuracy: 0.5998 - val_loss: 2.5882 - val_accuracy: 0.5621\n",
      "\n",
      "Epoch 00017: saving model to training/LSTM.ckpt\n",
      "Epoch 18/20\n",
      "271/271 [==============================] - 177s 652ms/step - loss: 1.9924 - accuracy: 0.6105 - val_loss: 2.5708 - val_accuracy: 0.5665\n",
      "\n",
      "Epoch 00018: saving model to training/LSTM.ckpt\n",
      "Epoch 19/20\n",
      "271/271 [==============================] - 176s 649ms/step - loss: 1.9327 - accuracy: 0.6208 - val_loss: 2.5581 - val_accuracy: 0.5713\n",
      "\n",
      "Epoch 00019: saving model to training/LSTM.ckpt\n",
      "Epoch 20/20\n",
      "271/271 [==============================] - 176s 648ms/step - loss: 1.8661 - accuracy: 0.6322 - val_loss: 2.5434 - val_accuracy: 0.5758\n",
      "\n",
      "Epoch 00020: saving model to training/LSTM.ckpt\n"
     ]
    }
   ],
   "source": [
    "history_lstm = model_lstm.fit(trainset, epochs=20, callbacks=[lstm2_callback], validation_data=testset)"
   ]
  },
  {
   "cell_type": "markdown",
   "metadata": {},
   "source": [
    "#### 학습결과 저장 및 불러오기"
   ]
  },
  {
   "cell_type": "code",
   "execution_count": 77,
   "metadata": {},
   "outputs": [],
   "source": [
    "import pickle\n",
    "\n",
    "with open('lstm_training.pkl', 'wb') as f:\n",
    "    pickle.dump(history_lstm.history, f)\n",
    "    \n",
    "\n",
    "with open('lstm_training.pkl', 'rb') as f:\n",
    "    history_lstm = pickle.load(f)"
   ]
  },
  {
   "cell_type": "markdown",
   "metadata": {},
   "source": [
    "# 학습 결과 시각화\n",
    "LSTM 모델과 Bi-LSTM모델을 비교분석\n",
    "- 일반 LSTM에 비해 Bi-LSTM의 학습속도가 더 빠르다.\n",
    "- 문장 생성 model에서 Accuracy가 모델의 정확도에 대한 지표라고 말하기는 힘들 것 같다.\n",
    "> **Loss값의 감소 속도를 통해 LSTM와 Bi-LSTM의 학습능력 차이를 볼 수 있다**"
   ]
  },
  {
   "cell_type": "code",
   "execution_count": 79,
   "metadata": {},
   "outputs": [
    {
     "data": {
      "image/png": "[encoded data removed]",
      "text/plain": [
       "<Figure size 1080x360 with 2 Axes>"
      ]
     },
     "metadata": {
      "needs_background": "light"
     },
     "output_type": "display_data"
    }
   ],
   "source": [
    "plt.figure(figsize=(15,5))\n",
    "\n",
    "plt.subplot(1,2,1)\n",
    "plt.plot(history_lstm['loss'])\n",
    "plt.plot(history_bi['loss'])\n",
    "plt.xlabel('epoch')\n",
    "plt.ylabel('Loss')\n",
    "plt.legend(['LSTM', 'Bi-LSTM'], loc='upper right')\n",
    "plt.title('LSTM vs Bi-LSTM(Loss)')\n",
    "\n",
    "plt.subplot(1,2,2)\n",
    "plt.plot(history_lstm['accuracy'])\n",
    "plt.plot(history_bi['accuracy'])\n",
    "plt.xlabel('epoch')\n",
    "plt.ylabel('Accuracy')\n",
    "plt.legend(['LSTM', 'Bi-LSTM'], loc='upper right')\n",
    "plt.title('LSTM vs Bi-LSTM(Accuracy)')\n",
    "\n",
    "plt.show()"
   ]
  },
  {
   "cell_type": "markdown",
   "metadata": {},
   "source": [
    "# 문장 생성하기\n",
    "학습된 모델을 이용하여 작곡을 해보자!"
   ]
  },
  {
   "cell_type": "markdown",
   "metadata": {},
   "source": [
    "#### 문장 생성하는 함수 정의\n",
    "```while``` 반복문을 이용해 End 토큰이 나오거나 문장길이가 15개가 나올 떄까지 반복수행하여 문장 생성"
   ]
  },
  {
   "cell_type": "code",
   "execution_count": 80,
   "metadata": {},
   "outputs": [],
   "source": [
    "def generate_text(model, tokenizer, init_sentence=\"<start>\", max_len=20):\n",
    "    # 테스트를 위해서 입력받은 init_sentence도 텐서로 변환합니다\n",
    "    test_input = tokenizer.texts_to_sequences([init_sentence])\n",
    "    test_tensor = tf.convert_to_tensor(test_input, dtype=tf.int64)\n",
    "    end_token = tokenizer.word_index[\"<end>\"]\n",
    "\n",
    "    # 단어 하나씩 예측해 문장을 만듭니다\n",
    "    #    1. 입력받은 문장의 텐서를 입력합니다\n",
    "    #    2. 예측된 값 중 가장 높은 확률인 word index를 뽑아냅니다\n",
    "    #    3. 2에서 예측된 word index를 문장 뒤에 붙입니다\n",
    "    #    4. 모델이 <end>를 예측했거나, max_len에 도달했다면 문장 생성을 마칩니다\n",
    "    while True:\n",
    "        # 1\n",
    "        predict = model(test_tensor) \n",
    "        # 2\n",
    "        predict_word = tf.argmax(tf.nn.softmax(predict, axis=-1), axis=-1)[:, -1] \n",
    "        # 3 \n",
    "        test_tensor = tf.concat([test_tensor, tf.expand_dims(predict_word, axis=0)], axis=-1)\n",
    "        # 4\n",
    "        if predict_word.numpy()[0] == end_token: break\n",
    "        if test_tensor.shape[1] >= max_len: break\n",
    "\n",
    "    generated = \"\"\n",
    "    # tokenizer를 이용해 word index를 단어로 하나씩 변환합니다 \n",
    "    for word_index in test_tensor[0].numpy():\n",
    "        generated += tokenizer.index_word[word_index] + \" \"\n",
    "\n",
    "    return generated"
   ]
  },
  {
   "cell_type": "markdown",
   "metadata": {},
   "source": [
    "#### 학습한 모델 불러오기\n",
    "- 일반 LSTM\n",
    "- Bi LSTM"
   ]
  },
  {
   "cell_type": "code",
   "execution_count": 95,
   "metadata": {},
   "outputs": [
    {
     "data": {
      "text/plain": [
       "<tensorflow.python.training.tracking.util.CheckpointLoadStatus at 0x7f411ee97ed0>"
      ]
     },
     "execution_count": 95,
     "metadata": {},
     "output_type": "execute_result"
    }
   ],
   "source": [
    "lstm_checkpoint = 'training/LSTM.ckpt'           # 일반 LSTM 가중치값 저장 경로\n",
    "model_lstm.load_weights(lstm_checkpoint)         # 모델에 가중치 대입\n",
    "\n",
    "bi_lstm_checkpoint = 'training/Bi-LSTM.ckpt'     # BI LSTM 가중치값 저장 경로\n",
    "model_bi_lstm.load_weights(bi_lstm_checkpoint)   # 모델에 가중치 대입"
   ]
  },
  {
   "cell_type": "code",
   "execution_count": 98,
   "metadata": {},
   "outputs": [
    {
     "data": {
      "text/plain": [
       "'<start> i want to be your girl <end> '"
      ]
     },
     "execution_count": 98,
     "metadata": {},
     "output_type": "execute_result"
    }
   ],
   "source": [
    "generate_text(model_lstm, tokenizer, init_sentence='<start> I want to be', max_len=20)"
   ]
  }
 ],
 "metadata": {
  "kernelspec": {
   "display_name": "Python 3",
   "language": "python",
   "name": "python3"
  },
  "language_info": {
   "codemirror_mode": {
    "name": "ipython",
    "version": 3
   },
   "file_extension": ".py",
   "mimetype": "text/x-python",
   "name": "python",
   "nbconvert_exporter": "python",
   "pygments_lexer": "ipython3",
   "version": "3.7.9"
  },
  "varInspector": {
   "cols": {
    "lenName": 16,
    "lenType": 16,
    "lenVar": 40
   },
   "kernels_config": {
    "python": {
     "delete_cmd_postfix": "",
     "delete_cmd_prefix": "del ",
     "library": "var_list.py",
     "varRefreshCmd": "print(var_dic_list())"
    },
    "r": {
     "delete_cmd_postfix": ") ",
     "delete_cmd_prefix": "rm(",
     "library": "var_list.r",
     "varRefreshCmd": "cat(var_dic_list()) "
    }
   },
   "types_to_exclude": [
    "module",
    "function",
    "builtin_function_or_method",
    "instance",
    "_Feature"
   ],
   "window_display": false
  }
 },
 "nbformat": 4,
 "nbformat_minor": 4
}
