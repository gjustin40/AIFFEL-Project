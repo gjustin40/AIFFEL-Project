{
 "cells": [
  {
   "cell_type": "markdown",
   "id": "august-calcium",
   "metadata": {},
   "source": [
    "# IMDb 사이트 영화 리뷰 감성분석\n",
    "RNN 모델을 이용해 감성분석을 해보자!"
   ]
  },
  {
   "cell_type": "code",
   "execution_count": 137,
   "id": "internal-florist",
   "metadata": {},
   "outputs": [
    {
     "name": "stdout",
     "output_type": "stream",
     "text": [
      "2.4.1\n"
     ]
    }
   ],
   "source": [
    "import numpy as np\n",
    "\n",
    "from sklearn.model_selection import train_test_split\n",
    "import matplotlib.pyplot as plt\n",
    "import seaborn as sns\n",
    "import pandas as pd\n",
    "\n",
    "import tensorflow as tf\n",
    "from tensorflow import keras\n",
    "from tensorflow.keras.datasets import imdb\n",
    "\n",
    "print(tf.__version__)"
   ]
  },
  {
   "cell_type": "markdown",
   "id": "developmental-locator",
   "metadata": {},
   "source": [
    "# IMDb 데이터셋"
   ]
  },
  {
   "cell_type": "markdown",
   "id": "worthy-viking",
   "metadata": {},
   "source": [
    "### Dataset 불러오기"
   ]
  },
  {
   "cell_type": "code",
   "execution_count": 41,
   "id": "special-concert",
   "metadata": {
    "scrolled": false
   },
   "outputs": [
    {
     "name": "stderr",
     "output_type": "stream",
     "text": [
      "<string>:6: VisibleDeprecationWarning: Creating an ndarray from ragged nested sequences (which is a list-or-tuple of lists-or-tuples-or ndarrays with different lengths or shapes) is deprecated. If you meant to do this, you must specify 'dtype=object' when creating the ndarray\n",
      "/opt/conda/lib/python3.7/site-packages/tensorflow/python/keras/datasets/imdb.py:159: VisibleDeprecationWarning: Creating an ndarray from ragged nested sequences (which is a list-or-tuple of lists-or-tuples-or ndarrays with different lengths or shapes) is deprecated. If you meant to do this, you must specify 'dtype=object' when creating the ndarray\n",
      "  x_train, y_train = np.array(xs[:idx]), np.array(labels[:idx])\n"
     ]
    },
    {
     "name": "stdout",
     "output_type": "stream",
     "text": [
      "x_train :  25000\n",
      "y_train :  25000\n",
      "x_testn :  25000\n",
      "y_testn :  25000\n",
      "--------------------------------------------------\n",
      "[[1, 14, 22, 16, 43, 530, 973, 1622, 1385, 65, 458, 4468, 66, 3941, 4, 173, 36, 256, 5, 25, 100, 43, 838, 112, 50, 670, 2, 9, 35, 480, 284, 5, 150, 4, 172, 112, 167, 2, 336, 385, 39, 4, 172, 4536, 1111, 17, 546, 38, 13, 447, 4, 192, 50, 16, 6, 147, 2025, 19, 14, 22, 4, 1920, 4613, 469, 4, 22, 71, 87, 12, 16, 43, 530, 38, 76, 15, 13, 1247, 4, 22, 17, 515, 17, 12, 16, 626, 18, 2, 5, 62, 386, 12, 8, 316, 8, 106, 5, 4, 2223, 5244, 16, 480, 66, 3785, 33, 4, 130, 12, 16, 38, 619, 5, 25, 124, 51, 36, 135, 48, 25, 1415, 33, 6, 22, 12, 215, 28, 77, 52, 5, 14, 407, 16, 82, 2, 8, 4, 107, 117, 5952, 15, 256, 4, 2, 7, 3766, 5, 723, 36, 71, 43, 530, 476, 26, 400, 317, 46, 7, 4, 2, 1029, 13, 104, 88, 4, 381, 15, 297, 98, 32, 2071, 56, 26, 141, 6, 194, 7486, 18, 4, 226, 22, 21, 134, 476, 26, 480, 5, 144, 30, 5535, 18, 51, 36, 28, 224, 92, 25, 104, 4, 226, 65, 16, 38, 1334, 88, 12, 16, 283, 5, 16, 4472, 113, 103, 32, 15, 16, 5345, 19, 178, 32], [1, 194, 1153, 194, 8255, 78, 228, 5, 6, 1463, 4369, 5012, 134, 26, 4, 715, 8, 118, 1634, 14, 394, 20, 13, 119, 954, 189, 102, 5, 207, 110, 3103, 21, 14, 69, 188, 8, 30, 23, 7, 4, 249, 126, 93, 4, 114, 9, 2300, 1523, 5, 647, 4, 116, 9, 35, 8163, 4, 229, 9, 340, 1322, 4, 118, 9, 4, 130, 4901, 19, 4, 1002, 5, 89, 29, 952, 46, 37, 4, 455, 9, 45, 43, 38, 1543, 1905, 398, 4, 1649, 26, 6853, 5, 163, 11, 3215, 2, 4, 1153, 9, 194, 775, 7, 8255, 2, 349, 2637, 148, 605, 2, 8003, 15, 123, 125, 68, 2, 6853, 15, 349, 165, 4362, 98, 5, 4, 228, 9, 43, 2, 1157, 15, 299, 120, 5, 120, 174, 11, 220, 175, 136, 50, 9, 4373, 228, 8255, 5, 2, 656, 245, 2350, 5, 4, 9837, 131, 152, 491, 18, 2, 32, 7464, 1212, 14, 9, 6, 371, 78, 22, 625, 64, 1382, 9, 8, 168, 145, 23, 4, 1690, 15, 16, 4, 1355, 5, 28, 6, 52, 154, 462, 33, 89, 78, 285, 16, 145, 95]]\n"
     ]
    },
    {
     "name": "stderr",
     "output_type": "stream",
     "text": [
      "/opt/conda/lib/python3.7/site-packages/tensorflow/python/keras/datasets/imdb.py:160: VisibleDeprecationWarning: Creating an ndarray from ragged nested sequences (which is a list-or-tuple of lists-or-tuples-or ndarrays with different lengths or shapes) is deprecated. If you meant to do this, you must specify 'dtype=object' when creating the ndarray\n",
      "  x_test, y_test = np.array(xs[idx:]), np.array(labels[idx:])\n"
     ]
    }
   ],
   "source": [
    "(x_train, y_train), (x_test, y_test) = imdb.load_data(num_words=10000)\n",
    "\n",
    "print('x_train : ', len(list(x_train)))\n",
    "print('y_train : ', len(y_train))\n",
    "print('x_testn : ', len(list(x_test)))\n",
    "print('y_testn : ', len(y_test))\n",
    "print('-'*50)\n",
    "print(list(x_train)[:2])"
   ]
  },
  {
   "cell_type": "markdown",
   "id": "engaged-seeking",
   "metadata": {},
   "source": [
    "### Vocab"
   ]
  },
  {
   "cell_type": "code",
   "execution_count": 42,
   "id": "cooked-liechtenstein",
   "metadata": {},
   "outputs": [
    {
     "name": "stdout",
     "output_type": "stream",
     "text": [
      "Number of Word :  88588\n",
      "Number of Index :  88588\n",
      "Index of 'the' :  4\n",
      "word of '0' :  <PAD>\n"
     ]
    }
   ],
   "source": [
    "word_to_index = imdb.get_word_index()\n",
    "word_to_index = {word:index+3 for word, index in word_to_index.items()}\n",
    "word_to_index['<PAD>'] = 0\n",
    "word_to_index['<BOS>'] = 1\n",
    "word_to_index['<UNK>'] = 2\n",
    "word_to_index['<UNUSED>'] = 3\n",
    "\n",
    "index_to_word = {index:word for word, index in word_to_index.items()}\n",
    "print('Number of Word : ', len(word_to_index))\n",
    "print('Number of Index : ', len(index_to_word))\n",
    "print(\"Index of 'the' : \", word_to_index['the'])\n",
    "print(\"word of '0' : \", index_to_word[0])"
   ]
  },
  {
   "cell_type": "markdown",
   "id": "endangered-demonstration",
   "metadata": {},
   "source": [
    "# Encode & Decode"
   ]
  },
  {
   "cell_type": "code",
   "execution_count": 43,
   "id": "committed-drunk",
   "metadata": {},
   "outputs": [],
   "source": [
    "def encode_sentences(sentences, word_to_index=word_to_index):\n",
    "    encoded_sentences = []\n",
    "    \n",
    "    for sentence in sentences:\n",
    "        new_sentence = [word_to_index['<BOS>']]\n",
    "        \n",
    "        for word in sentence:\n",
    "            if word in word_to_index:\n",
    "                new_sentence.append(word_to_index[word])\n",
    "            else:\n",
    "                new_sentence.append(word_to_index['<UNK>'])\n",
    "                \n",
    "        encoded_sentences.append(new_sentence)\n",
    "        \n",
    "    return encoded_sentences\n",
    "\n",
    "def decode_sentences(sentences, index_to_word=index_to_word):\n",
    "    decoded_sentences = []\n",
    "    \n",
    "    for sentence in sentences:\n",
    "        new_sentence = []\n",
    "        \n",
    "        for idx in sentence:\n",
    "            if idx in index_to_word:\n",
    "                new_sentence.append(index_to_word[idx])\n",
    "            else:\n",
    "                new_sentence.append(word_to_index[1])\n",
    "                \n",
    "        decoded_sentences.append(' '.join(new_sentence))\n",
    "        \n",
    "    return decoded_sentences"
   ]
  },
  {
   "cell_type": "code",
   "execution_count": 44,
   "id": "relevant-batman",
   "metadata": {},
   "outputs": [
    {
     "name": "stdout",
     "output_type": "stream",
     "text": [
      "[1, 14, 22, 16, 43, 530, 973, 1622, 1385, 65, 458, 4468, 66, 3941, 4, 173, 36, 256, 5, 25, 100, 43, 838, 112, 50, 670, 2, 9, 35, 480, 284, 5, 150, 4, 172, 112, 167, 2, 336, 385, 39, 4, 172, 4536, 1111, 17, 546, 38, 13, 447, 4, 192, 50, 16, 6, 147, 2025, 19, 14, 22, 4, 1920, 4613, 469, 4, 22, 71, 87, 12, 16, 43, 530, 38, 76, 15, 13, 1247, 4, 22, 17, 515, 17, 12, 16, 626, 18, 2, 5, 62, 386, 12, 8, 316, 8, 106, 5, 4, 2223, 5244, 16, 480, 66, 3785, 33, 4, 130, 12, 16, 38, 619, 5, 25, 124, 51, 36, 135, 48, 25, 1415, 33, 6, 22, 12, 215, 28, 77, 52, 5, 14, 407, 16, 82, 2, 8, 4, 107, 117, 5952, 15, 256, 4, 2, 7, 3766, 5, 723, 36, 71, 43, 530, 476, 26, 400, 317, 46, 7, 4, 2, 1029, 13, 104, 88, 4, 381, 15, 297, 98, 32, 2071, 56, 26, 141, 6, 194, 7486, 18, 4, 226, 22, 21, 134, 476, 26, 480, 5, 144, 30, 5535, 18, 51, 36, 28, 224, 92, 25, 104, 4, 226, 65, 16, 38, 1334, 88, 12, 16, 283, 5, 16, 4472, 113, 103, 32, 15, 16, 5345, 19, 178, 32]\n"
     ]
    },
    {
     "data": {
      "text/plain": [
       "[\"<BOS> this film was just brilliant casting location scenery story direction everyone's really suited the part they played and you could just imagine being there robert <UNK> is an amazing actor and now the same being director <UNK> father came from the same scottish island as myself so i loved the fact there was a real connection with this film the witty remarks throughout the film were great it was just brilliant so much that i bought the film as soon as it was released for <UNK> and would recommend it to everyone to watch and the fly fishing was amazing really cried at the end it was so sad and you know what they say if you cry at a film it must have been good and this definitely was also <UNK> to the two little boy's that played the <UNK> of norman and paul they were just brilliant children are often left out of the <UNK> list i think because the stars that play them all grown up are such a big profile for the whole film but these children are amazing and should be praised for what they have done don't you think the whole story was so lovely because it was true and was someone's life after all that was shared with us all\"]"
      ]
     },
     "execution_count": 44,
     "metadata": {},
     "output_type": "execute_result"
    }
   ],
   "source": [
    "decode_example = decode_sentences([x_train[0]], index_to_word)\n",
    "print(x_train[0])\n",
    "decode_example"
   ]
  },
  {
   "cell_type": "markdown",
   "id": "hindu-trading",
   "metadata": {},
   "source": [
    "# Padding"
   ]
  },
  {
   "cell_type": "markdown",
   "id": "fitting-watch",
   "metadata": {},
   "source": [
    "### 문장의 최대길이 선정"
   ]
  },
  {
   "cell_type": "code",
   "execution_count": 45,
   "id": "subject-advisory",
   "metadata": {},
   "outputs": [
    {
     "name": "stdout",
     "output_type": "stream",
     "text": [
      "Mean of sentences : 234.75892\n",
      "Max of sentences :  2494\n",
      "Min of sentences :  7\n",
      "The 95% of Length : [598.]\n"
     ]
    },
    {
     "data": {
      "image/png": "[encoded data removed]",
      "text/plain": [
       "<Figure size 1080x432 with 2 Axes>"
      ]
     },
     "metadata": {
      "needs_background": "light"
     },
     "output_type": "display_data"
    }
   ],
   "source": [
    "len_x_train = len(x_train)\n",
    "dataset = list(x_train) + list(x_test)\n",
    "len_sentence = np.array([len(sent) for sent in dataset])\n",
    "percent = 95\n",
    "\n",
    "print('Mean of sentences :', np.mean(len_sentence))\n",
    "print('Max of sentences : ', np.max(len_sentence))\n",
    "print('Min of sentences : ', np.min(len_sentence))\n",
    "\n",
    "\n",
    "plt.figure(figsize=(15,6))\n",
    "\n",
    "plt.subplot(2,1,1)\n",
    "sns.histplot(len_sentence)\n",
    "\n",
    "plt.subplot(2,1,2)\n",
    "sns.boxplot(data=len_sentence, orient='h')\n",
    "print(f'The {percent}% of Length :', np.percentile(len_sentence, [percent]))\n",
    "plt.show()"
   ]
  },
  {
   "cell_type": "markdown",
   "id": "crude-subject",
   "metadata": {},
   "source": [
    "> **최대길이 : 580**"
   ]
  },
  {
   "cell_type": "markdown",
   "id": "standing-teaching",
   "metadata": {},
   "source": [
    "### Padding 적용"
   ]
  },
  {
   "cell_type": "code",
   "execution_count": 46,
   "id": "angry-flavor",
   "metadata": {},
   "outputs": [
    {
     "name": "stdout",
     "output_type": "stream",
     "text": [
      "(25000, 580) (25000, 580)\n",
      "<class 'numpy.ndarray'> <class 'numpy.ndarray'>\n",
      "[   0    0    0    0    0    0    0    0    0    0    0    0    0    0\n",
      "    0    0    0    0    0    0    0    0    0    0    0    0    0    0\n",
      "    0    0    0    0    0    0    0    0    0    0    0    0    0    0\n",
      "    0    0    0    0    0    0    0    0    0    0    0    0    0    0\n",
      "    0    0    0    0    0    0    0    0    0    0    0    0    0    0\n",
      "    0    0    0    0    0    0    0    0    0    0    0    0    0    0\n",
      "    0    0    0    0    0    0    0    0    0    0    0    0    0    0\n",
      "    0    0    0    0    0    0    0    0    0    0    0    0    0    0\n",
      "    0    0    0    0    0    0    0    0    0    0    0    0    0    0\n",
      "    0    0    0    0    0    0    0    0    0    0    0    0    0    0\n",
      "    0    0    0    0    0    0    0    0    0    0    0    0    0    0\n",
      "    0    0    0    0    0    0    0    0    0    0    0    0    0    0\n",
      "    0    0    0    0    0    0    0    0    0    0    0    0    0    0\n",
      "    0    0    0    0    0    0    0    0    0    0    0    0    0    0\n",
      "    0    0    0    0    0    0    0    0    0    0    0    0    0    0\n",
      "    0    0    0    0    0    0    0    0    0    0    0    0    0    0\n",
      "    0    0    0    0    0    0    0    0    0    0    0    0    0    0\n",
      "    0    0    0    0    0    0    0    0    0    0    0    0    0    0\n",
      "    0    0    0    0    0    0    0    0    0    0    0    0    0    0\n",
      "    0    0    0    0    0    0    0    0    0    0    0    0    0    0\n",
      "    0    0    0    0    0    0    0    0    0    0    0    0    0    0\n",
      "    0    0    0    0    0    0    0    0    0    0    0    0    0    0\n",
      "    0    0    0    0    0    0    0    0    0    0    0    0    0    0\n",
      "    0    0    0    0    0    0    0    0    0    0    0    0    0    0\n",
      "    0    0    0    0    0    0    0    0    0    0    0    0    0    0\n",
      "    0    0    0    0    0    0    0    0    0    0    0    0    1   14\n",
      "   22   16   43  530  973 1622 1385   65  458 4468   66 3941    4  173\n",
      "   36  256    5   25  100   43  838  112   50  670    2    9   35  480\n",
      "  284    5  150    4  172  112  167    2  336  385   39    4  172 4536\n",
      " 1111   17  546   38   13  447    4  192   50   16    6  147 2025   19\n",
      "   14   22    4 1920 4613  469    4   22   71   87   12   16   43  530\n",
      "   38   76   15   13 1247    4   22   17  515   17   12   16  626   18\n",
      "    2    5   62  386   12    8  316    8  106    5    4 2223 5244   16\n",
      "  480   66 3785   33    4  130   12   16   38  619    5   25  124   51\n",
      "   36  135   48   25 1415   33    6   22   12  215   28   77   52    5\n",
      "   14  407   16   82    2    8    4  107  117 5952   15  256    4    2\n",
      "    7 3766    5  723   36   71   43  530  476   26  400  317   46    7\n",
      "    4    2 1029   13  104   88    4  381   15  297   98   32 2071   56\n",
      "   26  141    6  194 7486   18    4  226   22   21  134  476   26  480\n",
      "    5  144   30 5535   18   51   36   28  224   92   25  104    4  226\n",
      "   65   16   38 1334   88   12   16  283    5   16 4472  113  103   32\n",
      "   15   16 5345   19  178   32]\n"
     ]
    }
   ],
   "source": [
    "padding = keras.preprocessing.sequence.pad_sequences\n",
    "dataset = padding(dataset, value=word_to_index['<PAD>'], padding='pre', maxlen=580)\n",
    "x_train = dataset[:x_train_len]\n",
    "x_test = dataset[x_train_len:]\n",
    "\n",
    "print(x_train.shape, x_test.shape)\n",
    "print(type(x_train), type(x_test))\n",
    "print(x_train[0])"
   ]
  },
  {
   "cell_type": "markdown",
   "id": "systematic-prospect",
   "metadata": {},
   "source": [
    "# Model"
   ]
  },
  {
   "cell_type": "code",
   "execution_count": 47,
   "id": "electric-hungary",
   "metadata": {},
   "outputs": [
    {
     "name": "stdout",
     "output_type": "stream",
     "text": [
      "Model: \"sequential\"\n",
      "_________________________________________________________________\n",
      "Layer (type)                 Output Shape              Param #   \n",
      "=================================================================\n",
      "embedding (Embedding)        (None, None, 16)          160000    \n",
      "_________________________________________________________________\n",
      "lstm (LSTM)                  (None, 8)                 800       \n",
      "_________________________________________________________________\n",
      "dense (Dense)                (None, 8)                 72        \n",
      "_________________________________________________________________\n",
      "dense_1 (Dense)              (None, 1)                 9         \n",
      "=================================================================\n",
      "Total params: 160,881\n",
      "Trainable params: 160,881\n",
      "Non-trainable params: 0\n",
      "_________________________________________________________________\n"
     ]
    }
   ],
   "source": [
    "vocab_size = 10000\n",
    "word_vector_dim = 16\n",
    "\n",
    "model = keras.Sequential()\n",
    "model.add(keras.layers.Embedding(input_dim=vocab_size, output_dim=word_vector_dim))\n",
    "model.add(keras.layers.LSTM(units=8))\n",
    "model.add(keras.layers.Dense(8, activation='relu'))\n",
    "model.add(keras.layers.Dense(1, activation='sigmoid'))\n",
    "\n",
    "model.summary()"
   ]
  },
  {
   "cell_type": "markdown",
   "id": "environmental-better",
   "metadata": {},
   "source": [
    "# Train"
   ]
  },
  {
   "cell_type": "code",
   "execution_count": 48,
   "id": "cooked-consultation",
   "metadata": {},
   "outputs": [
    {
     "name": "stdout",
     "output_type": "stream",
     "text": [
      "Train Shape :  (20000, 580) (20000,)\n",
      "val Shape :  (5000, 580) (5000,)\n"
     ]
    }
   ],
   "source": [
    "X_train, x_val, Y_train, y_val = train_test_split(x_train, y_train, test_size=0.2)\n",
    "print('Train Shape : ', X_train.shape, Y_train.shape)\n",
    "print('val Shape : ', x_val.shape, y_val.shape)"
   ]
  },
  {
   "cell_type": "code",
   "execution_count": 49,
   "id": "earned-canberra",
   "metadata": {
    "scrolled": false
   },
   "outputs": [
    {
     "name": "stdout",
     "output_type": "stream",
     "text": [
      "Epoch 1/20\n",
      "40/40 [==============================] - 11s 194ms/step - loss: 0.6920 - accuracy: 0.5584 - val_loss: 0.6824 - val_accuracy: 0.6784\n",
      "Epoch 2/20\n",
      "40/40 [==============================] - 7s 181ms/step - loss: 0.6581 - accuracy: 0.7365 - val_loss: 0.5649 - val_accuracy: 0.7578\n",
      "Epoch 3/20\n",
      "40/40 [==============================] - 7s 181ms/step - loss: 0.5063 - accuracy: 0.8198 - val_loss: 0.4391 - val_accuracy: 0.8268\n",
      "Epoch 4/20\n",
      "40/40 [==============================] - 7s 181ms/step - loss: 0.3834 - accuracy: 0.8693 - val_loss: 0.3912 - val_accuracy: 0.8408\n",
      "Epoch 5/20\n",
      "40/40 [==============================] - 7s 182ms/step - loss: 0.3015 - accuracy: 0.9034 - val_loss: 0.3695 - val_accuracy: 0.8518\n",
      "Epoch 6/20\n",
      "40/40 [==============================] - 7s 181ms/step - loss: 0.2539 - accuracy: 0.9173 - val_loss: 0.3755 - val_accuracy: 0.8442\n",
      "Epoch 7/20\n",
      "40/40 [==============================] - 7s 181ms/step - loss: 0.2252 - accuracy: 0.9272 - val_loss: 0.3713 - val_accuracy: 0.8550\n",
      "Epoch 8/20\n",
      "40/40 [==============================] - 7s 181ms/step - loss: 0.2036 - accuracy: 0.9338 - val_loss: 0.3718 - val_accuracy: 0.8568\n",
      "Epoch 9/20\n",
      "40/40 [==============================] - 7s 181ms/step - loss: 0.1743 - accuracy: 0.9482 - val_loss: 0.3695 - val_accuracy: 0.8636\n",
      "Epoch 10/20\n",
      "40/40 [==============================] - 7s 181ms/step - loss: 0.1569 - accuracy: 0.9553 - val_loss: 0.3888 - val_accuracy: 0.8598\n",
      "Epoch 11/20\n",
      "40/40 [==============================] - 7s 181ms/step - loss: 0.1485 - accuracy: 0.9573 - val_loss: 0.3763 - val_accuracy: 0.8624\n",
      "Epoch 12/20\n",
      "40/40 [==============================] - 7s 181ms/step - loss: 0.1264 - accuracy: 0.9663 - val_loss: 0.3933 - val_accuracy: 0.8618\n",
      "Epoch 13/20\n",
      "40/40 [==============================] - 7s 181ms/step - loss: 0.1177 - accuracy: 0.9701 - val_loss: 0.4100 - val_accuracy: 0.8602\n",
      "Epoch 14/20\n",
      "40/40 [==============================] - 7s 181ms/step - loss: 0.1065 - accuracy: 0.9728 - val_loss: 0.4143 - val_accuracy: 0.8610\n",
      "Epoch 15/20\n",
      "40/40 [==============================] - 7s 181ms/step - loss: 0.0908 - accuracy: 0.9791 - val_loss: 0.4294 - val_accuracy: 0.8586\n",
      "Epoch 16/20\n",
      "40/40 [==============================] - 7s 181ms/step - loss: 0.0815 - accuracy: 0.9818 - val_loss: 0.4511 - val_accuracy: 0.8580\n",
      "Epoch 17/20\n",
      "40/40 [==============================] - 7s 181ms/step - loss: 0.0771 - accuracy: 0.9827 - val_loss: 0.4519 - val_accuracy: 0.8610\n",
      "Epoch 18/20\n",
      "40/40 [==============================] - 7s 182ms/step - loss: 0.0710 - accuracy: 0.9841 - val_loss: 0.7371 - val_accuracy: 0.8072\n",
      "Epoch 19/20\n",
      "40/40 [==============================] - 7s 181ms/step - loss: 0.1799 - accuracy: 0.9405 - val_loss: 0.4568 - val_accuracy: 0.8444\n",
      "Epoch 20/20\n",
      "40/40 [==============================] - 7s 181ms/step - loss: 0.1314 - accuracy: 0.9570 - val_loss: 0.4500 - val_accuracy: 0.8550\n"
     ]
    }
   ],
   "source": [
    "model.compile(optimizer='adam',\n",
    "             loss='binary_crossentropy',\n",
    "             metrics=['accuracy'])\n",
    "EPOCH=20\n",
    "\n",
    "history = model.fit(X_train, Y_train, epochs=EPOCH, batch_size=512, validation_data=(x_val, y_val),verbose=1)"
   ]
  },
  {
   "cell_type": "code",
   "execution_count": 61,
   "id": "burning-leeds",
   "metadata": {},
   "outputs": [
    {
     "data": {
      "text/plain": [
       "<matplotlib.legend.Legend at 0x7f414e29d250>"
      ]
     },
     "execution_count": 61,
     "metadata": {},
     "output_type": "execute_result"
    },
    {
     "data": {
      "image/png": "[encoded data removed]",
      "text/plain": [
       "<Figure size 1080x720 with 1 Axes>"
      ]
     },
     "metadata": {
      "needs_background": "light"
     },
     "output_type": "display_data"
    }
   ],
   "source": [
    "history_dict = history.history\n",
    "train_loss = history_dict['loss']\n",
    "train_acc = history_dict['accuracy']\n",
    "val_loss = history_dict['val_loss']\n",
    "val_acc = history_dict['val_accuracy']\n",
    "\n",
    "epoch_range = range(1,EPOCH+1)\n",
    "\n",
    "plt.figure(figsize=(15,10))\n",
    "plt.plot(epoch_range, train_loss)\n",
    "#plt.plot(epoch_range, train_acc)\n",
    "plt.plot(epoch_range, val_loss)\n",
    "#plt.plot(epoch_range, val_accuracy)\n",
    "\n",
    "plt.legend(['loss', 'accuracy', 'val_loss', 'val_accuracy'])"
   ]
  },
  {
   "cell_type": "markdown",
   "id": "technical-intranet",
   "metadata": {},
   "source": [
    "# Evaluation"
   ]
  },
  {
   "cell_type": "code",
   "execution_count": 138,
   "id": "fossil-powder",
   "metadata": {},
   "outputs": [
    {
     "name": "stdout",
     "output_type": "stream",
     "text": [
      "782/782 - 36s - loss: 0.4477 - accuracy: 0.8541\n"
     ]
    },
    {
     "data": {
      "text/plain": [
       "<seaborn.axisgrid.FacetGrid at 0x7f414e274510>"
      ]
     },
     "execution_count": 138,
     "metadata": {},
     "output_type": "execute_result"
    },
    {
     "data": {
      "image/png": "[encoded data removed]",
      "text/plain": [
       "<Figure size 720x360 with 2 Axes>"
      ]
     },
     "metadata": {
      "needs_background": "light"
     },
     "output_type": "display_data"
    }
   ],
   "source": [
    "test_loss, test_acc = model.evaluate(x_test, y_test, verbose=2)\n",
    "\n",
    "data = {'loss' : [train_loss[-1],  val_loss[-1], test_loss],\n",
    "        'acc' : [train_acc[-1], val_acc[-1], test_acc]}\n",
    "\n",
    "df_result = pd.DataFrame(data, index=['train', 'val', 'test']).reset_index()\n",
    "df_result = df_result.rename(columns={'index' : 'mode'})\n",
    "df_result = pd.melt(df_result, id_vars='mode', value_vars=['loss', 'acc'], var_name='category')\n",
    "sns.catplot(x='mode', y='value', col='category', kind='bar', data=df_result)"
   ]
  }
 ],
 "metadata": {
  "kernelspec": {
   "display_name": "Python 3",
   "language": "python",
   "name": "python3"
  },
  "language_info": {
   "codemirror_mode": {
    "name": "ipython",
    "version": 3
   },
   "file_extension": ".py",
   "mimetype": "text/x-python",
   "name": "python",
   "nbconvert_exporter": "python",
   "pygments_lexer": "ipython3",
   "version": "3.7.9"
  }
 },
 "nbformat": 4,
 "nbformat_minor": 5
}
