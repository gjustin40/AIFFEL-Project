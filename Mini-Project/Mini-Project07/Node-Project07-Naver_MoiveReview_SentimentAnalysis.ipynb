{
 "cells": [
  {
   "cell_type": "markdown",
   "id": "narrative-vision",
   "metadata": {},
   "source": [
    "# 이 영화 재미있을까?\n",
    "네이버영화 리뷰 댓글 감성분석을 통해 영화의 재미 유무를 파악해보자!"
   ]
  },
  {
   "cell_type": "markdown",
   "id": "dangerous-church",
   "metadata": {},
   "source": [
    "## 목차\n",
    "\n",
    "### 1. 기본 baseline\n",
    "> **가장 기본적인 형태로 3가지 모델을 통해 word2vec 학습한 후 비교**\n",
    "- 데이터전처리**(결측치 및 중복 데이터, 길이, 문장 전처리)**\n",
    "- 형태소 분석**(트콘화 및 불용어 제거)**\n",
    "- 단어사전 만들기\n",
    "- 단어 인코더, 디코더 정의\n",
    "- 데이터셋 생성**(maxlen 결정, padding 적용)**\n",
    "- Model 정의**(3가지 모델 : LSTM, GRU, CNN)**\n",
    "- 학습\n",
    "- 평가**(3가지 모델 비교)**\n",
    "\n",
    "### 2. 사전 학습된 word2vec 비교\n",
    "> **사전학습된 word2vec를 불러와 직접 학습한 word2vec과 비교<br>\n",
    "Embedding layer의 train 버젼과 non-train 버젼 비교**\n",
    "\n",
    "### 3. 다양한 형태소 분석기 비교\n",
    "> **Mecab(기본), Khaiii(인공지능 기반)**\n",
    "\n",
    "### 4. 결과 및 고찰"
   ]
  },
  {
   "cell_type": "code",
   "execution_count": 89,
   "id": "atmospheric-fairy",
   "metadata": {},
   "outputs": [],
   "source": [
    "import pandas as pd\n",
    "import os\n",
    "import re\n",
    "\n",
    "import numpy as np\n",
    "from collections import Counter\n",
    "\n",
    "import tensorflow as tf\n",
    "from tensorflow import keras\n",
    "from tensorflow.keras.preprocessing.sequence import pad_sequences\n",
    "from tensorflow.keras.preprocessing.text import Tokenizer\n",
    "\n",
    "from konlpy.tag import Okt\n",
    "\n",
    "import seaborn as sns\n",
    "import matplotlib.pyplot as plt\n",
    "\n",
    "from IPython.core import display as ICD\n",
    "np.random.seed(40)"
   ]
  },
  {
   "cell_type": "markdown",
   "id": "manual-token",
   "metadata": {},
   "source": [
    "# 기본 Baseline\n",
    "<hr>"
   ]
  },
  {
   "cell_type": "code",
   "execution_count": 90,
   "id": "operational-baseball",
   "metadata": {},
   "outputs": [
    {
     "data": {
      "text/html": [
       "<div>\n",
       "<style scoped>\n",
       "    .dataframe tbody tr th:only-of-type {\n",
       "        vertical-align: middle;\n",
       "    }\n",
       "\n",
       "    .dataframe tbody tr th {\n",
       "        vertical-align: top;\n",
       "    }\n",
       "\n",
       "    .dataframe thead th {\n",
       "        text-align: right;\n",
       "    }\n",
       "</style>\n",
       "<table border=\"1\" class=\"dataframe\">\n",
       "  <thead>\n",
       "    <tr style=\"text-align: right;\">\n",
       "      <th></th>\n",
       "      <th>id</th>\n",
       "      <th>document</th>\n",
       "      <th>label</th>\n",
       "    </tr>\n",
       "  </thead>\n",
       "  <tbody>\n",
       "    <tr>\n",
       "      <th>0</th>\n",
       "      <td>9976970</td>\n",
       "      <td>아 더빙.. 진짜 짜증나네요 목소리</td>\n",
       "      <td>0</td>\n",
       "    </tr>\n",
       "    <tr>\n",
       "      <th>1</th>\n",
       "      <td>3819312</td>\n",
       "      <td>흠...포스터보고 초딩영화줄....오버연기조차 가볍지 않구나</td>\n",
       "      <td>1</td>\n",
       "    </tr>\n",
       "    <tr>\n",
       "      <th>2</th>\n",
       "      <td>10265843</td>\n",
       "      <td>너무재밓었다그래서보는것을추천한다</td>\n",
       "      <td>0</td>\n",
       "    </tr>\n",
       "  </tbody>\n",
       "</table>\n",
       "</div>"
      ],
      "text/plain": [
       "         id                           document  label\n",
       "0   9976970                아 더빙.. 진짜 짜증나네요 목소리      0\n",
       "1   3819312  흠...포스터보고 초딩영화줄....오버연기조차 가볍지 않구나      1\n",
       "2  10265843                  너무재밓었다그래서보는것을추천한다      0"
      ]
     },
     "metadata": {},
     "output_type": "display_data"
    },
    {
     "data": {
      "text/html": [
       "<div>\n",
       "<style scoped>\n",
       "    .dataframe tbody tr th:only-of-type {\n",
       "        vertical-align: middle;\n",
       "    }\n",
       "\n",
       "    .dataframe tbody tr th {\n",
       "        vertical-align: top;\n",
       "    }\n",
       "\n",
       "    .dataframe thead th {\n",
       "        text-align: right;\n",
       "    }\n",
       "</style>\n",
       "<table border=\"1\" class=\"dataframe\">\n",
       "  <thead>\n",
       "    <tr style=\"text-align: right;\">\n",
       "      <th></th>\n",
       "      <th>id</th>\n",
       "      <th>document</th>\n",
       "      <th>label</th>\n",
       "    </tr>\n",
       "  </thead>\n",
       "  <tbody>\n",
       "    <tr>\n",
       "      <th>0</th>\n",
       "      <td>6270596</td>\n",
       "      <td>굳 ㅋ</td>\n",
       "      <td>1</td>\n",
       "    </tr>\n",
       "    <tr>\n",
       "      <th>1</th>\n",
       "      <td>9274899</td>\n",
       "      <td>GDNTOPCLASSINTHECLUB</td>\n",
       "      <td>0</td>\n",
       "    </tr>\n",
       "    <tr>\n",
       "      <th>2</th>\n",
       "      <td>8544678</td>\n",
       "      <td>뭐야 이 평점들은.... 나쁘진 않지만 10점 짜리는 더더욱 아니잖아</td>\n",
       "      <td>0</td>\n",
       "    </tr>\n",
       "  </tbody>\n",
       "</table>\n",
       "</div>"
      ],
      "text/plain": [
       "        id                                document  label\n",
       "0  6270596                                     굳 ㅋ      1\n",
       "1  9274899                    GDNTOPCLASSINTHECLUB      0\n",
       "2  8544678  뭐야 이 평점들은.... 나쁘진 않지만 10점 짜리는 더더욱 아니잖아      0"
      ]
     },
     "metadata": {},
     "output_type": "display_data"
    }
   ],
   "source": [
    "# 데이터를 읽어봅시다. \n",
    "train_data = pd.read_table('~/aiffel/Exploration/sentiment_classification/data/ratings_train.txt')\n",
    "test_data = pd.read_table('~/aiffel/Exploration/sentiment_classification/data/ratings_test.txt')\n",
    "\n",
    "ICD.display(train_data.head(3))\n",
    "ICD.display(test_data.head(3))"
   ]
  },
  {
   "cell_type": "markdown",
   "id": "complimentary-charlotte",
   "metadata": {},
   "source": [
    "# 데이터 전처리(Preprocessing)"
   ]
  },
  {
   "cell_type": "markdown",
   "id": "offshore-controversy",
   "metadata": {},
   "source": [
    "### 결측치 제거"
   ]
  },
  {
   "cell_type": "code",
   "execution_count": 91,
   "id": "linear-biology",
   "metadata": {},
   "outputs": [
    {
     "name": "stdout",
     "output_type": "stream",
     "text": [
      "Drop NaN Completed\n"
     ]
    }
   ],
   "source": [
    "train_data = train_data.dropna(how='any')         # Nan값 삭제하기(Train)\n",
    "test_data = test_data.dropna(how='any')           # Nan값 삭제하기(Test)\n",
    "\n",
    "print('Drop NaN Completed')"
   ]
  },
  {
   "cell_type": "markdown",
   "id": "unlike-reach",
   "metadata": {},
   "source": [
    "### 문장 전처리"
   ]
  },
  {
   "cell_type": "code",
   "execution_count": 92,
   "id": "acknowledged-burton",
   "metadata": {},
   "outputs": [
    {
     "name": "stdout",
     "output_type": "stream",
     "text": [
      "Preprocessing completed\n",
      "(149995, 3)\n",
      "(49997, 3)\n"
     ]
    }
   ],
   "source": [
    "def preprocess_sentence(sentence):\n",
    "    sentence = re.sub(r\"([?.!,¿])\", \"\", sentence)   # 특수문자 제거\n",
    "    sentence = sentence.strip()                      # 위 과정 이후에 생긴 문장 양쪽 끝 공백 제거\n",
    "    \n",
    "    return sentence\n",
    "\n",
    "train_data['document'] = train_data['document'].apply(preprocess_sentence)     # 전처리 함수 적용\n",
    "test_data['document'] = test_data['document'].apply(preprocess_sentence)       # 전처리 함수 적용\n",
    "print('Preprocessing completed')\n",
    "print(train_data.shape)\n",
    "print(test_data.shape)"
   ]
  },
  {
   "cell_type": "markdown",
   "id": "varied-briefs",
   "metadata": {},
   "source": [
    "### 중복 데이터 및 길이 1 이하 제거"
   ]
  },
  {
   "cell_type": "code",
   "execution_count": 93,
   "id": "tribal-links",
   "metadata": {},
   "outputs": [
    {
     "data": {
      "text/html": [
       "<div>\n",
       "<style scoped>\n",
       "    .dataframe tbody tr th:only-of-type {\n",
       "        vertical-align: middle;\n",
       "    }\n",
       "\n",
       "    .dataframe tbody tr th {\n",
       "        vertical-align: top;\n",
       "    }\n",
       "\n",
       "    .dataframe thead th {\n",
       "        text-align: right;\n",
       "    }\n",
       "</style>\n",
       "<table border=\"1\" class=\"dataframe\">\n",
       "  <thead>\n",
       "    <tr style=\"text-align: right;\">\n",
       "      <th></th>\n",
       "      <th>id</th>\n",
       "      <th>document</th>\n",
       "      <th>label</th>\n",
       "    </tr>\n",
       "  </thead>\n",
       "  <tbody>\n",
       "    <tr>\n",
       "      <th>142356</th>\n",
       "      <td>7130897</td>\n",
       "      <td></td>\n",
       "      <td>1</td>\n",
       "    </tr>\n",
       "    <tr>\n",
       "      <th>38052</th>\n",
       "      <td>7863225</td>\n",
       "      <td></td>\n",
       "      <td>1</td>\n",
       "    </tr>\n",
       "    <tr>\n",
       "      <th>25914</th>\n",
       "      <td>7481217</td>\n",
       "      <td></td>\n",
       "      <td>0</td>\n",
       "    </tr>\n",
       "    <tr>\n",
       "      <th>147956</th>\n",
       "      <td>7205092</td>\n",
       "      <td></td>\n",
       "      <td>0</td>\n",
       "    </tr>\n",
       "  </tbody>\n",
       "</table>\n",
       "</div>"
      ],
      "text/plain": [
       "             id document  label\n",
       "142356  7130897               1\n",
       "38052   7863225               1\n",
       "25914   7481217               0\n",
       "147956  7205092               0"
      ]
     },
     "metadata": {},
     "output_type": "display_data"
    },
    {
     "name": "stdout",
     "output_type": "stream",
     "text": [
      "Drop duplicated data Completed\n"
     ]
    },
    {
     "data": {
      "text/html": [
       "<div>\n",
       "<style scoped>\n",
       "    .dataframe tbody tr th:only-of-type {\n",
       "        vertical-align: middle;\n",
       "    }\n",
       "\n",
       "    .dataframe tbody tr th {\n",
       "        vertical-align: top;\n",
       "    }\n",
       "\n",
       "    .dataframe thead th {\n",
       "        text-align: right;\n",
       "    }\n",
       "</style>\n",
       "<table border=\"1\" class=\"dataframe\">\n",
       "  <thead>\n",
       "    <tr style=\"text-align: right;\">\n",
       "      <th></th>\n",
       "      <th>id</th>\n",
       "      <th>document</th>\n",
       "      <th>label</th>\n",
       "    </tr>\n",
       "  </thead>\n",
       "  <tbody>\n",
       "    <tr>\n",
       "      <th>151</th>\n",
       "      <td>7348295</td>\n",
       "      <td>아</td>\n",
       "      <td>0</td>\n",
       "    </tr>\n",
       "    <tr>\n",
       "      <th>384</th>\n",
       "      <td>7679615</td>\n",
       "      <td>잼</td>\n",
       "      <td>1</td>\n",
       "    </tr>\n",
       "    <tr>\n",
       "      <th>549</th>\n",
       "      <td>6825866</td>\n",
       "      <td>끙</td>\n",
       "      <td>0</td>\n",
       "    </tr>\n",
       "  </tbody>\n",
       "</table>\n",
       "</div>"
      ],
      "text/plain": [
       "          id document  label\n",
       "151  7348295        아      0\n",
       "384  7679615        잼      1\n",
       "549  6825866        끙      0"
      ]
     },
     "metadata": {},
     "output_type": "display_data"
    },
    {
     "name": "stdout",
     "output_type": "stream",
     "text": [
      "Shape of Train Dataset :  (144681, 3)\n",
      "Shape of Test Dataset :  (48729, 3)\n"
     ]
    }
   ],
   "source": [
    "ICD.display(train_data[train_data.duplicated(subset='document', keep=False)].sort_values(by='document').head(4))\n",
    "\n",
    "train_data = train_data.drop_duplicates(subset='document')             # 중복데이터 제거(Train)\n",
    "test_data = test_data.drop_duplicates(subset='document')               # 중복데이터 제거(Test)\n",
    "print('Drop duplicated data Completed')\n",
    "\n",
    "ICD.display(train_data[train_data['document'].str.len() == 1].head(3))\n",
    "\n",
    "train_data = train_data[train_data['document'].str.len() > 1]          # 길이가 1보다 짧은 내용은 삭제(Train)\n",
    "test_data = test_data[test_data['document'].str.len() > 1]             # 길이가 1보다 짧은 내용은 삭제(Test)\n",
    "\n",
    "print('Shape of Train Dataset : ', train_data.shape)\n",
    "print('Shape of Test Dataset : ', test_data.shape)"
   ]
  },
  {
   "cell_type": "markdown",
   "id": "ecological-eating",
   "metadata": {},
   "source": [
    "# 형태소 분석\n",
    "- 토큰화\n",
    "- 불용어 제거(Stopwords)"
   ]
  },
  {
   "cell_type": "code",
   "execution_count": 94,
   "id": "painful-detail",
   "metadata": {},
   "outputs": [],
   "source": [
    "from konlpy.tag import Mecab\n",
    "tokenizer = Mecab()                # Tokenizer 정의\n",
    "\n",
    "stopwords = ['의','가','이','은','들','는','좀','잘','걍','과','도','를','으로','자','에','와','한','하다']"
   ]
  },
  {
   "cell_type": "code",
   "execution_count": 95,
   "id": "elegant-feeding",
   "metadata": {},
   "outputs": [
    {
     "name": "stdout",
     "output_type": "stream",
     "text": [
      "[['아', '더', '빙', '진짜', '짜증', '나', '네요', '목소리'], ['흠', '포스터', '보고', '초딩', '영화', '줄', '오버', '연기', '조차', '가볍', '지', '않', '구나'], ['너무', '재', '밓었다그래서보는것을추천한다'], ['교도소', '이야기', '구먼', '솔직히', '재미', '없', '다', '평점', '조정'], ['사이몬페그', '익살', '스런', '연기', '돋보였', '던', '영화', '스파이더맨', '에서', '늙', '어', '보이', '기', '만', '했', '던', '커스틴', '던스트', '너무나', '이뻐', '보였', '다']]\n",
      "[['굳', 'ㅋ'], ['GDNTOPCLASSINTHECLUB'], ['뭐', '야', '평점', '나쁘', '진', '않', '지만', '10', '점', '짜리', '더더욱', '아니', '잖아'], ['지루', '하', '지', '않', '은데', '완전', '막장', '임', '돈', '주', '고', '보', '기'], ['3', 'D', '만', '아니', '었', '어도', '별', '다섯', '개', '줬', '을', '텐데', '왜', '3', 'D', '로', '나와서', '제', '심기', '불편', '하', '게', '하', '죠']]\n",
      "144681\n",
      "48729\n"
     ]
    }
   ],
   "source": [
    "X_train_data = []\n",
    "for sentence in train_data['document']:\n",
    "    temp = tokenizer.morphs(sentence)                        # 형태소 분석\n",
    "    temp = [w for w in temp if w not in stopwords]         # 불용어 제거\n",
    "    X_train_data.append(temp)\n",
    "\n",
    "X_test_data = []\n",
    "for sentence in test_data['document']:                     \n",
    "    temp = tokenizer.morphs(sentence)                        # 형태소 분석\n",
    "    temp = [w for w in temp if w not in stopwords]         # 불용어 제거\n",
    "    X_test_data.append(temp)\n",
    "\n",
    "print(X_train_data[:5])\n",
    "print(X_test_data[:5])\n",
    "print(len(X_train_data))\n",
    "print(len(X_test_data))"
   ]
  },
  {
   "cell_type": "markdown",
   "id": "executive-silence",
   "metadata": {},
   "source": [
    "# 단어사전 만들기"
   ]
  },
  {
   "cell_type": "code",
   "execution_count": 96,
   "id": "vocal-radiation",
   "metadata": {},
   "outputs": [
    {
     "name": "stdout",
     "output_type": "stream",
     "text": [
      "10000\n",
      "10000\n"
     ]
    }
   ],
   "source": [
    "words = np.concatenate(X_train_data).tolist()                            # 데이터 한 줄로 펼치기\n",
    "word_count = Counter(words).most_common(10000 - 3)                       # 각 단어별 사용 개수 계산\n",
    "\n",
    "word_to_index = {data[0]:i+3 for i, data in enumerate(word_count)}       # word : index 형태의 단어사전 만들기\n",
    "word_to_index['<PAD>'] = 0                                                # <PAD> 토큰 추가\n",
    "word_to_index['<UNK>'] = 1                                                # <UNK> 토큰 추가\n",
    "word_to_index['<BOS>'] = 2                                                # <BOS> 토큰 추가\n",
    "\n",
    "index_to_word = {num:word for word, num in word_to_index.items()}         # index : word 형태의 단어사전 만들기\n",
    "index_to_word = dict(sorted(index_to_word.items(), key=lambda x: x[0]))   # index 순으로 단어사전 정렬\n",
    "\n",
    "print(len(word_to_index))\n",
    "print(len(index_to_word))"
   ]
  },
  {
   "cell_type": "markdown",
   "id": "subsequent-bandwidth",
   "metadata": {},
   "source": [
    "# 위 과정을 한 번에 실시\n",
    "전처리 과정 및 Konlpy 형태소 분석기를 이용한 형태소 분석을 한 번에 실시\n",
    "- 데이터 전처리\n",
    "- 형태소 분석\n",
    "- 단어사전 만들기"
   ]
  },
  {
   "cell_type": "code",
   "execution_count": 97,
   "id": "round-charm",
   "metadata": {},
   "outputs": [
    {
     "name": "stdout",
     "output_type": "stream",
     "text": [
      "144681 144681\n",
      "48729 48729\n"
     ]
    }
   ],
   "source": [
    "def load_data(dataset, tokenizer, train, num_words=10000, stopwords=stopwords):   \n",
    "    dataset = dataset.dropna(how='any')                                          # NaN 값 제거\n",
    "    dataset['document'] = dataset['document'].apply(preprocess_sentence)         # 문장 전처리 적용\n",
    "    dataset = dataset.drop_duplicates(subset=['document'])                       # 중복 데이터 제거\n",
    "    dataset = dataset[dataset['document'].str.len() > 1]                         # 길이가 2보다 짧은 데이터 삭제\n",
    "    \n",
    "    X_input = []                               # Train X 데이터 만들기\n",
    "    for sentence in dataset['document']:\n",
    "        tokens = tokenizer.morphs(sentence)\n",
    "        tokens = [word for word in tokens if word not in stopwords]\n",
    "        X_input.append(tokens)\n",
    "    \n",
    "    Y_output = dataset['label'].to_numpy()    # Train Y 데이터 만들기\n",
    "    \n",
    "    if train:    # Train 데이터를 만들 시 단어사전(Word_to_index) 까지 같이 만들기\n",
    "        word_list = np.concatenate(X_input).tolist()\n",
    "        counter = Counter(word_list).most_common(10000-3)\n",
    "        \n",
    "        word_to_index = {}\n",
    "        word_to_index['<PAD>'] = 0\n",
    "        word_to_index['<UNK>'] = 1\n",
    "        word_to_index['<BOS>'] = 2\n",
    "        for idx, data in enumerate(counter):\n",
    "            word, _ = data\n",
    "            word_to_index[word] = idx + 3\n",
    "        \n",
    "        return X_input, Y_output, word_to_index\n",
    "    \n",
    "    return X_input, Y_output   # Test 데이터 만들 시 단어사전(word_to_index)는 생략\n",
    "\n",
    "X_train_data, Y_train_data, word_to_index = load_data(train_data, tokenizer, train=True)\n",
    "X_test_data, Y_test_data = load_data(test_data, tokenizer, train=False)\n",
    "\n",
    "print(len(X_train_data), len(Y_train_data))\n",
    "print(len(X_test_data), len(Y_test_data))"
   ]
  },
  {
   "cell_type": "markdown",
   "id": "organic-grain",
   "metadata": {},
   "source": [
    "# 단어 인코더, 디코더"
   ]
  },
  {
   "cell_type": "markdown",
   "id": "prerequisite-society",
   "metadata": {},
   "source": [
    "### 단어 임베딩 함수로 합치기"
   ]
  },
  {
   "cell_type": "code",
   "execution_count": 98,
   "id": "remarkable-optimum",
   "metadata": {},
   "outputs": [
    {
     "name": "stdout",
     "output_type": "stream",
     "text": [
      "['아', '더', '빙', '진짜', '짜증', '나', '네요', '목소리']\n",
      "[[2, 26, 68, 950, 33, 223, 14, 27, 735]]\n"
     ]
    }
   ],
   "source": [
    "def encode_sentences(sentences, word_to_index=word_to_index):    # 단어들을 숫자로 변환하는 함수\n",
    "    encoded_sentences = []\n",
    "    \n",
    "    for sentence in sentences:\n",
    "        new_sentence = [word_to_index['<BOS>']]                    # 시작하는 부분 BOS(Begin of Sting) 추가\n",
    "        \n",
    "        for word in sentence:\n",
    "            if word in word_to_index:\n",
    "                new_sentence.append(word_to_index[word])          # 단어사전에 단어가 있으면 해당 index로 변환\n",
    "            else: \n",
    "                new_sentence.append(word_to_index['<UNK>'])       # 단어사전에 특정 단어가 없으면 <UNK> 토큰으로 대체\n",
    "                \n",
    "        encoded_sentences.append(new_sentence)\n",
    "        \n",
    "    return encoded_sentences\n",
    "\n",
    "def decode_sentences(sentences, index_to_word=index_to_word):    # 숫자들을 단어로 변환하는 함수\n",
    "    decoded_sentences = []\n",
    "    \n",
    "    for sentence in sentences:\n",
    "        new_sentence = []\n",
    "        \n",
    "        for idx in sentence:\n",
    "            if idx in index_to_word:\n",
    "                new_sentence.append(index_to_word[idx])              # 단어사전에 index를 단어로 변환\n",
    "            else:\n",
    "                new_sentence.append(word_to_index[1])\n",
    "                \n",
    "        decoded_sentences.append(' '.join(new_sentence))\n",
    "        \n",
    "    return decoded_sentences\n",
    "\n",
    "print(X_train_data[0])\n",
    "print(encode_sentences([X_train_data[0]]))"
   ]
  },
  {
   "cell_type": "markdown",
   "id": "third-bones",
   "metadata": {},
   "source": [
    "# 데이터셋 생성\n",
    "Padding 설정 시 Max Len의 길이를 설정해줘야 하기 때문에 분석을 통해 적절한 크기 결정\n",
    "- 전체 길이 중 90퍼에 해당하는 길이를 MaxLen으로 결정!"
   ]
  },
  {
   "cell_type": "markdown",
   "id": "furnished-watts",
   "metadata": {},
   "source": [
    "### Max len 결정"
   ]
  },
  {
   "cell_type": "code",
   "execution_count": 99,
   "id": "southeast-roman",
   "metadata": {},
   "outputs": [
    {
     "name": "stdout",
     "output_type": "stream",
     "text": [
      "The 90% of Length : 30.0\n"
     ]
    },
    {
     "data": {
      "image/png": "[encoded data removed]",
      "text/plain": [
       "<Figure size 720x720 with 2 Axes>"
      ]
     },
     "metadata": {
      "needs_background": "light"
     },
     "output_type": "display_data"
    }
   ],
   "source": [
    "dataset = X_train_data + X_test_data                  # 전체 데이터에서 길이의 분포를 파악하기 위해 Train Test 합치기\n",
    "train_len = len(X_train_data)\n",
    "sentence_len = [len(sent) for sent in dataset]        # 각 데이터들의 길이 종합\n",
    "\n",
    "percent = 90\n",
    "max_len = np.percentile(sentence_len, percent)        # 특정 Percent에 해당하는 데이터 길이 출력(90퍼로 결정)\n",
    "\n",
    "plt.figure(figsize=(10,10))\n",
    "\n",
    "plt.subplot(2,1,1)\n",
    "sns.histplot(sentence_len)\n",
    "plt.title('Histogram Length of Sentences')\n",
    "\n",
    "plt.subplot(2,1,2)\n",
    "sns.boxplot(data=sentence_len, orient='h')\n",
    "plt.axvline(x=max_len, color='#ff3300', linewidth=2, label='Threshold Value')  # 빨간 표시줄 그리기\n",
    "plt.text(max_len-2, -0.52, '90%', color='red')                                 # 빨간 표시줄 xtick(위)\n",
    "plt.text(max_len-2,0.55, max_len, color='red')                                 # 빨간 표시줄 xtick(아래)\n",
    "plt.title('Boxplot Length of Sentences')\n",
    "\n",
    "print(f'The {percent}% of Length :', max_len)\n",
    "plt.show()"
   ]
  },
  {
   "cell_type": "markdown",
   "id": "happy-florida",
   "metadata": {},
   "source": [
    "### Padding 적용\n",
    "> **한글은 문장의 뒷부분에 핵심 내용이 포함되기 때문에 Padding의 방향을 'pre'로 설정**"
   ]
  },
  {
   "cell_type": "code",
   "execution_count": 100,
   "id": "multiple-training",
   "metadata": {},
   "outputs": [
    {
     "name": "stdout",
     "output_type": "stream",
     "text": [
      "Shape of Train :  (144681, 30) (144681,)\n",
      "Shape of Train :  (48729, 30) (48729,)\n"
     ]
    }
   ],
   "source": [
    "X_train = encode_sentences(X_train_data)                 # 단어들을 숫자로 변환\n",
    "Y_train = Y_train_data\n",
    "\n",
    "X_test = encode_sentences(X_test_data)                   # 단어들을 숫자로 변환\n",
    "Y_test = Y_test_data\n",
    "\n",
    "X_train = keras.preprocessing.sequence.pad_sequences(X_train,\n",
    "                                                     value=word_to_index['<PAD>'],    # max len보다 짧으면 <PAD> 토큰으로 대체\n",
    "                                                     padding='pre',                   # padding을 문장 앞에 적용\n",
    "                                                     maxlen=int(max_len))\n",
    "X_test = keras.preprocessing.sequence.pad_sequences(X_test,\n",
    "                                                     value=word_to_index['<PAD>'],\n",
    "                                                     padding='pre',\n",
    "                                                     maxlen=int(max_len))\n",
    "X_train[:5]\n",
    "print('Shape of Train : ', X_train.shape, Y_train.shape)\n",
    "print('Shape of Train : ', X_test.shape, Y_test.shape)"
   ]
  },
  {
   "cell_type": "markdown",
   "id": "blank-found",
   "metadata": {},
   "source": [
    "# Model\n",
    "3가지 모델을 이용하여 성능 비교\n",
    "1. model_lstm\n",
    "2. model_gru\n",
    "3. model_cnn\n",
    "> **LSTM 모델이 가장 좋은 성능을 보여 앞으로 있을 여러 실험에 LSTM을 사용**"
   ]
  },
  {
   "cell_type": "markdown",
   "id": "general-compression",
   "metadata": {},
   "source": [
    "### LSTM model"
   ]
  },
  {
   "cell_type": "code",
   "execution_count": 101,
   "id": "scientific-challenge",
   "metadata": {},
   "outputs": [
    {
     "name": "stdout",
     "output_type": "stream",
     "text": [
      "Model: \"sequential_20\"\n",
      "_________________________________________________________________\n",
      "Layer (type)                 Output Shape              Param #   \n",
      "=================================================================\n",
      "embedding_20 (Embedding)     (None, None, 128)         1280000   \n",
      "_________________________________________________________________\n",
      "lstm_18 (LSTM)               (None, 8)                 4384      \n",
      "_________________________________________________________________\n",
      "dense_40 (Dense)             (None, 8)                 72        \n",
      "_________________________________________________________________\n",
      "dense_41 (Dense)             (None, 1)                 9         \n",
      "=================================================================\n",
      "Total params: 1,284,465\n",
      "Trainable params: 1,284,465\n",
      "Non-trainable params: 0\n",
      "_________________________________________________________________\n"
     ]
    }
   ],
   "source": [
    "vocab_size = len(word_to_index)\n",
    "word_vector_dim = 128\n",
    "\n",
    "model_lstm = keras.Sequential()\n",
    "model_lstm.add(keras.layers.Embedding(vocab_size, word_vector_dim, input_shape=(None,))) # Embedding layer 학습\n",
    "model_lstm.add(keras.layers.LSTM(8))\n",
    "model_lstm.add(keras.layers.Dense(8, activation='relu'))\n",
    "model_lstm.add(keras.layers.Dense(1, activation='sigmoid'))\n",
    "\n",
    "model_lstm.summary()"
   ]
  },
  {
   "cell_type": "markdown",
   "id": "saved-forestry",
   "metadata": {},
   "source": [
    "### GRU model"
   ]
  },
  {
   "cell_type": "code",
   "execution_count": 102,
   "id": "angry-dining",
   "metadata": {},
   "outputs": [
    {
     "name": "stdout",
     "output_type": "stream",
     "text": [
      "Model: \"sequential_21\"\n",
      "_________________________________________________________________\n",
      "Layer (type)                 Output Shape              Param #   \n",
      "=================================================================\n",
      "embedding_21 (Embedding)     (None, None, 128)         1280000   \n",
      "_________________________________________________________________\n",
      "gru_1 (GRU)                  (None, 8)                 3312      \n",
      "_________________________________________________________________\n",
      "dense_42 (Dense)             (None, 8)                 72        \n",
      "_________________________________________________________________\n",
      "dense_43 (Dense)             (None, 1)                 9         \n",
      "=================================================================\n",
      "Total params: 1,283,393\n",
      "Trainable params: 1,283,393\n",
      "Non-trainable params: 0\n",
      "_________________________________________________________________\n"
     ]
    }
   ],
   "source": [
    "vocab_size = len(word_to_index)\n",
    "word_vector_dim = 128\n",
    "\n",
    "model_gru = keras.Sequential()\n",
    "model_gru.add(keras.layers.Embedding(vocab_size, word_vector_dim, input_shape=(None,)))\n",
    "model_gru.add(tf.keras.layers.GRU(8))\n",
    "model_gru.add(keras.layers.Dense(8, activation='relu'))\n",
    "model_gru.add(keras.layers.Dense(1, activation='sigmoid'))\n",
    "\n",
    "model_gru.summary()"
   ]
  },
  {
   "cell_type": "markdown",
   "id": "trained-video",
   "metadata": {},
   "source": [
    "### CNN model"
   ]
  },
  {
   "cell_type": "code",
   "execution_count": 103,
   "id": "reduced-scottish",
   "metadata": {},
   "outputs": [
    {
     "name": "stdout",
     "output_type": "stream",
     "text": [
      "Model: \"sequential_22\"\n",
      "_________________________________________________________________\n",
      "Layer (type)                 Output Shape              Param #   \n",
      "=================================================================\n",
      "embedding_22 (Embedding)     (None, None, 128)         1280000   \n",
      "_________________________________________________________________\n",
      "conv1d_1 (Conv1D)            (None, None, 16)          10256     \n",
      "_________________________________________________________________\n",
      "global_max_pooling1d_1 (Glob (None, 16)                0         \n",
      "_________________________________________________________________\n",
      "dense_44 (Dense)             (None, 8)                 136       \n",
      "_________________________________________________________________\n",
      "dense_45 (Dense)             (None, 1)                 9         \n",
      "=================================================================\n",
      "Total params: 1,290,401\n",
      "Trainable params: 1,290,401\n",
      "Non-trainable params: 0\n",
      "_________________________________________________________________\n"
     ]
    }
   ],
   "source": [
    "from tensorflow.keras.layers import LSTM\n",
    "\n",
    "vocab_size = len(word_to_index)\n",
    "word_vector_dim = 128\n",
    "\n",
    "model_cnn = keras.Sequential()\n",
    "model_cnn.add(keras.layers.Embedding(vocab_size, word_vector_dim, input_shape=(None,)))\n",
    "model_cnn.add(keras.layers.Conv1D(16, 5, activation='relu'))\n",
    "model_cnn.add(keras.layers.GlobalMaxPooling1D())\n",
    "model_cnn.add(keras.layers.Dense(8, activation='relu'))\n",
    "model_cnn.add(keras.layers.Dense(1, activation='sigmoid'))\n",
    "\n",
    "model_cnn.summary()"
   ]
  },
  {
   "cell_type": "markdown",
   "id": "liked-conflict",
   "metadata": {},
   "source": [
    "# 학습"
   ]
  },
  {
   "cell_type": "markdown",
   "id": "antique-january",
   "metadata": {},
   "source": [
    "### Train & Val Dataset 나누기\n",
    "Train : 80% / val : 20%"
   ]
  },
  {
   "cell_type": "code",
   "execution_count": 104,
   "id": "final-structure",
   "metadata": {},
   "outputs": [
    {
     "name": "stdout",
     "output_type": "stream",
     "text": [
      "Train size :  (115744, 30) (115744,)\n",
      "Val size :  (28937, 30) (28937,)\n",
      "Test size :  (48729, 30) (48729,)\n"
     ]
    }
   ],
   "source": [
    "from sklearn.model_selection import train_test_split\n",
    "x_train, x_val, y_train, y_val = train_test_split(X_train, Y_train, test_size=0.2) # \n",
    "\n",
    "print('Train size : ', x_train.shape, y_train.shape)\n",
    "print('Val size : ', x_val.shape, y_val.shape)\n",
    "print('Test size : ', X_test.shape, Y_test.shape)"
   ]
  },
  {
   "cell_type": "markdown",
   "id": "higher-banking",
   "metadata": {},
   "source": [
    "### Model 컴파일 및 학습"
   ]
  },
  {
   "cell_type": "code",
   "execution_count": 105,
   "id": "aquatic-privacy",
   "metadata": {},
   "outputs": [
    {
     "name": "stdout",
     "output_type": "stream",
     "text": [
      "LSTM Finished\n",
      "GRU Finished\n",
      "CNN Finished\n"
     ]
    }
   ],
   "source": [
    "model_lstm.compile(optimizer='adam', loss='binary_crossentropy', metrics=['accuracy'])\n",
    "model_gru.compile(optimizer='adam', loss='binary_crossentropy', metrics=['accuracy'])\n",
    "model_cnn.compile(optimizer='adam', loss='binary_crossentropy', metrics=['accuracy'])\n",
    "\n",
    "EPOCH=20\n",
    "\n",
    "history_lstm = model_lstm.fit(x_train, y_train, epochs=EPOCH, batch_size=512, validation_data=(x_val, y_val), verbose=0)\n",
    "print('LSTM Finished')\n",
    "history_gru = model_gru.fit(x_train, y_train, epochs=EPOCH, batch_size=512, validation_data=(x_val, y_val), verbose=0)\n",
    "print('GRU Finished')\n",
    "history_cnn = model_cnn.fit(x_train, y_train, epochs=EPOCH, batch_size=512, validation_data=(x_val, y_val), verbose=0)\n",
    "print('CNN Finished')"
   ]
  },
  {
   "cell_type": "markdown",
   "id": "moving-intranet",
   "metadata": {},
   "source": [
    "### 학습결과 시각화"
   ]
  },
  {
   "cell_type": "code",
   "execution_count": 106,
   "id": "sacred-commander",
   "metadata": {},
   "outputs": [
    {
     "data": {
      "image/png": "[encoded data removed]",
      "text/plain": [
       "<Figure size 1080x360 with 3 Axes>"
      ]
     },
     "metadata": {
      "needs_background": "light"
     },
     "output_type": "display_data"
    }
   ],
   "source": [
    "def plot_history(history_dict):\n",
    "    train_loss = history_dict['loss']\n",
    "    train_acc = history_dict['accuracy']\n",
    "    val_loss = history_dict['val_loss']\n",
    "    val_acc = history_dict['val_accuracy']\n",
    "    \n",
    "    epoch_range = range(1,EPOCH+1)\n",
    "    \n",
    "    plt.plot(epoch_range, train_loss)\n",
    "    plt.plot(epoch_range, train_acc)\n",
    "    plt.plot(epoch_range, val_loss)\n",
    "    plt.plot(epoch_range, val_acc)\n",
    "    plt.legend(['train_loss', 'train_accuracy', 'val_loss', 'val_accuracy'])\n",
    "\n",
    "history_lstm_dict = history_lstm.history\n",
    "history_gru_dict = history_gru.history\n",
    "history_cnn_dict = history_cnn.history\n",
    "\n",
    "plt.figure(figsize=(15,5))\n",
    "plt.subplot(1,3,1); plot_history(history_lstm_dict); plt.title('LSTM')\n",
    "plt.subplot(1,3,2); plot_history(history_gru_dict); plt.title('GRU')\n",
    "plt.subplot(1,3,3); plot_history(history_cnn_dict); plt.title('CNN')\n",
    "\n",
    "plt.show()"
   ]
  },
  {
   "cell_type": "markdown",
   "id": "fitted-scotland",
   "metadata": {},
   "source": [
    "### 해석\n",
    "- Train loss가 감소하지만 val_loss가 증가한 것으로 보아 overfitting이 되었다고 판단"
   ]
  },
  {
   "cell_type": "markdown",
   "id": "exposed-arlington",
   "metadata": {},
   "source": [
    "# 평가"
   ]
  },
  {
   "cell_type": "code",
   "execution_count": 107,
   "id": "abandoned-syndicate",
   "metadata": {},
   "outputs": [
    {
     "name": "stdout",
     "output_type": "stream",
     "text": [
      "1523/1523 - 4s - loss: 0.8390 - accuracy: 0.8288\n",
      "1523/1523 - 4s - loss: 0.7055 - accuracy: 0.8235\n",
      "1523/1523 - 2s - loss: 1.1205 - accuracy: 0.8189\n"
     ]
    },
    {
     "data": {
      "image/png": "[encoded data removed]",
      "text/plain": [
       "<Figure size 432x288 with 1 Axes>"
      ]
     },
     "metadata": {
      "needs_background": "light"
     },
     "output_type": "display_data"
    }
   ],
   "source": [
    "_, lstm_acc = model_lstm.evaluate(X_test, Y_test, verbose=2)\n",
    "_, gru_acc = model_gru.evaluate(X_test, Y_test, verbose=2)\n",
    "_, cnn_acc = model_cnn.evaluate(X_test, Y_test, verbose=2)\n",
    "\n",
    "df_eval = pd.DataFrame({'Model' : ['LSTM', 'GRU', 'CNN'], \n",
    "                        'Accuracy' : [lstm_acc, gru_acc, cnn_acc]})\n",
    "\n",
    "splot = sns.barplot(x='Model', y='Accuracy', data=df_eval)\n",
    "for p in splot.patches:\n",
    "    splot.annotate(format(p.get_height(), '.4f'), \n",
    "                   (p.get_x() + p.get_width() / 2., p.get_height()), \n",
    "                   ha = 'center', va = 'center', \n",
    "                   size=15,\n",
    "                   xytext = (0, -12), \n",
    "                   textcoords = 'offset points')"
   ]
  },
  {
   "cell_type": "markdown",
   "id": "scenic-eagle",
   "metadata": {},
   "source": [
    "# 사전학습 word2vec 비교\n",
    "<hr>"
   ]
  },
  {
   "cell_type": "markdown",
   "id": "packed-checkout",
   "metadata": {},
   "source": [
    "### 직접 학습한 word2vec 추출"
   ]
  },
  {
   "cell_type": "code",
   "execution_count": 108,
   "id": "juvenile-elder",
   "metadata": {},
   "outputs": [
    {
     "data": {
      "text/plain": [
       "[('습니다', 0.7089802622795105),\n",
       " ('또', 0.6827924251556396),\n",
       " ('애니메이션', 0.6789795160293579),\n",
       " ('됨', 0.6632970571517944),\n",
       " ('^', 0.6501381993293762)]"
      ]
     },
     "execution_count": 108,
     "metadata": {},
     "output_type": "execute_result"
    }
   ],
   "source": [
    "# model에서 Embedding weights(== word vectors) 추출\n",
    "embedding_layer = model_lstm.layers[0]\n",
    "vectors = embedding_layer.get_weights()[0]\n",
    "\n",
    "# Embedding weight 저장\n",
    "word2vec_file_path = os.getenv('HOME') + '/aiffel/Exploration/sentiment_classification/data/word2vec.txt'\n",
    "with open(word2vec_file_path, 'w') as f:\n",
    "    f.write(f'{vocab_size-3} {word_vector_dim}\\n')\n",
    "    \n",
    "    word_vector = model_lstm.get_weights()[0]\n",
    "    for i in range(3, vocab_size):\n",
    "        f.write(f\"{index_to_word[i]} {' '.join(list(map(str, vectors[i])))}\\n\")\n",
    "    f.close()\n",
    "\n",
    "# Embedding weight 불러오기\n",
    "from gensim.models.keyedvectors import Word2VecKeyedVectors\n",
    "\n",
    "word2vec = Word2VecKeyedVectors.load_word2vec_format(word2vec_file_path, binary=False)\n",
    "word2vec.similar_by_word('영화')[:5]"
   ]
  },
  {
   "cell_type": "markdown",
   "id": "korean-magnitude",
   "metadata": {},
   "source": [
    "### 사전학습된 word2vec 불러오기"
   ]
  },
  {
   "cell_type": "code",
   "execution_count": 109,
   "id": "premier-experience",
   "metadata": {},
   "outputs": [
    {
     "data": {
      "text/plain": [
       "[('다큐멘터리', 0.7265259027481079),\n",
       " ('영화사', 0.715214192867279),\n",
       " ('드라마', 0.705294132232666),\n",
       " ('뮤지컬', 0.6947016716003418),\n",
       " ('코미디', 0.69093257188797)]"
      ]
     },
     "execution_count": 109,
     "metadata": {},
     "output_type": "execute_result"
    }
   ],
   "source": [
    "import gensim\n",
    "import os\n",
    "\n",
    "word2vec_path = os.getenv('HOME') + '/aiffel/Exploration/sentiment_classification/data/ko.bin'\n",
    "word2vec_pre = gensim.models.Word2Vec.load(word2vec_path)\n",
    "word2vec_pre.wv.similar_by_word('영화')[:5]"
   ]
  },
  {
   "cell_type": "markdown",
   "id": "certified-guess",
   "metadata": {},
   "source": [
    "### 사전학습된 word2vec으로 Embedding Matrix 만들기"
   ]
  },
  {
   "cell_type": "code",
   "execution_count": 110,
   "id": "chief-fiber",
   "metadata": {},
   "outputs": [],
   "source": [
    "vocab_size = 10000    # 어휘 사전의 크기입니다(10,000개의 단어)\n",
    "word_vector_dim = 200  # 워드 벡터의 차원수 (변경가능한 하이퍼파라미터)\n",
    "\n",
    "embedding_matrix = np.random.randn(vocab_size, word_vector_dim)\n",
    "\n",
    "for i in range(vocab_size):\n",
    "    if index_to_word[i] in word2vec_pre.wv:\n",
    "        embedding_matrix[i] = word2vec_pre.wv[index_to_word[i]]"
   ]
  },
  {
   "cell_type": "markdown",
   "id": "ambient-grove",
   "metadata": {},
   "source": [
    "### 학습"
   ]
  },
  {
   "cell_type": "code",
   "execution_count": 111,
   "id": "located-reward",
   "metadata": {
    "scrolled": true
   },
   "outputs": [
    {
     "name": "stdout",
     "output_type": "stream",
     "text": [
      "Train size :  (115744, 30) (115744,)\n",
      "Val size :  (28937, 30) (28937,)\n",
      "Test size :  (48729, 30) (48729,)\n",
      "Epoch 1/20\n",
      "227/227 - 7s - loss: 0.5455 - accuracy: 0.7196 - val_loss: 0.4309 - val_accuracy: 0.8073\n",
      "Epoch 2/20\n",
      "227/227 - 5s - loss: 0.3915 - accuracy: 0.8286 - val_loss: 0.3800 - val_accuracy: 0.8321\n",
      "Epoch 3/20\n",
      "227/227 - 4s - loss: 0.3446 - accuracy: 0.8532 - val_loss: 0.3623 - val_accuracy: 0.8419\n",
      "Epoch 4/20\n",
      "227/227 - 4s - loss: 0.3168 - accuracy: 0.8677 - val_loss: 0.3565 - val_accuracy: 0.8463\n",
      "Epoch 5/20\n",
      "227/227 - 4s - loss: 0.2956 - accuracy: 0.8783 - val_loss: 0.3600 - val_accuracy: 0.8473\n",
      "Epoch 6/20\n",
      "227/227 - 4s - loss: 0.2800 - accuracy: 0.8857 - val_loss: 0.3599 - val_accuracy: 0.8467\n",
      "Epoch 7/20\n",
      "227/227 - 4s - loss: 0.2662 - accuracy: 0.8926 - val_loss: 0.3631 - val_accuracy: 0.8476\n",
      "Epoch 8/20\n",
      "227/227 - 4s - loss: 0.2533 - accuracy: 0.8995 - val_loss: 0.3714 - val_accuracy: 0.8473\n",
      "Epoch 9/20\n",
      "227/227 - 4s - loss: 0.2412 - accuracy: 0.9050 - val_loss: 0.3729 - val_accuracy: 0.8484\n",
      "Epoch 10/20\n",
      "227/227 - 4s - loss: 0.2306 - accuracy: 0.9096 - val_loss: 0.3911 - val_accuracy: 0.8464\n",
      "Epoch 11/20\n",
      "227/227 - 4s - loss: 0.2200 - accuracy: 0.9152 - val_loss: 0.3947 - val_accuracy: 0.8449\n",
      "Epoch 12/20\n",
      "227/227 - 4s - loss: 0.2103 - accuracy: 0.9194 - val_loss: 0.4040 - val_accuracy: 0.8437\n",
      "Epoch 13/20\n",
      "227/227 - 4s - loss: 0.2010 - accuracy: 0.9233 - val_loss: 0.4158 - val_accuracy: 0.8433\n",
      "Epoch 14/20\n",
      "227/227 - 4s - loss: 0.1923 - accuracy: 0.9278 - val_loss: 0.4205 - val_accuracy: 0.8425\n",
      "Epoch 15/20\n",
      "227/227 - 4s - loss: 0.1838 - accuracy: 0.9317 - val_loss: 0.4384 - val_accuracy: 0.8441\n",
      "Epoch 16/20\n",
      "227/227 - 4s - loss: 0.1761 - accuracy: 0.9351 - val_loss: 0.4477 - val_accuracy: 0.8418\n",
      "Epoch 17/20\n",
      "227/227 - 4s - loss: 0.1697 - accuracy: 0.9375 - val_loss: 0.4590 - val_accuracy: 0.8414\n",
      "Epoch 18/20\n",
      "227/227 - 4s - loss: 0.1616 - accuracy: 0.9406 - val_loss: 0.4773 - val_accuracy: 0.8398\n",
      "Epoch 19/20\n",
      "227/227 - 4s - loss: 0.1548 - accuracy: 0.9439 - val_loss: 0.4915 - val_accuracy: 0.8375\n",
      "Epoch 20/20\n",
      "227/227 - 4s - loss: 0.1475 - accuracy: 0.9463 - val_loss: 0.5053 - val_accuracy: 0.8364\n"
     ]
    }
   ],
   "source": [
    "from tensorflow.keras.initializers import Constant\n",
    "from sklearn.model_selection import train_test_split\n",
    "\n",
    "x_train, x_val, y_train, y_val = train_test_split(X_train, Y_train, test_size=0.2)\n",
    "\n",
    "print('Train size : ', x_train.shape, y_train.shape)\n",
    "print('Val size : ', x_val.shape, y_val.shape)\n",
    "print('Test size : ', X_test.shape, Y_test.shape)\n",
    "\n",
    "vocab_size = 10000 \n",
    "word_vector_dim = 200  \n",
    "\n",
    "model_lstm = keras.Sequential()\n",
    "model_lstm.add(keras.layers.Embedding(vocab_size, word_vector_dim, \n",
    "                                      embeddings_initializer=Constant(embedding_matrix), \n",
    "                                      input_shape=(None,),\n",
    "                                      trainable=True))\n",
    "model_lstm.add(keras.layers.LSTM(8))\n",
    "model_lstm.add(keras.layers.Dense(8, activation='relu'))\n",
    "model_lstm.add(keras.layers.Dense(1, activation='sigmoid'))\n",
    "\n",
    "model_lstm.compile(optimizer='adam', loss='binary_crossentropy', metrics=['accuracy'])\n",
    "\n",
    "EPOCH = 20\n",
    "history_lstm_pre_train = model_lstm.fit(x_train, y_train, epochs=EPOCH, batch_size=512, validation_data=(x_val, y_val), verbose=2)"
   ]
  },
  {
   "cell_type": "markdown",
   "id": "unique-microwave",
   "metadata": {},
   "source": [
    "### 학습결과 비교"
   ]
  },
  {
   "cell_type": "code",
   "execution_count": 112,
   "id": "dynamic-custom",
   "metadata": {},
   "outputs": [
    {
     "data": {
      "image/png": "[encoded data removed]",
      "text/plain": [
       "<Figure size 1080x360 with 3 Axes>"
      ]
     },
     "metadata": {
      "needs_background": "light"
     },
     "output_type": "display_data"
    }
   ],
   "source": [
    "history_lstm_dict_pre = history_lstm_pre.history\n",
    "\n",
    "plt.figure(figsize=(15,5))\n",
    "plt.subplot(1,3,1); plot_history(history_lstm_dict); plt.xlabel('EPOCH'); plt.ylabel('loss & Accuracy')\n",
    "plt.title('Normal word2vec')\n",
    "plt.subplot(1,3,2); plot_history(history_lstm_dict_pre); plt.xlabel('EPOCH')\n",
    "plt.title('Pre-Trained word2vec(train=False)')\n",
    "plt.subplot(1,3,3); plot_history(history_lstm_dict_pre_train); plt.xlabel('EPOCH')\n",
    "plt.title('Pre-Trained word2vec(train=True)')\n",
    "plt.show()"
   ]
  },
  {
   "cell_type": "markdown",
   "id": "popular-publicity",
   "metadata": {},
   "source": [
    "### 해석\n",
    "- 우선 Pre-Trained된 word2vec를 사용하면 비교적 overfitting 덜 발생\n",
    "- 또한 Embedding Layer 부분의 파라미터를 학습하지 않고 진행하면 안정적인 학습이 이루어짐\n",
    "> **Pre-Trained된 word2vec을 이용하고, Train을 off한 상태로 학습을 진행하는게 가장 이상적인 학습방법**"
   ]
  },
  {
   "cell_type": "markdown",
   "id": "swedish-challenge",
   "metadata": {},
   "source": [
    "### 정확도 비교\n",
    "직접 학습한 word2vec와 사전 학습된 word2vec의 정확도 비교\n",
    "- 위 과정에서 정확도가 가장 높게 나온 LSTM 모델로 비교"
   ]
  },
  {
   "cell_type": "code",
   "execution_count": 113,
   "id": "comic-mistake",
   "metadata": {},
   "outputs": [
    {
     "name": "stdout",
     "output_type": "stream",
     "text": [
      "1523/1523 - 4s - loss: 0.5252 - accuracy: 0.8326\n"
     ]
    },
    {
     "data": {
      "image/png": "[encoded data removed]",
      "text/plain": [
       "<Figure size 432x288 with 1 Axes>"
      ]
     },
     "metadata": {
      "needs_background": "light"
     },
     "output_type": "display_data"
    }
   ],
   "source": [
    "_, lstm_acc_pre_train = model_lstm.evaluate(X_test, Y_test, verbose=2)\n",
    "\n",
    "df_eval_pre = pd.DataFrame({'Model' : ['LSTM', 'LSTM_pre', 'LSTM_pre_train'], \n",
    "                        'Accuracy' : [lstm_acc, lstm_acc_pre, lstm_acc_pre_train]})\n",
    "\n",
    "splot = sns.barplot(x='Model', y='Accuracy', data=df_eval_pre)\n",
    "for p in splot.patches:\n",
    "    splot.annotate(format(p.get_height(), '.4f'), \n",
    "                   (p.get_x() + p.get_width() / 2., p.get_height()), \n",
    "                   ha = 'center', va = 'center', \n",
    "                   size=15,\n",
    "                   xytext = (0, -12), \n",
    "                   textcoords = 'offset points')\n",
    "    \n",
    "plt.show()"
   ]
  },
  {
   "cell_type": "markdown",
   "id": "thorough-commercial",
   "metadata": {},
   "source": [
    "# 다양한 형태소 분석기 비교\n",
    "<hr>\n",
    "\n",
    "1. Konlpy(Mecab)\n",
    "2. Khaiii : CNN 방식을 이용하는 형태소 분석기"
   ]
  },
  {
   "cell_type": "markdown",
   "id": "regulated-obligation",
   "metadata": {},
   "source": [
    "### Konlpy(Mecab)"
   ]
  },
  {
   "cell_type": "code",
   "execution_count": 114,
   "id": "digital-bottom",
   "metadata": {},
   "outputs": [
    {
     "name": "stdout",
     "output_type": "stream",
     "text": [
      "Mecab Finished\n"
     ]
    }
   ],
   "source": [
    "from konlpy.tag import Mecab, Kkma, Okt\n",
    "tokenizer_mecab = Mecab()\n",
    "tokenizer_kkma = Kkma()\n",
    "tokenizer_okt = Okt()\n",
    "\n",
    "stopwords = ['의','가','이','은','들','는','좀','잘','걍','과','도','를','으로','자','에','와','한','하다']\n",
    "\n",
    "train_mecab_x, train_mecab_y, word_to_index_mecab = load_data(train_data, tokenizer_mecab, train=True)\n",
    "test_mecab_x, test_mecab_y = load_data(test_data, tokenizer_mecab, train=False)\n",
    "print('Mecab Finished')"
   ]
  },
  {
   "cell_type": "markdown",
   "id": "romantic-chancellor",
   "metadata": {},
   "source": [
    "### Khaiii\n",
    "직접 Khaiii 라이브러리를 설치해야 사용 가능[Khaiii 설치](https://github.com/kakao/khaiii)\n",
    "- Window에는 실행이 불가하기 때문에 cloud 환경을 이용\n",
    "- 따로 document를 제공하지 않아 좀 불편함. 하나씩 메소드를 실행하면서 파악해야함"
   ]
  },
  {
   "cell_type": "code",
   "execution_count": 115,
   "id": "alleged-maldives",
   "metadata": {},
   "outputs": [
    {
     "name": "stdout",
     "output_type": "stream",
     "text": [
      "10000\n",
      "10000\n"
     ]
    }
   ],
   "source": [
    "from khaiii import KhaiiiApi \n",
    "\n",
    "api = KhaiiiApi()                                   # Khaiii 클래스 불러오기\n",
    "\n",
    "train_khaiii_x = []\n",
    "train_khaiii_y = train_data['label'].to_numpy()\n",
    "for sentence in train_data['document']:\n",
    "    analyzed = api.analyze(sentence)                # 형태소 분석\n",
    "    \n",
    "    morphs_list = []\n",
    "    for word in analyzed:            \n",
    "        for morph in word.morphs:                  # 분석한 결과 (단어, tagging) 형식으로 출력\n",
    "            morphs_list.append(morph.lex)           # (단어, tagging) 중 단어(lex)만 추출\n",
    "    train_khaiii_x.append(morphs_list)\n",
    "\n",
    "test_khaiii_x = []\n",
    "test_khaiii_y = test_data['label'].to_numpy()\n",
    "for sentence in test_data['document']:\n",
    "    analyzed = api.analyze(sentence)\n",
    "    \n",
    "    morphs_list = []\n",
    "    for word in analyzed:                          # 형태소 분석\n",
    "        for morph in word.morphs:                  # 분석한 결과 (단어, tagging) 형식으로 출력\n",
    "            morphs_list.append(morph.lex)           # (단어, tagging) 중 단어(lex)만 추출\n",
    "    test_khaiii_x.append(morphs_list)\n",
    "    \n",
    "# 단어사전 만들기\n",
    "words_khaiii = np.concatenate(train_khaiii_x).tolist()\n",
    "word_count_khaiii = Counter(words_khaiii).most_common(10000 - 3)\n",
    "\n",
    "word_to_index_khaiii = {data[0]:i+3 for i, data in enumerate(word_count_khaiii)}\n",
    "word_to_index_khaiii['<PAD>'] = 0\n",
    "word_to_index_khaiii['<UNK>'] = 1\n",
    "word_to_index_khaiii['<BOS>'] = 2\n",
    "\n",
    "index_to_word_khaiii = {num:word for word, num in word_to_index_khaiii.items()}\n",
    "index_to_word_khaiii = dict(sorted(index_to_word_khaiii.items(), key=lambda x: x[0]))\n",
    "\n",
    "print(len(word_to_index_khaiii))\n",
    "print(len(index_to_word_khaiii))"
   ]
  },
  {
   "cell_type": "markdown",
   "id": "representative-forest",
   "metadata": {},
   "source": [
    "### 학습\n",
    "함수로 정의해서 편리하게 사용"
   ]
  },
  {
   "cell_type": "code",
   "execution_count": 116,
   "id": "contrary-context",
   "metadata": {},
   "outputs": [
    {
     "name": "stdout",
     "output_type": "stream",
     "text": [
      "(115744, 30)\n",
      "mecab Finished\n",
      "(115744, 30)\n",
      "khaiii Finished\n"
     ]
    }
   ],
   "source": [
    "from tensorflow.keras.preprocessing.sequence import pad_sequences\n",
    "\n",
    "def train(X_trian, Y_train, word_to_index, name):\n",
    "    X_train = encode_sentences(X_trian)\n",
    "    X_train = pad_sequences(X_train, value=word_to_index['<PAD>'], padding='pre', maxlen=30)\n",
    "    \n",
    "    x_train, x_val, y_train, y_val = train_test_split(X_train, Y_train, test_size=0.2)\n",
    "    \n",
    "    print(x_train.shape)\n",
    "    vocab_size = len(word_to_index)\n",
    "    word_vector_dim = 128\n",
    "\n",
    "    model_lstm = keras.Sequential()\n",
    "    model_lstm.add(keras.layers.Embedding(vocab_size, word_vector_dim, input_shape=(None,)))\n",
    "    model_lstm.add(keras.layers.LSTM(8))\n",
    "    model_lstm.add(keras.layers.Dense(8, activation='relu'))\n",
    "    model_lstm.add(keras.layers.Dense(1, activation='sigmoid'))\n",
    "    \n",
    "    model_lstm.compile(optimizer='adam', loss='binary_crossentropy', metrics=['accuracy'])\n",
    "\n",
    "    EPOCH=20\n",
    "\n",
    "    history_lstm = model_lstm.fit(x_train, y_train, epochs=EPOCH, batch_size=512, validation_data=(x_val, y_val), verbose=0)\n",
    "    print(f'{name} Finished')\n",
    "    \n",
    "    return history_lstm, model_lstm\n",
    "\n",
    "history_mecab, mecab_model = train(train_mecab_x, train_mecab_y, word_to_index_mecab, name='mecab')\n",
    "history_khaiii, khaiii_model = train(train_khaiii_x, train_khaiii_y, word_to_index_khaiii, name='khaiii')"
   ]
  },
  {
   "cell_type": "code",
   "execution_count": 117,
   "id": "reserved-admission",
   "metadata": {},
   "outputs": [
    {
     "data": {
      "image/png": "[encoded data removed]",
      "text/plain": [
       "<Figure size 1080x360 with 2 Axes>"
      ]
     },
     "metadata": {
      "needs_background": "light"
     },
     "output_type": "display_data"
    }
   ],
   "source": [
    "history_mecab_dict = history_mecab.history\n",
    "history_khaiii_dict = history_khaiii.history\n",
    "\n",
    "plt.figure(figsize=(15,5))\n",
    "plt.subplot(1,2,1); plot_history(history_mecab_dict); plt.title('Mecab')\n",
    "plt.subplot(1,2,2); plot_history(history_khaiii_dict); plt.title('Khaiii')\n",
    "\n",
    "plt.show()"
   ]
  },
  {
   "cell_type": "code",
   "execution_count": 118,
   "id": "geographic-marks",
   "metadata": {},
   "outputs": [
    {
     "name": "stdout",
     "output_type": "stream",
     "text": [
      "1523/1523 - 3s - loss: 0.8168 - accuracy: 0.8295\n",
      "1523/1523 - 3s - loss: 0.6382 - accuracy: 0.8040\n"
     ]
    },
    {
     "data": {
      "image/png": "[encoded data removed]",
      "text/plain": [
       "<Figure size 432x288 with 1 Axes>"
      ]
     },
     "metadata": {
      "needs_background": "light"
     },
     "output_type": "display_data"
    }
   ],
   "source": [
    "def val(X_test, Y_test, model, word_to_index):\n",
    "    X_test = encode_sentences(X_test)\n",
    "    X_test = pad_sequences(X_test, value=word_to_index['<PAD>'], padding='pre', maxlen=30)\n",
    "\n",
    "    _, tokenizer_acc = model.evaluate(X_test, Y_test, verbose=2)\n",
    "    \n",
    "    return tokenizer_acc\n",
    "\n",
    "mecab_acc = val(test_mecab_x, test_mecab_y, mecab_model, word_to_index_mecab)\n",
    "khaiii_acc = val(test_khaiii_x, test_khaiii_y, khaiii_model, word_to_index_khaiii)\n",
    "\n",
    "df_eval = pd.DataFrame({'Tokenizer' : ['Mecab', 'Khaiii'], \n",
    "                        'Accuracy' : [mecab_acc, khaiii_acc]})\n",
    "\n",
    "splot = sns.barplot(x='Tokenizer', y='Accuracy', data=df_eval)\n",
    "for p in splot.patches:\n",
    "    splot.annotate(format(p.get_height(), '.4f'), \n",
    "                   (p.get_x() + p.get_width() / 2., p.get_height()), \n",
    "                   ha = 'center', va = 'center', \n",
    "                   size=15,\n",
    "                   xytext = (0, -12), \n",
    "                   textcoords = 'offset points')"
   ]
  },
  {
   "cell_type": "markdown",
   "id": "established-musical",
   "metadata": {},
   "source": [
    "# 결과 및 고찰\n",
    "- 3가지 모델(LSTM, GRU, CNN) 중 LSTM 모델이 가장 성능이 좋음\n",
    "- Konlpy에 다양한 형태소 분석기(Kkma, Okt 등)이 있지만 시간이 너무 오래 걸려서 포기\n",
    "- 2가지 형태소 분석기(Mecab, Khaiii) 실험을 통해 Mecab이 더 좋다고 판단\n",
    "  - **Khaiii의 경우 너무 세부적으로 나누는 특징이 있음**\n",
    "  - **따라서 Khaiii의 경우 깔끔한 문장에 대해서는 매우 좋은 성능을 보이지만, 댓글 같이 오타가 많은 것에는 성능이 좋지 않음**\n",
    "- 사실 데이터셋을 쭉 보면 잘못 labeling 된 데이터들도 보이기 때문에 신빙성이 없음\n",
    "- 데이터 전처리가 더 많으면 성능이 확실히 더 오를것으로 판단이 됨\n",
    "> **Pre-Trained word2vec을 이용해 Embedding Layer의 train을 off한 상태로 데이터를 학습하면 좋은 결과가 나올 것으로 판단**"
   ]
  }
 ],
 "metadata": {
  "kernelspec": {
   "display_name": "Python 3",
   "language": "python",
   "name": "python3"
  },
  "language_info": {
   "codemirror_mode": {
    "name": "ipython",
    "version": 3
   },
   "file_extension": ".py",
   "mimetype": "text/x-python",
   "name": "python",
   "nbconvert_exporter": "python",
   "pygments_lexer": "ipython3",
   "version": "3.7.9"
  }
 },
 "nbformat": 4,
 "nbformat_minor": 5
}
