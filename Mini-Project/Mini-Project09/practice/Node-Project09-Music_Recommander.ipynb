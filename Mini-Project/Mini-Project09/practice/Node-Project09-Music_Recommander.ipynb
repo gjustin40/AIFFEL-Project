{
 "cells": [
  {
   "cell_type": "markdown",
   "id": "chemical-reasoning",
   "metadata": {},
   "source": [
    "# 음악 취향 추천 시스템"
   ]
  },
  {
   "cell_type": "code",
   "execution_count": 1,
   "id": "fresh-brake",
   "metadata": {},
   "outputs": [],
   "source": [
    "import pandas as pd\n",
    "import os\n",
    "import re\n",
    "\n",
    "import numpy as np\n",
    "from collections import Counter\n",
    "\n",
    "import tensorflow as tf\n",
    "from tensorflow import keras\n",
    "from tensorflow.keras.preprocessing.sequence import pad_sequences\n",
    "from tensorflow.keras.preprocessing.text import Tokenizer\n",
    "\n",
    "from konlpy.tag import Okt\n",
    "\n",
    "import seaborn as sns\n",
    "import matplotlib.pyplot as plt\n",
    "\n",
    "\n",
    "np.random.seed(40)"
   ]
  },
  {
   "cell_type": "code",
   "execution_count": 2,
   "id": "silent-israel",
   "metadata": {},
   "outputs": [
    {
     "data": {
      "text/html": [
       "<div>\n",
       "<style scoped>\n",
       "    .dataframe tbody tr th:only-of-type {\n",
       "        vertical-align: middle;\n",
       "    }\n",
       "\n",
       "    .dataframe tbody tr th {\n",
       "        vertical-align: top;\n",
       "    }\n",
       "\n",
       "    .dataframe thead th {\n",
       "        text-align: right;\n",
       "    }\n",
       "</style>\n",
       "<table border=\"1\" class=\"dataframe\">\n",
       "  <thead>\n",
       "    <tr style=\"text-align: right;\">\n",
       "      <th></th>\n",
       "      <th>user_id</th>\n",
       "      <th>artist_MBID</th>\n",
       "      <th>artist</th>\n",
       "      <th>play</th>\n",
       "    </tr>\n",
       "  </thead>\n",
       "  <tbody>\n",
       "    <tr>\n",
       "      <th>0</th>\n",
       "      <td>00000c289a1829a808ac09c00daf10bc3c4e223b</td>\n",
       "      <td>3bd73256-3905-4f3a-97e2-8b341527f805</td>\n",
       "      <td>betty blowtorch</td>\n",
       "      <td>2137</td>\n",
       "    </tr>\n",
       "    <tr>\n",
       "      <th>1</th>\n",
       "      <td>00000c289a1829a808ac09c00daf10bc3c4e223b</td>\n",
       "      <td>f2fb0ff0-5679-42ec-a55c-15109ce6e320</td>\n",
       "      <td>die Ärzte</td>\n",
       "      <td>1099</td>\n",
       "    </tr>\n",
       "    <tr>\n",
       "      <th>2</th>\n",
       "      <td>00000c289a1829a808ac09c00daf10bc3c4e223b</td>\n",
       "      <td>b3ae82c2-e60b-4551-a76d-6620f1b456aa</td>\n",
       "      <td>melissa etheridge</td>\n",
       "      <td>897</td>\n",
       "    </tr>\n",
       "    <tr>\n",
       "      <th>3</th>\n",
       "      <td>00000c289a1829a808ac09c00daf10bc3c4e223b</td>\n",
       "      <td>3d6bbeb7-f90e-4d10-b440-e153c0d10b53</td>\n",
       "      <td>elvenking</td>\n",
       "      <td>717</td>\n",
       "    </tr>\n",
       "    <tr>\n",
       "      <th>4</th>\n",
       "      <td>00000c289a1829a808ac09c00daf10bc3c4e223b</td>\n",
       "      <td>bbd2ffd7-17f4-4506-8572-c1ea58c3f9a8</td>\n",
       "      <td>juliette &amp; the licks</td>\n",
       "      <td>706</td>\n",
       "    </tr>\n",
       "  </tbody>\n",
       "</table>\n",
       "</div>"
      ],
      "text/plain": [
       "                                    user_id  \\\n",
       "0  00000c289a1829a808ac09c00daf10bc3c4e223b   \n",
       "1  00000c289a1829a808ac09c00daf10bc3c4e223b   \n",
       "2  00000c289a1829a808ac09c00daf10bc3c4e223b   \n",
       "3  00000c289a1829a808ac09c00daf10bc3c4e223b   \n",
       "4  00000c289a1829a808ac09c00daf10bc3c4e223b   \n",
       "\n",
       "                            artist_MBID                artist  play  \n",
       "0  3bd73256-3905-4f3a-97e2-8b341527f805       betty blowtorch  2137  \n",
       "1  f2fb0ff0-5679-42ec-a55c-15109ce6e320             die Ärzte  1099  \n",
       "2  b3ae82c2-e60b-4551-a76d-6620f1b456aa     melissa etheridge   897  \n",
       "3  3d6bbeb7-f90e-4d10-b440-e153c0d10b53             elvenking   717  \n",
       "4  bbd2ffd7-17f4-4506-8572-c1ea58c3f9a8  juliette & the licks   706  "
      ]
     },
     "execution_count": 2,
     "metadata": {},
     "output_type": "execute_result"
    }
   ],
   "source": [
    "import seaborn as sns\n",
    "\n",
    "import numpy as np\n",
    "\n",
    "import pandas as pd\n",
    "import os\n",
    "\n",
    "fname = os.getenv('HOME') + '/aiffel/recommendata_iu/data/lastfm-dataset-360K/usersha1-artmbid-artname-plays.tsv'\n",
    "col_names = ['user_id', 'artist_MBID', 'artist', 'play']   # 임의로 지정한 컬럼명\n",
    "data = pd.read_csv(fname, sep='\\t', names= col_names)      # sep='\\t'로 주어야 tsv를 열 수 있습니다.  \n",
    "data.head()"
   ]
  },
  {
   "cell_type": "markdown",
   "id": "generous-correspondence",
   "metadata": {},
   "source": [
    "# 데이터 전처리"
   ]
  },
  {
   "cell_type": "markdown",
   "id": "tropical-cycle",
   "metadata": {},
   "source": [
    "### 분석에 사용할 column만 선택"
   ]
  },
  {
   "cell_type": "code",
   "execution_count": 3,
   "id": "funded-robertson",
   "metadata": {},
   "outputs": [
    {
     "data": {
      "text/html": [
       "<div>\n",
       "<style scoped>\n",
       "    .dataframe tbody tr th:only-of-type {\n",
       "        vertical-align: middle;\n",
       "    }\n",
       "\n",
       "    .dataframe tbody tr th {\n",
       "        vertical-align: top;\n",
       "    }\n",
       "\n",
       "    .dataframe thead th {\n",
       "        text-align: right;\n",
       "    }\n",
       "</style>\n",
       "<table border=\"1\" class=\"dataframe\">\n",
       "  <thead>\n",
       "    <tr style=\"text-align: right;\">\n",
       "      <th></th>\n",
       "      <th>user_id</th>\n",
       "      <th>artist</th>\n",
       "      <th>play</th>\n",
       "    </tr>\n",
       "  </thead>\n",
       "  <tbody>\n",
       "    <tr>\n",
       "      <th>0</th>\n",
       "      <td>00000c289a1829a808ac09c00daf10bc3c4e223b</td>\n",
       "      <td>betty blowtorch</td>\n",
       "      <td>2137</td>\n",
       "    </tr>\n",
       "    <tr>\n",
       "      <th>1</th>\n",
       "      <td>00000c289a1829a808ac09c00daf10bc3c4e223b</td>\n",
       "      <td>die Ärzte</td>\n",
       "      <td>1099</td>\n",
       "    </tr>\n",
       "    <tr>\n",
       "      <th>2</th>\n",
       "      <td>00000c289a1829a808ac09c00daf10bc3c4e223b</td>\n",
       "      <td>melissa etheridge</td>\n",
       "      <td>897</td>\n",
       "    </tr>\n",
       "    <tr>\n",
       "      <th>3</th>\n",
       "      <td>00000c289a1829a808ac09c00daf10bc3c4e223b</td>\n",
       "      <td>elvenking</td>\n",
       "      <td>717</td>\n",
       "    </tr>\n",
       "    <tr>\n",
       "      <th>4</th>\n",
       "      <td>00000c289a1829a808ac09c00daf10bc3c4e223b</td>\n",
       "      <td>juliette &amp; the licks</td>\n",
       "      <td>706</td>\n",
       "    </tr>\n",
       "  </tbody>\n",
       "</table>\n",
       "</div>"
      ],
      "text/plain": [
       "                                    user_id                artist  play\n",
       "0  00000c289a1829a808ac09c00daf10bc3c4e223b       betty blowtorch  2137\n",
       "1  00000c289a1829a808ac09c00daf10bc3c4e223b             die Ärzte  1099\n",
       "2  00000c289a1829a808ac09c00daf10bc3c4e223b     melissa etheridge   897\n",
       "3  00000c289a1829a808ac09c00daf10bc3c4e223b             elvenking   717\n",
       "4  00000c289a1829a808ac09c00daf10bc3c4e223b  juliette & the licks   706"
      ]
     },
     "execution_count": 3,
     "metadata": {},
     "output_type": "execute_result"
    }
   ],
   "source": [
    "use_col = ['user_id', 'artist', 'play']\n",
    "data = data[use_col]\n",
    "data.head()"
   ]
  },
  {
   "cell_type": "markdown",
   "id": "executed-calgary",
   "metadata": {},
   "source": [
    "### NaN값 제거"
   ]
  },
  {
   "cell_type": "code",
   "execution_count": 5,
   "id": "understood-onion",
   "metadata": {},
   "outputs": [
    {
     "data": {
      "text/html": [
       "<div>\n",
       "<style scoped>\n",
       "    .dataframe tbody tr th:only-of-type {\n",
       "        vertical-align: middle;\n",
       "    }\n",
       "\n",
       "    .dataframe tbody tr th {\n",
       "        vertical-align: top;\n",
       "    }\n",
       "\n",
       "    .dataframe thead th {\n",
       "        text-align: right;\n",
       "    }\n",
       "</style>\n",
       "<table border=\"1\" class=\"dataframe\">\n",
       "  <thead>\n",
       "    <tr style=\"text-align: right;\">\n",
       "      <th></th>\n",
       "      <th>user_id</th>\n",
       "      <th>artist</th>\n",
       "      <th>play</th>\n",
       "    </tr>\n",
       "  </thead>\n",
       "  <tbody>\n",
       "    <tr>\n",
       "      <th>244853</th>\n",
       "      <td>039e5d61d65bbf5e6d95b07b1b3b67f7fd287a62</td>\n",
       "      <td>NaN</td>\n",
       "      <td>18</td>\n",
       "    </tr>\n",
       "    <tr>\n",
       "      <th>431015</th>\n",
       "      <td>065a001be5a8a55971042077933e263d0d5cde46</td>\n",
       "      <td>NaN</td>\n",
       "      <td>186</td>\n",
       "    </tr>\n",
       "    <tr>\n",
       "      <th>455721</th>\n",
       "      <td>06b17c50402d06a497cb13a0375992fd1e90b392</td>\n",
       "      <td>NaN</td>\n",
       "      <td>3</td>\n",
       "    </tr>\n",
       "  </tbody>\n",
       "</table>\n",
       "</div>"
      ],
      "text/plain": [
       "                                         user_id artist  play\n",
       "244853  039e5d61d65bbf5e6d95b07b1b3b67f7fd287a62    NaN    18\n",
       "431015  065a001be5a8a55971042077933e263d0d5cde46    NaN   186\n",
       "455721  06b17c50402d06a497cb13a0375992fd1e90b392    NaN     3"
      ]
     },
     "metadata": {},
     "output_type": "display_data"
    }
   ],
   "source": [
    "from IPython.core import display as ICD\n",
    "ICD.display(data[data.isnull().any(axis=1)].head(3))\n",
    "data = data.dropna(how='any')"
   ]
  },
  {
   "cell_type": "markdown",
   "id": "comparative-matthew",
   "metadata": {},
   "source": [
    "### 아티스트 이름 소문자 변환"
   ]
  },
  {
   "cell_type": "code",
   "execution_count": 6,
   "id": "opposed-disease",
   "metadata": {
    "scrolled": true
   },
   "outputs": [
    {
     "data": {
      "text/html": [
       "<div>\n",
       "<style scoped>\n",
       "    .dataframe tbody tr th:only-of-type {\n",
       "        vertical-align: middle;\n",
       "    }\n",
       "\n",
       "    .dataframe tbody tr th {\n",
       "        vertical-align: top;\n",
       "    }\n",
       "\n",
       "    .dataframe thead th {\n",
       "        text-align: right;\n",
       "    }\n",
       "</style>\n",
       "<table border=\"1\" class=\"dataframe\">\n",
       "  <thead>\n",
       "    <tr style=\"text-align: right;\">\n",
       "      <th></th>\n",
       "      <th>user_id</th>\n",
       "      <th>artist</th>\n",
       "      <th>play</th>\n",
       "    </tr>\n",
       "  </thead>\n",
       "  <tbody>\n",
       "    <tr>\n",
       "      <th>0</th>\n",
       "      <td>00000c289a1829a808ac09c00daf10bc3c4e223b</td>\n",
       "      <td>betty blowtorch</td>\n",
       "      <td>2137</td>\n",
       "    </tr>\n",
       "    <tr>\n",
       "      <th>1</th>\n",
       "      <td>00000c289a1829a808ac09c00daf10bc3c4e223b</td>\n",
       "      <td>die ärzte</td>\n",
       "      <td>1099</td>\n",
       "    </tr>\n",
       "    <tr>\n",
       "      <th>2</th>\n",
       "      <td>00000c289a1829a808ac09c00daf10bc3c4e223b</td>\n",
       "      <td>melissa etheridge</td>\n",
       "      <td>897</td>\n",
       "    </tr>\n",
       "    <tr>\n",
       "      <th>3</th>\n",
       "      <td>00000c289a1829a808ac09c00daf10bc3c4e223b</td>\n",
       "      <td>elvenking</td>\n",
       "      <td>717</td>\n",
       "    </tr>\n",
       "    <tr>\n",
       "      <th>4</th>\n",
       "      <td>00000c289a1829a808ac09c00daf10bc3c4e223b</td>\n",
       "      <td>juliette &amp; the licks</td>\n",
       "      <td>706</td>\n",
       "    </tr>\n",
       "  </tbody>\n",
       "</table>\n",
       "</div>"
      ],
      "text/plain": [
       "                                    user_id                artist  play\n",
       "0  00000c289a1829a808ac09c00daf10bc3c4e223b       betty blowtorch  2137\n",
       "1  00000c289a1829a808ac09c00daf10bc3c4e223b             die ärzte  1099\n",
       "2  00000c289a1829a808ac09c00daf10bc3c4e223b     melissa etheridge   897\n",
       "3  00000c289a1829a808ac09c00daf10bc3c4e223b             elvenking   717\n",
       "4  00000c289a1829a808ac09c00daf10bc3c4e223b  juliette & the licks   706"
      ]
     },
     "execution_count": 6,
     "metadata": {},
     "output_type": "execute_result"
    }
   ],
   "source": [
    "data['artist'] = data['artist'].str.lower()\n",
    "data.head()"
   ]
  },
  {
   "cell_type": "markdown",
   "id": "proved-stick",
   "metadata": {},
   "source": [
    "### 전체에서 n번만 등장한 가수 제거"
   ]
  },
  {
   "cell_type": "code",
   "execution_count": 170,
   "id": "assigned-destination",
   "metadata": {},
   "outputs": [
    {
     "data": {
      "text/plain": [
       "<AxesSubplot:>"
      ]
     },
     "execution_count": 170,
     "metadata": {},
     "output_type": "execute_result"
    },
    {
     "data": {
      "image/png": "[encoded data removed]",
      "text/plain": [
       "<Figure size 432x288 with 1 Axes>"
      ]
     },
     "metadata": {
      "needs_background": "light"
     },
     "output_type": "display_data"
    }
   ],
   "source": [
    "#plt.figure(figsize=(15,5))\n",
    "#plt.subplot(1,3,1)\n",
    "sns.scatterplot(data=min_count_list, x_bins=10)"
   ]
  },
  {
   "cell_type": "code",
   "execution_count": 175,
   "id": "powered-border",
   "metadata": {},
   "outputs": [
    {
     "data": {
      "image/png": "[encoded data removed]",
      "text/plain": [
       "<Figure size 1080x360 with 1 Axes>"
      ]
     },
     "metadata": {
      "needs_background": "light"
     },
     "output_type": "display_data"
    },
    {
     "data": {
      "image/png": "[encoded data removed]",
      "text/plain": [
       "<Figure size 1080x360 with 3 Axes>"
      ]
     },
     "metadata": {
      "needs_background": "light"
     },
     "output_type": "display_data"
    }
   ],
   "source": [
    "min_count_list = []\n",
    "for i in range(100):\n",
    "    min_count = np.percentile(count_list, i)\n",
    "    min_count_list.append(min_count)\n",
    "    \n",
    "plt.figure(figsize=(15,5))\n",
    "sns.scatterplot(data=min_count_list, x_bins=30)\n",
    "plt.axhline(y=50, color='#ff3300', linewidth=2, label='Threshold Value')  # 빨간 표시줄 그리기\n",
    "plt.text(105, 50, '50', color='red')                                 # 빨간 표시줄 xtick(위)\n",
    "plt.xlabel('Percent(%)')\n",
    "plt.ylabel('Count')\n",
    "plt.xticks([i*4 for i in range(25)], rotation=45)\n",
    "plt.show()\n",
    "\n",
    "plt.figure(figsize=(15,5))\n",
    "plt.subplot(1,3,1)\n",
    "sns.scatterplot(data=min_count_list, x_bins=30)\n",
    "plt.xticks([i*5 for i in range(10)], rotation=45)\n",
    "plt.xlim([0,50])\n",
    "plt.ylim([0,5])\n",
    "plt.subplot(1,3,2)\n",
    "plt.plot([1,2,3,4])\n",
    "plt.subplot(1,3,3)\n",
    "plt.plot([1,2,3,4])\n",
    "plt.show()"
   ]
  },
  {
   "cell_type": "code",
   "execution_count": 102,
   "id": "natural-dressing",
   "metadata": {},
   "outputs": [
    {
     "name": "stdout",
     "output_type": "stream",
     "text": [
      "50% of data :  2.0\n"
     ]
    },
    {
     "data": {
      "image/png": "[encoded data removed]",
      "text/plain": [
       "<Figure size 864x360 with 1 Axes>"
      ]
     },
     "metadata": {
      "needs_background": "light"
     },
     "output_type": "display_data"
    }
   ],
   "source": [
    "percent = 50\n",
    "min_count = np.percentile(count_list, percent)        # 특정 Percent에 해당하는 데이터 길이 출력(90퍼로 결정)\n",
    "print(f'{percent}% of data : ', min_count)\n",
    "\n",
    "plt.figure(figsize=(12, 5))\n",
    "sns.boxplot(data=count_list, orient='h')\n",
    "plt.axvline(x=min_count, color='#ff3300', linewidth=2, label='Threshold Value')  # 빨간 표시줄 그리기\n",
    "plt.text(min_count-2, -0.52, '90%', color='red')                                 # 빨간 표시줄 xtick(위)\n",
    "plt.text(min_count-2,0.55, min_count, color='red')                                 # 빨간 표시줄 xtick(아래)\n",
    "plt.xlabel('count')\n",
    "plt.yticks([])\n",
    "plt.show()\n"
   ]
  },
  {
   "cell_type": "code",
   "execution_count": 67,
   "id": "likely-cathedral",
   "metadata": {},
   "outputs": [],
   "source": [
    "artist_count = data.groupby('artist')['user_id'].count()\n",
    "count_list = artist_count.values"
   ]
  },
  {
   "cell_type": "code",
   "execution_count": 61,
   "id": "stupid-withdrawal",
   "metadata": {},
   "outputs": [],
   "source": [
    "use_artist = []\n",
    "for artist, count in artist_count.items():\n",
    "    if count > 2:\n",
    "        use_artist.append(artist)"
   ]
  },
  {
   "cell_type": "code",
   "execution_count": 63,
   "id": "worse-eating",
   "metadata": {},
   "outputs": [
    {
     "data": {
      "text/plain": [
       "['0 soul 7',\n",
       " '00 db',\n",
       " '00.db',\n",
       " '000 maniacs',\n",
       " '000 things',\n",
       " '001',\n",
       " '002',\n",
       " '003',\n",
       " '004',\n",
       " '005',\n",
       " '005 kt tunstall',\n",
       " '006',\n",
       " '007',\n",
       " '007 (james bond)',\n",
       " '008',\n",
       " '009',\n",
       " '009 sound system',\n",
       " '00genesis',\n",
       " '01 faixa 1',\n",
       " '01.',\n",
       " '010',\n",
       " '011',\n",
       " '0111',\n",
       " '0118-vier',\n",
       " '013',\n",
       " '0131',\n",
       " '015b',\n",
       " '016',\n",
       " '018',\n",
       " '02.',\n",
       " '03_',\n",
       " '04 faixa 4',\n",
       " '04 pista 4',\n",
       " '044',\n",
       " '046',\n",
       " '047',\n",
       " '04unit',\n",
       " '052',\n",
       " '06 pista 6',\n",
       " '07th expansion/frontier works',\n",
       " '08 (zero eight)',\n",
       " '08001',\n",
       " '082',\n",
       " '09 pista 9',\n",
       " '091',\n",
       " '0:s8<',\n",
       " '0=0',\n",
       " '0ab0',\n",
       " '0netrickpony',\n",
       " '1',\n",
       " '1 2 3 4',\n",
       " '1 giant leap',\n",
       " '1 mile north',\n",
       " '1 ohm facile',\n",
       " '1 plus 1',\n",
       " '1 segundo es demasiado',\n",
       " '1 z 2',\n",
       " '1,5 кг отличного пюре',\n",
       " '1,5кг отличного пюре',\n",
       " '1-2-3 blast on!',\n",
       " '1-800-zombie',\n",
       " '1-q sapro',\n",
       " '1-speed bike',\n",
       " '1. allegro',\n",
       " '1. futurologischer congress',\n",
       " '1. mai 87',\n",
       " '1.5 кг отличного пюре',\n",
       " '1.5 кило отличного пюре',\n",
       " '1.5кг отличного пюре',\n",
       " '1.6 band',\n",
       " '1.8.7',\n",
       " '1.8.7.',\n",
       " '1.kla$',\n",
       " '1.kla$ & zarj',\n",
       " '10',\n",
       " '10 botellas',\n",
       " '10 dubians',\n",
       " '10 fold b-low',\n",
       " '10 ft. ganja plant',\n",
       " \"10 ft. ganja plant & john brown's body\",\n",
       " '10 ft. ganja plant & john browns body',\n",
       " '10 rapid',\n",
       " \"10 rue d'la madeleine\",\n",
       " '10 rue dla madeleine',\n",
       " '10 second drop',\n",
       " '10 things i hate about you',\n",
       " '10 years',\n",
       " '10,000 maniacs',\n",
       " '10,000 things',\n",
       " '10-20',\n",
       " '10-20 без выходных',\n",
       " '10-4 eleanor',\n",
       " '10-6',\n",
       " '10-feet',\n",
       " '10-year-old wala',\n",
       " '100 baltas dvēseles',\n",
       " '100 best of all time',\n",
       " '100 classical masterpieces',\n",
       " '100 demons',\n",
       " '100 derece',\n",
       " '100 flowers',\n",
       " '100 folk celsius',\n",
       " '100 greatest guitar solos',\n",
       " '100 greatest rock guitar solos',\n",
       " '100 greatest songs of rock and roll',\n",
       " '100 inch shadow',\n",
       " '100 kila',\n",
       " '100 monkeys',\n",
       " '100 much',\n",
       " '100 múch',\n",
       " '100 orgazmov',\n",
       " '100 portraits',\n",
       " '100 portraits and waterdeep',\n",
       " '100 songs for kids',\n",
       " '100 tvarzy grzybiarzy',\n",
       " '100 watt smile',\n",
       " \"100 world's best loved melodie\",\n",
       " '100%',\n",
       " '100% angela',\n",
       " '100% collègue',\n",
       " '100% collègues',\n",
       " '100% dream',\n",
       " '100% dynamite',\n",
       " '100% pure poison',\n",
       " '100% rock',\n",
       " '100% rock ballads',\n",
       " '100%british oi!',\n",
       " '100-200-400',\n",
       " '1000 funerals',\n",
       " '1000 generations',\n",
       " '1000 hertz',\n",
       " '1000 homo djs',\n",
       " '1000 hours of staring',\n",
       " '1000 mexicans',\n",
       " '1000 names',\n",
       " '1000 ohm',\n",
       " '1000 robota',\n",
       " '1000 travels of jawaharlal',\n",
       " '1000 violins',\n",
       " '1000 слов',\n",
       " '10000 spoons',\n",
       " '1000es',\n",
       " '1000names',\n",
       " '1000say',\n",
       " '100blumen',\n",
       " '100c',\n",
       " '100dbs',\n",
       " '100dbs & ryan oneil',\n",
       " '100deadrabbits',\n",
       " '100deadrabbits!!!',\n",
       " '100nka',\n",
       " '100s',\n",
       " '100th monkey',\n",
       " '100x',\n",
       " '100°c',\n",
       " '101',\n",
       " '101 barz',\n",
       " '101 south',\n",
       " '101 strings',\n",
       " '101 strings orchestra',\n",
       " '101a',\n",
       " '101barz',\n",
       " '1032',\n",
       " '103rd street gospel choir',\n",
       " '106.7 wjfk - washington, d.c.',\n",
       " \"106.7 wjfk fm washington's talk superstation\",\n",
       " \"106.7 wjfk-fm washington's talk superstation\",\n",
       " '107 faunos',\n",
       " '108',\n",
       " '108 grand',\n",
       " '10cc',\n",
       " '10lec6',\n",
       " '10th anniversary concert',\n",
       " '11',\n",
       " '11-5',\n",
       " '11/5',\n",
       " '110',\n",
       " '111',\n",
       " '112',\n",
       " '1125',\n",
       " '113',\n",
       " '113 clan',\n",
       " '116 clique',\n",
       " '11th hour',\n",
       " '11water',\n",
       " '12',\n",
       " '12 angry steps',\n",
       " '12 aullidos',\n",
       " '12 cellists of the berlin philharmonic orchestra',\n",
       " '12 cents for marvin',\n",
       " '12 discipulos',\n",
       " '12 inch thumpers',\n",
       " '12 moons',\n",
       " '12 oclock',\n",
       " '12 rods',\n",
       " '12 rounds',\n",
       " '12 step rebels',\n",
       " '12 stone toddler',\n",
       " '12 stones',\n",
       " '12 summers old',\n",
       " '12 tribus',\n",
       " '12 volt sex',\n",
       " '120 days',\n",
       " '120 db',\n",
       " '1200 micrograms',\n",
       " '1200 mics',\n",
       " '1200 techniques',\n",
       " '12012',\n",
       " '1208',\n",
       " '121 crew',\n",
       " '121db',\n",
       " '123',\n",
       " '123 min',\n",
       " '1234',\n",
       " '125, rue montmartre',\n",
       " '127 band',\n",
       " '1280 almas',\n",
       " '129- fly project & tom boxer & anca parghel',\n",
       " '12cent',\n",
       " '12th floor',\n",
       " '12th man',\n",
       " '12th planet',\n",
       " '12twelve',\n",
       " '13',\n",
       " '13 & god',\n",
       " '13 bastardi',\n",
       " '13 candles',\n",
       " '13 cats',\n",
       " '13 chilli i pół fuksa',\n",
       " '13 days',\n",
       " '13 engines',\n",
       " '13 ghosts',\n",
       " '13 killings',\n",
       " '13 original broadway cast',\n",
       " '1349',\n",
       " '139th street quartet',\n",
       " '13ghosts',\n",
       " '13th chime',\n",
       " '13th draft',\n",
       " '13th floor elevators',\n",
       " '13th melody',\n",
       " '13th monkey',\n",
       " '13th son',\n",
       " '14',\n",
       " '14 bis',\n",
       " '14 iced bears',\n",
       " '14 karat soul',\n",
       " '14 palabras',\n",
       " '14 year old girls',\n",
       " '140 ударов в минуту',\n",
       " '1476',\n",
       " '14kills',\n",
       " '14kt',\n",
       " '15',\n",
       " '15 minut projekt',\n",
       " '15 minutes before the dive',\n",
       " '15 minutes late',\n",
       " '15-16-17',\n",
       " '150 watts',\n",
       " '151',\n",
       " '154',\n",
       " '15th scenery',\n",
       " '16',\n",
       " '16 bit',\n",
       " \"16 bit lolita's\",\n",
       " '16 bit lolitas',\n",
       " '16 bit lolitas & glowfield',\n",
       " '16 bit lolitas feat. jennifer horne',\n",
       " '16 bit lolita’s',\n",
       " '16 down',\n",
       " '16 frames',\n",
       " '16 horsepower',\n",
       " '16 hz',\n",
       " '16 reasons',\n",
       " '16-17',\n",
       " '16b',\n",
       " '16bit',\n",
       " '16hz',\n",
       " '16pac',\n",
       " '16reasons',\n",
       " '16stitch',\n",
       " '16th avenue',\n",
       " '16volt',\n",
       " '17',\n",
       " '17 hippies',\n",
       " '17 pictures',\n",
       " '17 pygmies',\n",
       " '1731 vivaldi',\n",
       " '1742 handel',\n",
       " '1755',\n",
       " '175r',\n",
       " '176biz',\n",
       " '1773',\n",
       " '1776',\n",
       " '17th boulevard',\n",
       " '18',\n",
       " '18 kilates',\n",
       " '18 summers',\n",
       " '18 wheeler',\n",
       " '180 grad',\n",
       " '1800s sea monster',\n",
       " '183 club',\n",
       " '187',\n",
       " '187 fac',\n",
       " '187 lockdown',\n",
       " '18:e oktober',\n",
       " '18l',\n",
       " '18th dye',\n",
       " '19',\n",
       " '19 dias y 500 noches',\n",
       " '19 południk',\n",
       " '19 wiosen',\n",
       " '1900',\n",
       " '1904',\n",
       " '1905',\n",
       " '1908',\n",
       " '1910 fruitgum company',\n",
       " '1917',\n",
       " '1919',\n",
       " '1927',\n",
       " '1942 a love story',\n",
       " '196 clique',\n",
       " '1969',\n",
       " '1974 ad',\n",
       " '1976',\n",
       " '1978',\n",
       " '1979',\n",
       " '1980',\n",
       " '1980s',\n",
       " '1981',\n",
       " '1983',\n",
       " '1984',\n",
       " '1985',\n",
       " '1986',\n",
       " '1988',\n",
       " '1989',\n",
       " \"1990's\",\n",
       " '1990s',\n",
       " '1994',\n",
       " '1994!',\n",
       " '1995 london cast',\n",
       " '1995 original cast recording',\n",
       " '1995 royal albert hall concert cast',\n",
       " '1996 london studio cast',\n",
       " '1997',\n",
       " '1999',\n",
       " '1999 united sacred harp convention',\n",
       " '1ad7',\n",
       " '1erdan',\n",
       " '1g3b',\n",
       " '1live - comedy',\n",
       " '1luv',\n",
       " '1n',\n",
       " '1nc',\n",
       " '1sagain',\n",
       " '1shot',\n",
       " '1st down',\n",
       " '1st lady',\n",
       " '1tym',\n",
       " '1up',\n",
       " '1up network staff',\n",
       " '1up staff',\n",
       " '1up.com staff',\n",
       " '1z2',\n",
       " '2',\n",
       " '2 0 clock girlfriend',\n",
       " \"2 0' clock girlfriend\",\n",
       " '2 bad mice',\n",
       " '2 bal',\n",
       " '2 bal 2 neg',\n",
       " '2 banks of 4',\n",
       " '2 be 3',\n",
       " '2 become 1',\n",
       " '2 belgen',\n",
       " '2 best enemies',\n",
       " '2 bit pie',\n",
       " '2 bone giants',\n",
       " '2 brothers of hardstyle',\n",
       " '2 brothers on the 4th floor',\n",
       " '2 bullet',\n",
       " '2 by bukowski',\n",
       " '2 curlies',\n",
       " '2 days ago kids',\n",
       " '2 dollar egg',\n",
       " '2 dollars gat',\n",
       " '2 dope',\n",
       " '2 eivissa',\n",
       " '2 elements',\n",
       " '2 fabiola',\n",
       " '2 face',\n",
       " '2 fast 2 furious',\n",
       " '2 foot yard',\n",
       " '2 girlz',\n",
       " '2 good to go',\n",
       " '2 heads',\n",
       " '2 in a room',\n",
       " '2 lhud',\n",
       " '2 live crew',\n",
       " '2 live jews',\n",
       " '2 mann & xavier naidoo',\n",
       " \"2 many dj's\",\n",
       " '2 many djs',\n",
       " '2 many dj´s',\n",
       " '2 men 4 soul',\n",
       " '2 men ahead',\n",
       " '2 meter sessies',\n",
       " '2 minds',\n",
       " '2 minuta dreka',\n",
       " '2 minutos',\n",
       " '2 much',\n",
       " \"2 o'clock girlfriend\",\n",
       " '2 oclock girlfriend',\n",
       " '2 old babies',\n",
       " '2 pac & outlawz',\n",
       " '2 pac + outlawz',\n",
       " '2 pac ft. elton john',\n",
       " '2 pie island & fluke',\n",
       " '2 pistols',\n",
       " '2 pistols ft. t-pain',\n",
       " '2 playaz',\n",
       " '2 player',\n",
       " '2 players',\n",
       " '2 plus 1',\n",
       " '2 quick start',\n",
       " '2 rare people',\n",
       " \"2 skinnee j's\",\n",
       " '2 skinnee js',\n",
       " '2 star tabernacle',\n",
       " '2 tekk bros',\n",
       " '2 ton predator',\n",
       " '2 touch',\n",
       " '2 tyme feat. jennifer jones',\n",
       " '2 unlimited',\n",
       " '2 vibez',\n",
       " '2 världar',\n",
       " '2*sweet',\n",
       " '2+1',\n",
       " '2+2',\n",
       " '2+2=5',\n",
       " '2, jo & ndoe',\n",
       " '2, the ranting gryphon',\n",
       " '2-4 family',\n",
       " '2-4 grooves',\n",
       " '2. maanantai',\n",
       " '2.0',\n",
       " '2.jakost',\n",
       " '2/5 bz',\n",
       " '20',\n",
       " '20 000 emozombies',\n",
       " '20 bulls each',\n",
       " '20 fingers',\n",
       " '20 miles',\n",
       " '20 minute loop',\n",
       " '20 years of dishord',\n",
       " '20-2-life',\n",
       " '20.sv',\n",
       " '20/20',\n",
       " '200',\n",
       " '200 north',\n",
       " '200 sachen',\n",
       " '200 по встречной',\n",
       " '200.000 naglbítar',\n",
       " '2000',\n",
       " '2000 & one',\n",
       " '2000 and one',\n",
       " '2000 black',\n",
       " '2000 maniacs',\n",
       " '2000black',\n",
       " '2000f & j kamata',\n",
       " '2000wat',\n",
       " '2001',\n",
       " '2001: a space odyssey',\n",
       " '2002',\n",
       " '2004 movie soundtrack',\n",
       " '2004 soundtrack',\n",
       " '2005',\n",
       " '2005 - movie soundtrack',\n",
       " '2005 broadway revival cast',\n",
       " '2005 movie  soundtrack',\n",
       " '2006',\n",
       " '2006 revival broadway cast',\n",
       " '2007',\n",
       " '2007 - not too late',\n",
       " '2008',\n",
       " '2008 broadway cast',\n",
       " '2009',\n",
       " '200sachen',\n",
       " '2012',\n",
       " '2020 soundsystem',\n",
       " '2046',\n",
       " '20goto10',\n",
       " '20syl',\n",
       " '20th century',\n",
       " '20th century dog',\n",
       " '20th century fox',\n",
       " '20th century steel band',\n",
       " '21',\n",
       " '21 eyes of ruby',\n",
       " '21 guns',\n",
       " '21 hertz',\n",
       " '21 love hotel',\n",
       " '21 lucifers',\n",
       " '21. peron',\n",
       " '211',\n",
       " '213',\n",
       " '216',\n",
       " '21:03',\n",
       " '21st century dub',\n",
       " '21st century schizoid band',\n",
       " '22',\n",
       " '22 för många',\n",
       " '22 jacks',\n",
       " '22 miestähteä',\n",
       " '22-20s',\n",
       " '22-pistepirkko',\n",
       " '220 volt',\n",
       " '220v',\n",
       " '2227',\n",
       " '228',\n",
       " '23',\n",
       " '23 degrees',\n",
       " '23 otoños',\n",
       " '23 skidoo',\n",
       " '23 till',\n",
       " '23:45 5ivesta family',\n",
       " '24',\n",
       " '24 black',\n",
       " '24 carat black',\n",
       " '24 gone',\n",
       " '24 grana',\n",
       " '24 hour party people',\n",
       " '24 ideas',\n",
       " '24-7 spyz',\n",
       " '244 endli-x',\n",
       " '24grana',\n",
       " '24indigo',\n",
       " '24k',\n",
       " '25',\n",
       " '25 dollar massacre',\n",
       " '25 lat listy przebojów trójki',\n",
       " '25 ta life',\n",
       " '25-17',\n",
       " '25-17/25-17',\n",
       " '25/17',\n",
       " '250 kg kärlek',\n",
       " '250kg kärlek',\n",
       " '2562',\n",
       " '257ers',\n",
       " '25g',\n",
       " '25th annual putnam county spelling bee',\n",
       " '26',\n",
       " '26 beers',\n",
       " '27',\n",
       " '270bis',\n",
       " '28 costumes',\n",
       " '28 days',\n",
       " '28 days later',\n",
       " '28 days later ost',\n",
       " '28 days later soundtrack',\n",
       " '28 weeks later',\n",
       " '28 панфиловцев',\n",
       " '28th day',\n",
       " '29/09',\n",
       " '290',\n",
       " '29:92',\n",
       " '2am',\n",
       " '2b4th',\n",
       " '2backka',\n",
       " '2bit',\n",
       " '2black',\n",
       " '2bough',\n",
       " '2cento2',\n",
       " '2cents',\n",
       " '2cztery7',\n",
       " '2d boy',\n",
       " '2econd class citizen',\n",
       " '2face idibia',\n",
       " '2fast4u',\n",
       " '2for5',\n",
       " '2gether',\n",
       " '2girlz',\n",
       " '2h company',\n",
       " '2h pozitiv',\n",
       " '2h pozitív',\n",
       " '2h+',\n",
       " '2hcompany',\n",
       " '2headz',\n",
       " '2hi',\n",
       " '2inventions',\n",
       " '2k',\n",
       " '2k games',\n",
       " '2kija',\n",
       " '2klang',\n",
       " '2l8',\n",
       " '2lhud',\n",
       " '2loop',\n",
       " \"2manydj's\",\n",
       " '2matao',\n",
       " '2mb',\n",
       " '2mex',\n",
       " '2mex and life rexall are smartyr',\n",
       " '2minds',\n",
       " '2nd chapter of acts',\n",
       " '2nd district',\n",
       " '2nd gen',\n",
       " '2nd ii none',\n",
       " '2nd place driver',\n",
       " '2nd south carolina string band',\n",
       " '2nd suicide',\n",
       " '2nd wave',\n",
       " '2ne1',\n",
       " '2ned boy',\n",
       " '2nu',\n",
       " '2ois',\n",
       " '2p-trip',\n",
       " '2pac',\n",
       " '2pac & notorious b.i.g.',\n",
       " '2pac & outlawz',\n",
       " '2pac & snoop doggy dogg',\n",
       " '2pac & the notorious b.i.g',\n",
       " '2pac & the notorious b.i.g.',\n",
       " '2pac & the outlawz',\n",
       " '2pac (makaveli)',\n",
       " '2pac + outlawz',\n",
       " '2pac and outlawz',\n",
       " '2pac and tha outlawz',\n",
       " '2pac and thug life',\n",
       " '2pac feat ashanti & t.i.',\n",
       " '2pac feat elton john',\n",
       " '2pac+outlawz',\n",
       " '2pac, eminem',\n",
       " '2pac-makaveli the don',\n",
       " '2paq',\n",
       " '2playa2',\n",
       " '2pm',\n",
       " '2points',\n",
       " '2pro',\n",
       " '2pu',\n",
       " '2r',\n",
       " '2raumwohnung',\n",
       " '2razype',\n",
       " '2sleepy',\n",
       " '2special',\n",
       " '2step',\n",
       " '2tall',\n",
       " '2tall presents dudley perkins & georgia anne muldrow',\n",
       " '2tie',\n",
       " '2times terror',\n",
       " '2tm2,3',\n",
       " '2trackboy & echomann',\n",
       " '2trackboy und echomann',\n",
       " '2trance',\n",
       " '2up',\n",
       " '2v1',\n",
       " '2vm',\n",
       " '2wo third3',\n",
       " '2x',\n",
       " '2x2 = shinobuden original soundtrack & songs',\n",
       " '2xl',\n",
       " '2ва самолета',\n",
       " '2ва самолёта',\n",
       " '3',\n",
       " '3 + 2',\n",
       " '3 al hilo',\n",
       " '3 blind mice',\n",
       " '3 busserulls',\n",
       " '3 canal',\n",
       " '3 chairs',\n",
       " '3 channels',\n",
       " '3 colours red',\n",
       " '3 da hard way',\n",
       " '3 daft monkeys',\n",
       " '3 de copas',\n",
       " '3 de la habana',\n",
       " '3 deep',\n",
       " '3 doors down',\n",
       " '3 dueños',\n",
       " '3 feet smaller',\n",
       " \"3 gars su'l sofa\",\n",
       " '3 global players',\n",
       " '3 headed monster',\n",
       " '3 hur-el',\n",
       " '3 hürel',\n",
       " '3 inches of blood',\n",
       " '3 is a crowd',\n",
       " '3 leg torso',\n",
       " '3 melancholy gypsies',\n",
       " '3 melancholy gypsys',\n",
       " '3 mile scream',\n",
       " '3 minute hero',\n",
       " '3 mother funkers',\n",
       " '3 musketiere',\n",
       " '3 mustaphas 3',\n",
       " '3 na bossa',\n",
       " '3 na massa',\n",
       " '3 oeil',\n",
       " '3 of a kind',\n",
       " '3 pead',\n",
       " '3 pesos',\n",
       " '3 pieces',\n",
       " '3 pill morning',\n",
       " '3 quarters dead',\n",
       " '3 segundos antes da queda',\n",
       " '3 stages of pain',\n",
       " '3 steps ahead',\n",
       " '3 storeys high',\n",
       " '3 suns',\n",
       " '3 tenors',\n",
       " '3 way cum',\n",
       " \"3'ангел\",\n",
       " '3+2',\n",
       " '3-11 porter',\n",
       " '3-o-matic',\n",
       " '3-soul',\n",
       " '3/4hadbeeneliminated',\n",
       " '30 foot fall',\n",
       " '30 minutes vs tiesto (remix by alien dj)',\n",
       " '30 odd foot of grunts',\n",
       " '30 rock',\n",
       " '30 seconds to mars',\n",
       " '30 years war',\n",
       " '30 дней февраля',\n",
       " '30%less fat',\n",
       " '300',\n",
       " '300 original motion picture soundtrack',\n",
       " '300 ost',\n",
       " '300 soundtrack',\n",
       " '3000 миль до рая',\n",
       " '301 izquierda',\n",
       " '302 acid',\n",
       " '303 infinity',\n",
       " '303 nation',\n",
       " '303 project',\n",
       " '303didthistome',\n",
       " '303infinity',\n",
       " '30[eks]',\n",
       " '30footfall',\n",
       " '30hz',\n",
       " '30y',\n",
       " '31 minutos',\n",
       " '310',\n",
       " '311',\n",
       " '313 bass mechanics',\n",
       " '31knots',\n",
       " '31minutos canciones de amor',\n",
       " '32',\n",
       " '32 jazz',\n",
       " '32 leaves',\n",
       " '324',\n",
       " '32crash',\n",
       " '32framespersecond',\n",
       " '33',\n",
       " '33.3',\n",
       " '333',\n",
       " '33a',\n",
       " '33hz',\n",
       " '33miles',\n",
       " '34 puñaladas',\n",
       " '340ml',\n",
       " \"35 ml's\",\n",
       " '35 mls',\n",
       " '35 seconds',\n",
       " '35007',\n",
       " '357',\n",
       " '3582',\n",
       " '36',\n",
       " '36 china town',\n",
       " '36 crazyfists',\n",
       " '36 daggers',\n",
       " '36 deadly fists',\n",
       " '360',\n",
       " '360 gradi',\n",
       " '360°',\n",
       " '36481?',\n",
       " '365',\n",
       " '365 hrant dink',\n",
       " '365.com.mk',\n",
       " '369',\n",
       " '37 hostias',\n",
       " '37 stabwoundz',\n",
       " '37500 yens',\n",
       " '386 dx',\n",
       " '38th parallel',\n",
       " '39 clocks',\n",
       " '39 i pół',\n",
       " '3a corporation',\n",
       " '3artes',\n",
       " '3b lab.☆',\n",
       " '3b lab.☆s',\n",
       " '3ce',\n",
       " '3cm tour',\n",
       " '3d',\n",
       " '3d house of beef',\n",
       " '3daybinge',\n",
       " '3dbs down',\n",
       " '3do',\n",
       " '3ds',\n",
       " '3eme prototype',\n",
       " '3epkano',\n",
       " '3faced',\n",
       " '3g',\n",
       " '3gga',\n",
       " '3h',\n",
       " '3h (warszafski deszcz)',\n",
       " '3hostwomexicansandatinofspanners',\n",
       " '3js',\n",
       " '3l',\n",
       " '3lw',\n",
       " '3lw feat. jermaine dupri',\n",
       " '3man',\n",
       " '3moonboys',\n",
       " '3namassa',\n",
       " '3nd',\n",
       " '3nt',\n",
       " '3odiac',\n",
       " '3oh!3',\n",
       " '3oh!3 feat. katy perry',\n",
       " '3oh3',\n",
       " '3pecados',\n",
       " '3r salam',\n",
       " '3rd',\n",
       " '3rd alley',\n",
       " '3rd bass',\n",
       " '3rd coast',\n",
       " '3rd degree',\n",
       " '3rd face',\n",
       " '3rd force',\n",
       " '3rd line butterfly',\n",
       " '3rd matinee',\n",
       " '3rd moon',\n",
       " '3rd rail music',\n",
       " '3rd room',\n",
       " '3rd storee',\n",
       " '3rd strike',\n",
       " '3rd wish',\n",
       " '3rdage attack',\n",
       " '3rei sud est',\n",
       " '3se',\n",
       " '3select dee-jays',\n",
       " '3seven7',\n",
       " '3t',\n",
       " '3t.on',\n",
       " '3tronik',\n",
       " '3wkasta',\n",
       " '3x klan',\n",
       " '3x krazy',\n",
       " '3x!13',\n",
       " '3xklan',\n",
       " '3xl promo',\n",
       " '3y (yez yez yo)',\n",
       " '3ème oeil',\n",
       " '3호선 버터플라이',\n",
       " '4',\n",
       " '4 asa',\n",
       " \"4 bonjour's parties\",\n",
       " '4 bonjours parties',\n",
       " '4 clubbers',\n",
       " '4 clubbers feat silvy',\n",
       " '4 clubbers feat. silvy',\n",
       " '4 dead',\n",
       " '4 deep',\n",
       " '4 diamonds',\n",
       " '4 elements',\n",
       " '4 etoiles',\n",
       " '4 ever',\n",
       " '4 fun',\n",
       " '4 hero aka tek 9',\n",
       " '4 in love',\n",
       " '4 in the chamber',\n",
       " '4 kopnietych i fred',\n",
       " '4 non blondes',\n",
       " '4 or 5 magicians',\n",
       " '4 out of 5 doctors',\n",
       " '4 pakers',\n",
       " '4 past midnight',\n",
       " '4 pesos de propina',\n",
       " '4 promille',\n",
       " '4 ps',\n",
       " '4 seasons',\n",
       " '4 skips vs. floorbreaker',\n",
       " '4 strings',\n",
       " '4 strings & dj shaine',\n",
       " '4 strings feat tina cousins',\n",
       " '4 strings feat. tina cousins',\n",
       " '4 the cause',\n",
       " '4 to the bar',\n",
       " '4 tune fairytales',\n",
       " '4 ugly daughters',\n",
       " '4 walls falling',\n",
       " '4 wings',\n",
       " '4 y medio',\n",
       " '4 yüz',\n",
       " '4 апреля',\n",
       " '4 позиции бруно',\n",
       " '4 таракана',\n",
       " '4-ever',\n",
       " '4-mat',\n",
       " '4.9.0 friedhof chiller',\n",
       " '4.9.0 straßen spieler',\n",
       " '4.а.й.к.а.',\n",
       " '4/1',\n",
       " '4/3 de trio',\n",
       " '40 autopoppihittiä',\n",
       " '40 below summer',\n",
       " '40 cal',\n",
       " '40 cal.',\n",
       " '40 glocc',\n",
       " '40 gramos',\n",
       " '40 grit',\n",
       " '40 ounce',\n",
       " '40 sls',\n",
       " '40 suomihittiä',\n",
       " '40 thevz',\n",
       " '40 thieves',\n",
       " '40 winks',\n",
       " '40 градусов',\n",
       " '40%',\n",
       " '400 blows',\n",
       " '400 years',\n",
       " '403',\n",
       " '403 forbiddena',\n",
       " '404 soldierz',\n",
       " '40i30na70',\n",
       " '41',\n",
       " '422',\n",
       " '42go',\n",
       " '42nd street',\n",
       " '43 folders',\n",
       " '43 zla',\n",
       " '43 градуса',\n",
       " '433 eros',\n",
       " '43zla',\n",
       " '44',\n",
       " '44 leningrad',\n",
       " '44 magnum',\n",
       " '440',\n",
       " '44magnum',\n",
       " '45',\n",
       " '45 degree woman',\n",
       " '45 dip',\n",
       " '45 grave',\n",
       " '45 king vs. wale',\n",
       " '45 scientific',\n",
       " '45 ен',\n",
       " \"45'likler - yesilcam sarkilari\",\n",
       " '45doblecero7',\n",
       " '45rpm',\n",
       " '46bliss',\n",
       " '47 miller gang',\n",
       " '47 million dollars',\n",
       " '48may',\n",
       " '48th st. collective',\n",
       " '49 morphines',\n",
       " '49ers',\n",
       " '49th parallel',\n",
       " '4aclysme',\n",
       " '4am',\n",
       " '4c3',\n",
       " '4chan',\n",
       " '4cus',\n",
       " '4django',\n",
       " '4ehov',\n",
       " '4ever',\n",
       " '4exonte',\n",
       " '4f club',\n",
       " '4front',\n",
       " '4ft fingers',\n",
       " '4fun',\n",
       " '4hero',\n",
       " '4him',\n",
       " '4kids',\n",
       " '4kuba',\n",
       " '4lyn',\n",
       " '4mal',\n",
       " '4mal feat. gliss',\n",
       " '4mat',\n",
       " '4milliontanks',\n",
       " '4minute',\n",
       " '4no1',\n",
       " '4one',\n",
       " '4our5ive6ix',\n",
       " '4p i onil',\n",
       " '4play',\n",
       " '4r',\n",
       " '4scums',\n",
       " '4skins',\n",
       " '4t thieves',\n",
       " '4t4',\n",
       " '4taste',\n",
       " '4tet',\n",
       " '4th avenue jones',\n",
       " '4th disciple',\n",
       " '4th floor',\n",
       " '4th pyramid',\n",
       " '4th25',\n",
       " '4tune',\n",
       " '4tune 500',\n",
       " '4tune500',\n",
       " '4tune8',\n",
       " '4tunes',\n",
       " ...]"
      ]
     },
     "execution_count": 63,
     "metadata": {},
     "output_type": "execute_result"
    }
   ],
   "source": [
    "use_artist"
   ]
  },
  {
   "cell_type": "markdown",
   "id": "cultural-machinery",
   "metadata": {},
   "source": [
    "# 데이터 탐색"
   ]
  },
  {
   "cell_type": "markdown",
   "id": "interior-nutrition",
   "metadata": {},
   "source": [
    "### Column별 unique한 value"
   ]
  },
  {
   "cell_type": "code",
   "execution_count": 51,
   "id": "european-event",
   "metadata": {},
   "outputs": [
    {
     "name": "stdout",
     "output_type": "stream",
     "text": [
      "Unique value of each Columns\n"
     ]
    },
    {
     "data": {
      "text/plain": [
       "user_id    358868\n",
       "artist     290238\n",
       "play        14149\n",
       "dtype: int64"
      ]
     },
     "execution_count": 51,
     "metadata": {},
     "output_type": "execute_result"
    }
   ],
   "source": [
    "print('Unique value of each Columns')\n",
    "data.nunique()"
   ]
  },
  {
   "cell_type": "markdown",
   "id": "martial-liquid",
   "metadata": {},
   "source": [
    "### 인기가 많은 아티스트"
   ]
  },
  {
   "cell_type": "code",
   "execution_count": 7,
   "id": "rising-darwin",
   "metadata": {},
   "outputs": [
    {
     "data": {
      "text/html": [
       "<div>\n",
       "<style scoped>\n",
       "    .dataframe tbody tr th:only-of-type {\n",
       "        vertical-align: middle;\n",
       "    }\n",
       "\n",
       "    .dataframe tbody tr th {\n",
       "        vertical-align: top;\n",
       "    }\n",
       "\n",
       "    .dataframe thead th {\n",
       "        text-align: right;\n",
       "    }\n",
       "</style>\n",
       "<table border=\"1\" class=\"dataframe\">\n",
       "  <thead>\n",
       "    <tr style=\"text-align: right;\">\n",
       "      <th></th>\n",
       "      <th>user_id</th>\n",
       "      <th>artist</th>\n",
       "      <th>play</th>\n",
       "    </tr>\n",
       "  </thead>\n",
       "  <tbody>\n",
       "    <tr>\n",
       "      <th>17535650</th>\n",
       "      <td>sep 20, 2008</td>\n",
       "      <td>turbostaat</td>\n",
       "      <td>12</td>\n",
       "    </tr>\n",
       "    <tr>\n",
       "      <th>17535651</th>\n",
       "      <td>sep 20, 2008</td>\n",
       "      <td>cuba missouri</td>\n",
       "      <td>11</td>\n",
       "    </tr>\n",
       "    <tr>\n",
       "      <th>17535652</th>\n",
       "      <td>sep 20, 2008</td>\n",
       "      <td>little man tate</td>\n",
       "      <td>11</td>\n",
       "    </tr>\n",
       "    <tr>\n",
       "      <th>17535653</th>\n",
       "      <td>sep 20, 2008</td>\n",
       "      <td>sigur rós</td>\n",
       "      <td>10</td>\n",
       "    </tr>\n",
       "    <tr>\n",
       "      <th>17535654</th>\n",
       "      <td>sep 20, 2008</td>\n",
       "      <td>the smiths</td>\n",
       "      <td>10</td>\n",
       "    </tr>\n",
       "    <tr>\n",
       "      <th>0</th>\n",
       "      <td>zimin</td>\n",
       "      <td>black eyed peas</td>\n",
       "      <td>30</td>\n",
       "    </tr>\n",
       "    <tr>\n",
       "      <th>1</th>\n",
       "      <td>zimin</td>\n",
       "      <td>maroon5</td>\n",
       "      <td>30</td>\n",
       "    </tr>\n",
       "    <tr>\n",
       "      <th>2</th>\n",
       "      <td>zimin</td>\n",
       "      <td>jason mraz</td>\n",
       "      <td>30</td>\n",
       "    </tr>\n",
       "    <tr>\n",
       "      <th>3</th>\n",
       "      <td>zimin</td>\n",
       "      <td>coldplay</td>\n",
       "      <td>30</td>\n",
       "    </tr>\n",
       "    <tr>\n",
       "      <th>4</th>\n",
       "      <td>zimin</td>\n",
       "      <td>beyoncé</td>\n",
       "      <td>30</td>\n",
       "    </tr>\n",
       "  </tbody>\n",
       "</table>\n",
       "</div>"
      ],
      "text/plain": [
       "               user_id           artist  play\n",
       "17535650  sep 20, 2008       turbostaat    12\n",
       "17535651  sep 20, 2008    cuba missouri    11\n",
       "17535652  sep 20, 2008  little man tate    11\n",
       "17535653  sep 20, 2008        sigur rós    10\n",
       "17535654  sep 20, 2008       the smiths    10\n",
       "0                zimin  black eyed peas    30\n",
       "1                zimin          maroon5    30\n",
       "2                zimin       jason mraz    30\n",
       "3                zimin         coldplay    30\n",
       "4                zimin          beyoncé    30"
      ]
     },
     "execution_count": 7,
     "metadata": {},
     "output_type": "execute_result"
    }
   ],
   "source": [
    "# 본인이 좋아하시는 아티스트 데이터로 바꿔서 추가하셔도 됩니다! 단, 이름은 꼭 데이터셋에 있는 것과 동일하게 맞춰주세요. \n",
    "my_favorite = ['black eyed peas' , 'maroon5' ,'jason mraz' ,'coldplay' ,'beyoncé']\n",
    "\n",
    "# 'zimin'이라는 user_id가 위 아티스트의 노래를 30회씩 들었다고 가정하겠습니다.\n",
    "my_playlist = pd.DataFrame({'user_id': ['zimin']*5, 'artist': my_favorite, 'play':[30]*5})\n",
    "\n",
    "if not data.isin({'user_id':['zimin']})['user_id'].any():  # user_id에 'zimin'이라는 데이터가 없다면\n",
    "    data = data.append(my_playlist)                           # 위에 임의로 만든 my_favorite 데이터를 추가해 줍니다. \n",
    "\n",
    "data.tail(10)       # 잘 추가되었는지 확인해 봅시다."
   ]
  },
  {
   "cell_type": "markdown",
   "id": "thirty-spotlight",
   "metadata": {},
   "source": [
    "### 교유한 유저, 아티스트 코드 변환"
   ]
  },
  {
   "cell_type": "code",
   "execution_count": 8,
   "id": "sought-appeal",
   "metadata": {},
   "outputs": [],
   "source": [
    "# 고유한 유저, 아티스트를 찾아내는 코드\n",
    "user_unique = data['user_id'].unique()\n",
    "artist_unique = data['artist'].unique()\n",
    "\n",
    "# 유저, 아티스트 indexing 하는 코드 idx는 index의 약자입니다.\n",
    "user_to_idx = {v:k for k,v in enumerate(user_unique)}\n",
    "artist_to_idx = {v:k for k,v in enumerate(artist_unique)}"
   ]
  },
  {
   "cell_type": "code",
   "execution_count": 9,
   "id": "invalid-peoples",
   "metadata": {},
   "outputs": [
    {
     "name": "stdout",
     "output_type": "stream",
     "text": [
      "358868\n",
      "376\n"
     ]
    }
   ],
   "source": [
    "# 인덱싱이 잘 되었는지 확인해 봅니다. \n",
    "print(user_to_idx['zimin'])    # 358869명의 유저 중 마지막으로 추가된 유저이니 358868이 나와야 합니다. \n",
    "print(artist_to_idx['black eyed peas'])"
   ]
  },
  {
   "cell_type": "markdown",
   "id": "hourly-drawing",
   "metadata": {},
   "source": [
    "### DataFrame에 유저, 아티스트 코드 적용(map 메소드)"
   ]
  },
  {
   "cell_type": "code",
   "execution_count": 19,
   "id": "selected-thread",
   "metadata": {},
   "outputs": [
    {
     "name": "stdout",
     "output_type": "stream",
     "text": [
      "user_id column indexing OK!!\n",
      "artist column indexing OK!!\n"
     ]
    },
    {
     "data": {
      "text/html": [
       "<div>\n",
       "<style scoped>\n",
       "    .dataframe tbody tr th:only-of-type {\n",
       "        vertical-align: middle;\n",
       "    }\n",
       "\n",
       "    .dataframe tbody tr th {\n",
       "        vertical-align: top;\n",
       "    }\n",
       "\n",
       "    .dataframe thead th {\n",
       "        text-align: right;\n",
       "    }\n",
       "</style>\n",
       "<table border=\"1\" class=\"dataframe\">\n",
       "  <thead>\n",
       "    <tr style=\"text-align: right;\">\n",
       "      <th></th>\n",
       "      <th>user_id</th>\n",
       "      <th>artist</th>\n",
       "      <th>play</th>\n",
       "    </tr>\n",
       "  </thead>\n",
       "  <tbody>\n",
       "    <tr>\n",
       "      <th>0</th>\n",
       "      <td>0</td>\n",
       "      <td>0</td>\n",
       "      <td>2137</td>\n",
       "    </tr>\n",
       "    <tr>\n",
       "      <th>1</th>\n",
       "      <td>0</td>\n",
       "      <td>1</td>\n",
       "      <td>1099</td>\n",
       "    </tr>\n",
       "    <tr>\n",
       "      <th>2</th>\n",
       "      <td>0</td>\n",
       "      <td>2</td>\n",
       "      <td>897</td>\n",
       "    </tr>\n",
       "    <tr>\n",
       "      <th>3</th>\n",
       "      <td>0</td>\n",
       "      <td>3</td>\n",
       "      <td>717</td>\n",
       "    </tr>\n",
       "    <tr>\n",
       "      <th>4</th>\n",
       "      <td>0</td>\n",
       "      <td>4</td>\n",
       "      <td>706</td>\n",
       "    </tr>\n",
       "    <tr>\n",
       "      <th>...</th>\n",
       "      <td>...</td>\n",
       "      <td>...</td>\n",
       "      <td>...</td>\n",
       "    </tr>\n",
       "    <tr>\n",
       "      <th>0</th>\n",
       "      <td>358868</td>\n",
       "      <td>376</td>\n",
       "      <td>30</td>\n",
       "    </tr>\n",
       "    <tr>\n",
       "      <th>1</th>\n",
       "      <td>358868</td>\n",
       "      <td>270114</td>\n",
       "      <td>30</td>\n",
       "    </tr>\n",
       "    <tr>\n",
       "      <th>2</th>\n",
       "      <td>358868</td>\n",
       "      <td>3746</td>\n",
       "      <td>30</td>\n",
       "    </tr>\n",
       "    <tr>\n",
       "      <th>3</th>\n",
       "      <td>358868</td>\n",
       "      <td>62</td>\n",
       "      <td>30</td>\n",
       "    </tr>\n",
       "    <tr>\n",
       "      <th>4</th>\n",
       "      <td>358868</td>\n",
       "      <td>396</td>\n",
       "      <td>30</td>\n",
       "    </tr>\n",
       "  </tbody>\n",
       "</table>\n",
       "<p>17535456 rows × 3 columns</p>\n",
       "</div>"
      ],
      "text/plain": [
       "    user_id  artist  play\n",
       "0         0       0  2137\n",
       "1         0       1  1099\n",
       "2         0       2   897\n",
       "3         0       3   717\n",
       "4         0       4   706\n",
       "..      ...     ...   ...\n",
       "0    358868     376    30\n",
       "1    358868  270114    30\n",
       "2    358868    3746    30\n",
       "3    358868      62    30\n",
       "4    358868     396    30\n",
       "\n",
       "[17535456 rows x 3 columns]"
      ]
     },
     "execution_count": 19,
     "metadata": {},
     "output_type": "execute_result"
    }
   ],
   "source": [
    "# indexing을 통해 데이터 컬럼 내 값을 바꾸는 코드\n",
    "# dictionary 자료형의 get 함수는 https://wikidocs.net/16 을 참고하세요.\n",
    "\n",
    "# user_to_idx.get을 통해 user_id 컬럼의 모든 값을 인덱싱한 Series를 구해 봅시다. \n",
    "# 혹시 정상적으로 인덱싱되지 않은 row가 있다면 인덱스가 NaN이 될 테니 dropna()로 제거합니다. \n",
    "temp_user_data = data['user_id'].map(user_to_idx).dropna()\n",
    "if len(temp_user_data) == len(data):   # 모든 row가 정상적으로 인덱싱되었다면\n",
    "    print('user_id column indexing OK!!')\n",
    "    data['user_id'] = temp_user_data   # data['user_id']을 인덱싱된 Series로 교체해 줍니다. \n",
    "else:\n",
    "    print('user_id column indexing Fail!!')\n",
    "\n",
    "# artist_to_idx을 통해 artist 컬럼도 동일한 방식으로 인덱싱해 줍니다. \n",
    "temp_artist_data = data['artist'].map(artist_to_idx).dropna()\n",
    "if len(temp_artist_data) == len(data):\n",
    "    print('artist column indexing OK!!')\n",
    "    data['artist'] = temp_artist_data\n",
    "else:\n",
    "    print('artist column indexing Fail!!')\n",
    "\n",
    "data"
   ]
  },
  {
   "cell_type": "markdown",
   "id": "elect-lobby",
   "metadata": {},
   "source": [
    "### 1회만 플레이한 데이터 비율"
   ]
  },
  {
   "cell_type": "code",
   "execution_count": 20,
   "id": "photographic-twins",
   "metadata": {},
   "outputs": [
    {
     "name": "stdout",
     "output_type": "stream",
     "text": [
      "147737,17535456\n",
      "Ratio of only_one over all data is 0.84%\n"
     ]
    }
   ],
   "source": [
    "# 1회만 play한 데이터의 비율을 보는 코드\n",
    "only_one = data[data['play']<2]\n",
    "one, all_data = len(only_one), len(data)\n",
    "print(f'{one},{all_data}')\n",
    "print(f'Ratio of only_one over all data is {one/all_data:.2%}')  # f-format에 대한 설명은 https://bit.ly/2DTLqYU"
   ]
  },
  {
   "cell_type": "markdown",
   "id": "copyrighted-curtis",
   "metadata": {},
   "source": [
    "### CSR Matrix 생성"
   ]
  },
  {
   "cell_type": "code",
   "execution_count": 64,
   "id": "ecological-consumption",
   "metadata": {},
   "outputs": [
    {
     "data": {
      "text/plain": [
       "291346"
      ]
     },
     "execution_count": 64,
     "metadata": {},
     "output_type": "execute_result"
    }
   ],
   "source": [
    "num_artist"
   ]
  },
  {
   "cell_type": "code",
   "execution_count": 65,
   "id": "shared-breakfast",
   "metadata": {},
   "outputs": [
    {
     "data": {
      "text/plain": [
       "291345"
      ]
     },
     "execution_count": 65,
     "metadata": {},
     "output_type": "execute_result"
    }
   ],
   "source": [
    "max(data.artist)"
   ]
  },
  {
   "cell_type": "code",
   "execution_count": 63,
   "id": "clean-cabinet",
   "metadata": {},
   "outputs": [
    {
     "data": {
      "text/plain": [
       "358869"
      ]
     },
     "execution_count": 63,
     "metadata": {},
     "output_type": "execute_result"
    }
   ],
   "source": [
    "num_user"
   ]
  },
  {
   "cell_type": "code",
   "execution_count": 62,
   "id": "crucial-consistency",
   "metadata": {},
   "outputs": [
    {
     "data": {
      "text/plain": [
       "358868"
      ]
     },
     "execution_count": 62,
     "metadata": {},
     "output_type": "execute_result"
    }
   ],
   "source": [
    "max(data.user_id)"
   ]
  },
  {
   "cell_type": "code",
   "execution_count": 21,
   "id": "conservative-anniversary",
   "metadata": {},
   "outputs": [
    {
     "data": {
      "text/plain": [
       "<358869x291346 sparse matrix of type '<class 'numpy.longlong'>'\n",
       "\twith 17535374 stored elements in Compressed Sparse Row format>"
      ]
     },
     "execution_count": 21,
     "metadata": {},
     "output_type": "execute_result"
    }
   ],
   "source": [
    "# 실습 위에 설명보고 이해해서 만들어보기\n",
    "from scipy.sparse import csr_matrix\n",
    "\n",
    "num_user = data['user_id'].nunique()\n",
    "num_artist = data['artist'].nunique()\n",
    "\n",
    "csr_data = csr_matrix((data.play, (data.user_id, data.artist)), shape= (num_user, num_artist))\n",
    "csr_data"
   ]
  },
  {
   "cell_type": "markdown",
   "id": "bulgarian-series",
   "metadata": {},
   "source": [
    "# MF 모델 학습"
   ]
  },
  {
   "cell_type": "markdown",
   "id": "thousand-marketing",
   "metadata": {},
   "source": [
    "### 옵션 setting"
   ]
  },
  {
   "cell_type": "code",
   "execution_count": 24,
   "id": "massive-cambodia",
   "metadata": {},
   "outputs": [],
   "source": [
    "from implicit.als import AlternatingLeastSquares\n",
    "import os\n",
    "import numpy as np\n",
    "\n",
    "# implicit 라이브러리에서 권장하고 있는 부분입니다. 학습 내용과는 무관합니다.\n",
    "os.environ['OPENBLAS_NUM_THREADS']='1'\n",
    "os.environ['KMP_DUPLICATE_LIB_OK']='True'\n",
    "os.environ['MKL_NUM_THREADS']='1'"
   ]
  },
  {
   "cell_type": "markdown",
   "id": "eligible-hearts",
   "metadata": {},
   "source": [
    "### Implicit AlternatingLeastSquares 모델 선언"
   ]
  },
  {
   "cell_type": "code",
   "execution_count": 38,
   "id": "herbal-arbor",
   "metadata": {},
   "outputs": [],
   "source": [
    "# Implicit AlternatingLeastSquares 모델의 선언\n",
    "als_model = AlternatingLeastSquares(factors=100, regularization=0.01, use_gpu=False, iterations=15, dtype=np.float32)"
   ]
  },
  {
   "cell_type": "code",
   "execution_count": 39,
   "id": "annual-blank",
   "metadata": {},
   "outputs": [
    {
     "data": {
      "text/plain": [
       "<291346x358869 sparse matrix of type '<class 'numpy.longlong'>'\n",
       "\twith 17535374 stored elements in Compressed Sparse Column format>"
      ]
     },
     "execution_count": 39,
     "metadata": {},
     "output_type": "execute_result"
    }
   ],
   "source": [
    "# als 모델은 input으로 (item X user 꼴의 matrix를 받기 때문에 Transpose해줍니다.)\n",
    "csr_data_transpose = csr_data.T\n",
    "csr_data_transpose"
   ]
  },
  {
   "cell_type": "code",
   "execution_count": 40,
   "id": "registered-curtis",
   "metadata": {},
   "outputs": [
    {
     "data": {
      "application/vnd.jupyter.widget-view+json": {
       "model_id": "adace579ec2743a3af29867cd488dd59",
       "version_major": 2,
       "version_minor": 0
      },
      "text/plain": [
       "  0%|          | 0/15 [00:00<?, ?it/s]"
      ]
     },
     "metadata": {},
     "output_type": "display_data"
    }
   ],
   "source": [
    "# 모델 훈련\n",
    "als_model.fit(csr_data_transpose)"
   ]
  },
  {
   "cell_type": "markdown",
   "id": "proved-thought",
   "metadata": {},
   "source": [
    "# 학습 결과"
   ]
  },
  {
   "cell_type": "code",
   "execution_count": 46,
   "id": "ahead-backup",
   "metadata": {},
   "outputs": [
    {
     "name": "stdout",
     "output_type": "stream",
     "text": [
      "슝=3\n"
     ]
    }
   ],
   "source": [
    "zimin, black_eyed_peas = user_to_idx['zimin'], artist_to_idx['black eyed peas']\n",
    "zimin_vector, black_eyed_peas_vector = als_model.user_factors[zimin], als_model.item_factors[black_eyed_peas]\n",
    "\n",
    "print('슝=3')"
   ]
  },
  {
   "cell_type": "code",
   "execution_count": 47,
   "id": "spiritual-feedback",
   "metadata": {},
   "outputs": [
    {
     "data": {
      "text/plain": [
       "(100,)"
      ]
     },
     "execution_count": 47,
     "metadata": {},
     "output_type": "execute_result"
    }
   ],
   "source": [
    "zimin_vector.shape"
   ]
  },
  {
   "cell_type": "code",
   "execution_count": 48,
   "id": "weekly-pierce",
   "metadata": {},
   "outputs": [
    {
     "data": {
      "text/plain": [
       "(100,)"
      ]
     },
     "execution_count": 48,
     "metadata": {},
     "output_type": "execute_result"
    }
   ],
   "source": [
    "black_eyed_peas_vector.shape"
   ]
  },
  {
   "cell_type": "code",
   "execution_count": 49,
   "id": "sweet-crystal",
   "metadata": {},
   "outputs": [
    {
     "data": {
      "text/plain": [
       "0.5133416"
      ]
     },
     "execution_count": 49,
     "metadata": {},
     "output_type": "execute_result"
    }
   ],
   "source": [
    "# zimin과 black_eyed_peas를 내적하는 코드\n",
    "np.dot(zimin_vector, black_eyed_peas_vector)"
   ]
  },
  {
   "cell_type": "code",
   "execution_count": 50,
   "id": "sweet-humanity",
   "metadata": {},
   "outputs": [
    {
     "data": {
      "text/plain": [
       "0.30006394"
      ]
     },
     "execution_count": 50,
     "metadata": {},
     "output_type": "execute_result"
    }
   ],
   "source": [
    "queen = artist_to_idx['queen']\n",
    "queen_vector = als_model.item_factors[queen]\n",
    "np.dot(zimin_vector, queen_vector)"
   ]
  },
  {
   "cell_type": "markdown",
   "id": "aggressive-manual",
   "metadata": {},
   "source": [
    "# 비슷한 아티스트 찾기"
   ]
  },
  {
   "cell_type": "code",
   "execution_count": 51,
   "id": "raised-tenant",
   "metadata": {},
   "outputs": [
    {
     "data": {
      "text/plain": [
       "[(62, 0.9999999),\n",
       " (277, 0.98638356),\n",
       " (28, 0.9826765),\n",
       " (5, 0.97912085),\n",
       " (473, 0.9688477),\n",
       " (217, 0.96805793),\n",
       " (418, 0.9660216),\n",
       " (490, 0.9639395),\n",
       " (247, 0.9605016),\n",
       " (694, 0.95726854),\n",
       " (910, 0.95175505),\n",
       " (782, 0.9456964),\n",
       " (1018, 0.9426752),\n",
       " (55, 0.9415287),\n",
       " (268, 0.93667805)]"
      ]
     },
     "execution_count": 51,
     "metadata": {},
     "output_type": "execute_result"
    }
   ],
   "source": [
    "favorite_artist = 'coldplay'\n",
    "artist_id = artist_to_idx[favorite_artist]\n",
    "similar_artist = als_model.similar_items(artist_id, N=15)\n",
    "similar_artist"
   ]
  },
  {
   "cell_type": "markdown",
   "id": "missing-elevation",
   "metadata": {},
   "source": [
    "### 아티스트 id를 이름으로 변환"
   ]
  },
  {
   "cell_type": "code",
   "execution_count": 52,
   "id": "general-perspective",
   "metadata": {},
   "outputs": [
    {
     "data": {
      "text/plain": [
       "['coldplay',\n",
       " 'muse',\n",
       " 'the killers',\n",
       " 'red hot chili peppers',\n",
       " 'placebo',\n",
       " 'radiohead',\n",
       " 'u2',\n",
       " 'oasis',\n",
       " 'the beatles',\n",
       " 'foo fighters',\n",
       " 'nirvana',\n",
       " 'the white stripes',\n",
       " 'the smashing pumpkins',\n",
       " 'arctic monkeys',\n",
       " 'pink floyd']"
      ]
     },
     "execution_count": 52,
     "metadata": {},
     "output_type": "execute_result"
    }
   ],
   "source": [
    "#artist_to_idx 를 뒤집어, index로부터 artist 이름을 얻는 dict를 생성합니다. \n",
    "idx_to_artist = {v:k for k,v in artist_to_idx.items()}\n",
    "[idx_to_artist[i[0]] for i in similar_artist]"
   ]
  },
  {
   "cell_type": "markdown",
   "id": "nominated-average",
   "metadata": {},
   "source": [
    "### 비슷한 아티스트 찾기 메소드"
   ]
  },
  {
   "cell_type": "code",
   "execution_count": 53,
   "id": "attempted-lithuania",
   "metadata": {},
   "outputs": [
    {
     "name": "stdout",
     "output_type": "stream",
     "text": [
      "슝=3\n"
     ]
    }
   ],
   "source": [
    "def get_similar_artist(artist_name: str):\n",
    "    artist_id = artist_to_idx[artist_name]\n",
    "    similar_artist = als_model.similar_items(artist_id)\n",
    "    similar_artist = [idx_to_artist[i[0]] for i in similar_artist]\n",
    "    return similar_artist\n",
    "\n",
    "print(\"슝=3\")"
   ]
  },
  {
   "cell_type": "code",
   "execution_count": 54,
   "id": "lyric-league",
   "metadata": {},
   "outputs": [
    {
     "data": {
      "text/plain": [
       "['2pac',\n",
       " 'dr. dre',\n",
       " 'notorious b.i.g.',\n",
       " 'jay-z',\n",
       " 'nas',\n",
       " 'the game',\n",
       " '50 cent',\n",
       " 'lil wayne',\n",
       " 't.i.',\n",
       " 'outkast']"
      ]
     },
     "execution_count": 54,
     "metadata": {},
     "output_type": "execute_result"
    }
   ],
   "source": [
    "get_similar_artist('2pac')"
   ]
  },
  {
   "cell_type": "code",
   "execution_count": 55,
   "id": "fifty-staff",
   "metadata": {},
   "outputs": [
    {
     "data": {
      "text/plain": [
       "['lady gaga',\n",
       " 'britney spears',\n",
       " 'rihanna',\n",
       " 'katy perry',\n",
       " 'beyoncé',\n",
       " 'the pussycat dolls',\n",
       " 'kelly clarkson',\n",
       " 'justin timberlake',\n",
       " 'christina aguilera',\n",
       " 'leona lewis']"
      ]
     },
     "execution_count": 55,
     "metadata": {},
     "output_type": "execute_result"
    }
   ],
   "source": [
    "get_similar_artist('lady gaga')"
   ]
  },
  {
   "cell_type": "markdown",
   "id": "sized-objective",
   "metadata": {},
   "source": [
    "# 유저에게 아티스트 추천하기"
   ]
  },
  {
   "cell_type": "code",
   "execution_count": 58,
   "id": "amino-camping",
   "metadata": {},
   "outputs": [
    {
     "data": {
      "text/plain": [
       "['rihanna',\n",
       " 'maroon 5',\n",
       " 'justin timberlake',\n",
       " 'britney spears',\n",
       " 'lady gaga',\n",
       " 'michael jackson',\n",
       " 'katy perry',\n",
       " 'nelly furtado',\n",
       " 'madonna',\n",
       " 'christina aguilera',\n",
       " 'alicia keys',\n",
       " 'amy winehouse',\n",
       " 'avril lavigne',\n",
       " 'kanye west',\n",
       " 'lily allen',\n",
       " 'timbaland',\n",
       " 'the pussycat dolls',\n",
       " 'pink',\n",
       " 'mika',\n",
       " 'eminem']"
      ]
     },
     "execution_count": 58,
     "metadata": {},
     "output_type": "execute_result"
    }
   ],
   "source": [
    "user = user_to_idx['zimin']\n",
    "# recommend에서는 user*item CSR Matrix를 받습니다.\n",
    "artist_recommended = als_model.recommend(user, csr_data, N=20, filter_already_liked_items=True)\n",
    "[idx_to_artist[i[0]] for i in artist_recommended]"
   ]
  },
  {
   "cell_type": "code",
   "execution_count": 60,
   "id": "offshore-knock",
   "metadata": {},
   "outputs": [
    {
     "data": {
      "text/plain": [
       "[('beyoncé', 0.21438093759895444),\n",
       " ('black eyed peas', 0.1502392131184494),\n",
       " ('jason mraz', 0.05725035605838657),\n",
       " ('coldplay', 0.03758146855751858),\n",
       " ('maroon5', 0.0003468125101411516)]"
      ]
     },
     "execution_count": 60,
     "metadata": {},
     "output_type": "execute_result"
    }
   ],
   "source": [
    "rihanna = artist_to_idx['rihanna']\n",
    "explain = als_model.explain(user, csr_data, itemid=rihanna)\n",
    "[(idx_to_artist[i[0]], i[1]) for i in explain[1]]"
   ]
  }
 ],
 "metadata": {
  "kernelspec": {
   "display_name": "Python 3",
   "language": "python",
   "name": "python3"
  },
  "language_info": {
   "codemirror_mode": {
    "name": "ipython",
    "version": 3
   },
   "file_extension": ".py",
   "mimetype": "text/x-python",
   "name": "python",
   "nbconvert_exporter": "python",
   "pygments_lexer": "ipython3",
   "version": "3.7.9"
  }
 },
 "nbformat": 4,
 "nbformat_minor": 5
}
